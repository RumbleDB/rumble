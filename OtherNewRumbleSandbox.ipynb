{
 "cells": [
  {
   "cell_type": "markdown",
   "metadata": {},
   "source": [
    "# <center>RumbleDB sandbox</center>\n"
   ]
  },
  {
   "cell_type": "markdown",
   "metadata": {},
   "source": [
    "This is a RumbleDB notebook that allows you to play with simple JSONiq queries.\n",
    "\n",
    "It is a jupyter notebook that you can also download and execute on your own machine, but if you arrived here from the RumbleDB website, it is likely to be shown within Google's Colab environment.\n",
    "\n",
    "To get started, we first need to make sure Java 17 (or 21) is installed.\n",
    "\n",
    "The following cell was prepared to install Java when using Google Colab (or for Ubuntu generally), which is the setup that jsoniq.org and rumbledb.org link to. If you downloaded the notebook and have another Operating System than Linux, you need to use the Java install command corresponding to your Operating System for this to work.\n",
    "\n",
    "The warnings can be ignored."
   ]
  },
  {
   "cell_type": "code",
   "execution_count": 1,
   "metadata": {},
   "outputs": [
    {
     "name": "stdout",
     "output_type": "stream",
     "text": [
      "zsh:1: command not found: apt\n",
      "zsh:1: command not found: apt\n"
     ]
    }
   ],
   "source": [
    "# We make sure Java 17 is installed.\n",
    "!apt update\n",
    "!apt install openjdk-17-jdk\n"
   ]
  },
  {
   "cell_type": "markdown",
   "metadata": {},
   "source": [
    "Now we check the Java version. It should return 17. If it does not say 17 or 21, then this needs to be fixed for the rest of the notebook to work."
   ]
  },
  {
   "cell_type": "code",
   "execution_count": 2,
   "metadata": {},
   "outputs": [
    {
     "name": "stdout",
     "output_type": "stream",
     "text": [
      "openjdk version \"17.0.13\" 2024-10-15\n",
      "OpenJDK Runtime Environment Temurin-17.0.13+11 (build 17.0.13+11)\n",
      "OpenJDK 64-Bit Server VM Temurin-17.0.13+11 (build 17.0.13+11, mixed mode, sharing)\n"
     ]
    }
   ],
   "source": [
    "!java -version"
   ]
  },
  {
   "cell_type": "markdown",
   "metadata": {},
   "source": [
    "Now we install the jsoniq Python library."
   ]
  },
  {
   "cell_type": "code",
   "execution_count": 5,
   "metadata": {},
   "outputs": [
    {
     "name": "stdout",
     "output_type": "stream",
     "text": [
      "Collecting jsoniq\n",
      "  Downloading jsoniq-0.2.0a5-py3-none-any.whl.metadata (33 kB)\n",
      "Requirement already satisfied: pyspark==4.0 in /Users/ghislain/.pyenv/versions/3.11.9/lib/python3.11/site-packages (from jsoniq) (4.0.0)\n",
      "Requirement already satisfied: pandas>=2.2 in /Users/ghislain/.pyenv/versions/3.11.9/lib/python3.11/site-packages (from jsoniq) (2.3.0)\n",
      "Requirement already satisfied: py4j==0.10.9.9 in /Users/ghislain/.pyenv/versions/3.11.9/lib/python3.11/site-packages (from pyspark==4.0->jsoniq) (0.10.9.9)\n",
      "Requirement already satisfied: numpy>=1.23.2 in /Users/ghislain/.pyenv/versions/3.11.9/lib/python3.11/site-packages (from pandas>=2.2->jsoniq) (1.24.4)\n",
      "Requirement already satisfied: python-dateutil>=2.8.2 in /Users/ghislain/.pyenv/versions/3.11.9/lib/python3.11/site-packages (from pandas>=2.2->jsoniq) (2.9.0.post0)\n",
      "Requirement already satisfied: pytz>=2020.1 in /Users/ghislain/.pyenv/versions/3.11.9/lib/python3.11/site-packages (from pandas>=2.2->jsoniq) (2024.2)\n",
      "Requirement already satisfied: tzdata>=2022.7 in /Users/ghislain/.pyenv/versions/3.11.9/lib/python3.11/site-packages (from pandas>=2.2->jsoniq) (2024.2)\n",
      "Requirement already satisfied: six>=1.5 in /Users/ghislain/.pyenv/versions/3.11.9/lib/python3.11/site-packages (from python-dateutil>=2.8.2->pandas>=2.2->jsoniq) (1.16.0)\n",
      "Downloading jsoniq-0.2.0a5-py3-none-any.whl (27.8 MB)\n",
      "\u001b[2K   \u001b[90m━━━━━━━━━━━━━━━━━━━━━━━━━━━━━━━━━━━━━━━━\u001b[0m \u001b[32m27.8/27.8 MB\u001b[0m \u001b[31m8.7 MB/s\u001b[0m eta \u001b[36m0:00:00\u001b[0m00:01\u001b[0m00:01\u001b[0m\n",
      "\u001b[?25hInstalling collected packages: jsoniq\n",
      "Successfully installed jsoniq-0.2.0a5\n",
      "\n",
      "\u001b[1m[\u001b[0m\u001b[34;49mnotice\u001b[0m\u001b[1;39;49m]\u001b[0m\u001b[39;49m A new release of pip is available: \u001b[0m\u001b[31;49m25.1.1\u001b[0m\u001b[39;49m -> \u001b[0m\u001b[32;49m25.2\u001b[0m\n",
      "\u001b[1m[\u001b[0m\u001b[34;49mnotice\u001b[0m\u001b[1;39;49m]\u001b[0m\u001b[39;49m To update, run: \u001b[0m\u001b[32;49mpip install --upgrade pip\u001b[0m\n"
     ]
    }
   ],
   "source": [
    "!pip install jsoniq"
   ]
  },
  {
   "cell_type": "markdown",
   "metadata": {},
   "source": [
    "Here, the JSONiq queries are executed locally to the notebook. Advanced users can also run a large Spark cluster and execute JSONiq queries on Petabytes of data.\n",
    "\n",
    "JSONiq queries can generally be evaluated in Python as follows. It is possible to provide as input Python dicts, lists, pandas DataFrames, and it is possible to retrieve the results as Python values, pandas DataFrames, etc."
   ]
  },
  {
   "cell_type": "code",
   "execution_count": 1,
   "metadata": {},
   "outputs": [
    {
     "name": "stderr",
     "output_type": "stream",
     "text": [
      "WARNING: Using incubator modules: jdk.incubator.vector\n",
      ":: loading settings :: url = jar:file:/Users/ghislain/.pyenv/versions/3.11.9/lib/python3.11/site-packages/pyspark/jars/ivy-2.5.3.jar!/org/apache/ivy/core/settings/ivysettings.xml\n",
      "Ivy Default Cache set to: /Users/ghislain/.ivy2.5.2/cache\n",
      "The jars for the packages stored in: /Users/ghislain/.ivy2.5.2/jars\n",
      "io.delta#delta-spark_2.13 added as a dependency\n",
      ":: resolving dependencies :: org.apache.spark#spark-submit-parent-092980cc-9585-49dc-b763-c7d685f1a7f2;1.0\n",
      "\tconfs: [default]\n",
      "\tfound io.delta#delta-spark_2.13;4.0.0 in local-m2-cache\n",
      "\tfound io.delta#delta-storage;4.0.0 in local-m2-cache\n",
      "\tfound org.antlr#antlr4-runtime;4.13.1 in local-m2-cache\n",
      ":: resolution report :: resolve 65ms :: artifacts dl 2ms\n",
      "\t:: modules in use:\n",
      "\tio.delta#delta-spark_2.13;4.0.0 from local-m2-cache in [default]\n",
      "\tio.delta#delta-storage;4.0.0 from local-m2-cache in [default]\n",
      "\torg.antlr#antlr4-runtime;4.13.1 from local-m2-cache in [default]\n",
      "\t---------------------------------------------------------------------\n",
      "\t|                  |            modules            ||   artifacts   |\n",
      "\t|       conf       | number| search|dwnlded|evicted|| number|dwnlded|\n",
      "\t---------------------------------------------------------------------\n",
      "\t|      default     |   3   |   0   |   0   |   0   ||   3   |   0   |\n",
      "\t---------------------------------------------------------------------\n",
      ":: retrieving :: org.apache.spark#spark-submit-parent-092980cc-9585-49dc-b763-c7d685f1a7f2\n",
      "\tconfs: [default]\n",
      "\t0 artifacts copied, 3 already retrieved (0kB/2ms)\n",
      "25/08/08 12:09:16 WARN NativeCodeLoader: Unable to load native-hadoop library for your platform... using builtin-java classes where applicable\n",
      "Using Spark's default log4j profile: org/apache/spark/log4j2-defaults.properties\n",
      "Setting default log level to \"WARN\".\n",
      "To adjust logging level use sc.setLogLevel(newLevel). For SparkR, use setLogLevel(newLevel).\n",
      "25/08/08 12:09:16 WARN Utils: Service 'SparkUI' could not bind on port 4040. Attempting port 4041.\n"
     ]
    },
    {
     "name": "stdout",
     "output_type": "stream",
     "text": [
      "({'foo': [42]},)\n"
     ]
    }
   ],
   "source": [
    "from jsoniq import RumbleSession\n",
    "\n",
    "rumble = RumbleSession.builder.withDelta().getOrCreate();\n",
    "\n",
    "print(rumble.jsoniq('{ \"foo\": [ 6*7 ] }').json());"
   ]
  },
  {
   "cell_type": "code",
   "execution_count": 9,
   "metadata": {},
   "outputs": [],
   "source": [
    "import os\n",
    "del os.environ['SPARK_HOME']"
   ]
  },
  {
   "cell_type": "markdown",
   "metadata": {},
   "source": [
    "However, for convenience, we activate the jsoniq magic. This means you can directly type the JSONiq queries in a notebook cell, without needing to wrap them inside rumble.jsoniq() calls. This makes it easier to read."
   ]
  },
  {
   "cell_type": "code",
   "execution_count": 4,
   "metadata": {},
   "outputs": [
    {
     "data": {
      "text/plain": [
       "JavaObject id=o56"
      ]
     },
     "execution_count": 4,
     "metadata": {},
     "output_type": "execute_result"
    }
   ],
   "source": [
    "%load_ext jsoniqmagic\n",
    "# We will display the first 5 items. This parameter can be changed.\n",
    "rumble.getRumbleConf().setResultSizeCap(5)"
   ]
  },
  {
   "cell_type": "code",
   "execution_count": 6,
   "metadata": {},
   "outputs": [
    {
     "name": "stdout",
     "output_type": "stream",
     "text": [
      "{\n",
      "  \"foobar\": 1\n",
      "}\n"
     ]
    }
   ],
   "source": [
    "%%jsoniq\n",
    "{\"foobar\":1}"
   ]
  },
  {
   "cell_type": "markdown",
   "metadata": {},
   "source": [
    "## JSON\n",
    "\n",
    "As explained on the [official JSON Web site](http://www.json.org/), JSON is a lightweight data-interchange format designed for humans as well as for computers. It supports as values:\n",
    "- objects (string-to-value maps)\n",
    "- arrays (ordered sequences of values)\n",
    "- strings\n",
    "- numbers\n",
    "- booleans (true, false)\n",
    "- null\n",
    "\n",
    "JSONiq provides declarative querying and updating capabilities on JSON data.\n",
    "\n",
    "## Elevator Pitch\n",
    "\n",
    "JSONiq is based on XQuery, which is a W3C standard (like XML and HTML). XQuery is a very powerful declarative language that originally manipulates XML data, but it turns out that it is also a very good fit for manipulating JSON natively.\n",
    "JSONiq, since it extends XQuery, is a very powerful general-purpose declarative programming language. Our experience is that, for the same task, you will probably write about 80% less code compared to imperative languages like JavaScript, Python or Ruby. Additionally, you get the benefits of strong type checking without actually having to write type declarations.\n",
    "Here is an appetizer before we start the tutorial from scratch.\n"
   ]
  },
  {
   "cell_type": "code",
   "execution_count": 7,
   "metadata": {},
   "outputs": [
    {
     "name": "stdout",
     "output_type": "stream",
     "text": [
      "[\n",
      "  {\n",
      "    \"nb\": 1,\n",
      "    \"state\": \"MA\",\n",
      "    \"sold\": \"broiler\"\n",
      "  },\n",
      "  {\n",
      "    \"nb\": 1,\n",
      "    \"state\": \"MA\",\n",
      "    \"sold\": \"socks\"\n",
      "  },\n",
      "  {\n",
      "    \"nb\": 2,\n",
      "    \"state\": \"MA\",\n",
      "    \"sold\": \"toaster\"\n",
      "  },\n",
      "  {\n",
      "    \"nb\": 2,\n",
      "    \"state\": \"MA\",\n",
      "    \"sold\": \"toaster\"\n",
      "  },\n",
      "  {\n",
      "    \"nb\": 2,\n",
      "    \"state\": \"MA\",\n",
      "    \"sold\": \"socks\"\n",
      "  },\n",
      "  {\n",
      "    \"nb\": 3,\n",
      "    \"state\": \"CA\",\n",
      "    \"sold\": \"toaster\"\n",
      "  },\n",
      "  {\n",
      "    \"nb\": 3,\n",
      "    \"state\": \"CA\",\n",
      "    \"sold\": \"blender\"\n",
      "  },\n",
      "  {\n",
      "    \"nb\": 3,\n",
      "    \"state\": \"CA\",\n",
      "    \"sold\": \"blender\"\n",
      "  },\n",
      "  {\n",
      "    \"nb\": 3,\n",
      "    \"state\": \"CA\",\n",
      "    \"sold\": \"shirt\"\n",
      "  }\n",
      "]\n"
     ]
    }
   ],
   "source": [
    "%%jsoniq\n",
    "\n",
    "let $stores :=\n",
    "[\n",
    "  { \"store number\" : 1, \"state\" : \"MA\" },\n",
    "  { \"store number\" : 2, \"state\" : \"MA\" },\n",
    "  { \"store number\" : 3, \"state\" : \"CA\" },\n",
    "  { \"store number\" : 4, \"state\" : \"CA\" }\n",
    "]\n",
    "let $sales := [\n",
    "   { \"product\" : \"broiler\", \"store number\" : 1, \"quantity\" : 20  },\n",
    "   { \"product\" : \"toaster\", \"store number\" : 2, \"quantity\" : 100 },\n",
    "   { \"product\" : \"toaster\", \"store number\" : 2, \"quantity\" : 50 },\n",
    "   { \"product\" : \"toaster\", \"store number\" : 3, \"quantity\" : 50 },\n",
    "   { \"product\" : \"blender\", \"store number\" : 3, \"quantity\" : 100 },\n",
    "   { \"product\" : \"blender\", \"store number\" : 3, \"quantity\" : 150 },\n",
    "   { \"product\" : \"socks\", \"store number\" : 1, \"quantity\" : 500 },\n",
    "   { \"product\" : \"socks\", \"store number\" : 2, \"quantity\" : 10 },\n",
    "   { \"product\" : \"shirt\", \"store number\" : 3, \"quantity\" : 10 }\n",
    "]\n",
    "let $join :=\n",
    "  for $store in $stores[], $sale in $sales[]\n",
    "  where $store.\"store number\" = $sale.\"store number\"\n",
    "  return {\n",
    "    \"nb\" : $store.\"store number\",\n",
    "    \"state\" : $store.state,\n",
    "    \"sold\" : $sale.product\n",
    "  }\n",
    "return [$join]\n",
    "\n"
   ]
  },
  {
   "cell_type": "markdown",
   "metadata": {},
   "source": [
    "## All JSON values are JSONiq, too\n",
    "\n",
    "The first thing you need to know is that a well-formed JSON document is a JSONiq expression as well.\n",
    "This means that you can copy-and-paste any JSON document into a query. The following are JSONiq queries that are \"idempotent\" (they just output themselves):"
   ]
  },
  {
   "cell_type": "code",
   "execution_count": 8,
   "metadata": {},
   "outputs": [
    {
     "name": "stdout",
     "output_type": "stream",
     "text": [
      "{\n",
      "  \"pi\": 3.14,\n",
      "  \"sq2\": 1.4\n",
      "}\n"
     ]
    }
   ],
   "source": [
    "%%jsoniq\n",
    "{ \"pi\" : 3.14, \"sq2\" : 1.4 }"
   ]
  },
  {
   "cell_type": "code",
   "execution_count": 9,
   "metadata": {},
   "outputs": [
    {
     "name": "stdout",
     "output_type": "stream",
     "text": [
      "[\n",
      "  2,\n",
      "  3,\n",
      "  5,\n",
      "  7,\n",
      "  11,\n",
      "  13\n",
      "]\n"
     ]
    }
   ],
   "source": [
    "%%jsoniq\n",
    "[ 2, 3, 5, 7, 11, 13 ]"
   ]
  },
  {
   "cell_type": "code",
   "execution_count": 10,
   "metadata": {},
   "outputs": [
    {
     "name": "stdout",
     "output_type": "stream",
     "text": [
      "{\n",
      "  \"operations\": [\n",
      "    {\n",
      "      \"binary\": [\n",
      "        \"and\",\n",
      "        \"or\"\n",
      "      ]\n",
      "    },\n",
      "    {\n",
      "      \"unary\": [\n",
      "        \"not\"\n",
      "      ]\n",
      "    }\n",
      "  ],\n",
      "  \"bits\": [\n",
      "    0,\n",
      "    1\n",
      "  ]\n",
      "}\n"
     ]
    }
   ],
   "source": [
    "%%jsoniq\n",
    "{\n",
    "      \"operations\" : [\n",
    "        { \"binary\" : [ \"and\", \"or\"] },\n",
    "        { \"unary\" : [\"not\"] }\n",
    "      ],\n",
    "      \"bits\" : [\n",
    "        0, 1\n",
    "      ]\n",
    "    }"
   ]
  },
  {
   "cell_type": "code",
   "execution_count": 11,
   "metadata": {},
   "outputs": [
    {
     "name": "stdout",
     "output_type": "stream",
     "text": [
      "[\n",
      "  {\n",
      "    \"Question\": \"Ultimate\"\n",
      "  },\n",
      "  [\n",
      "    \"Life\",\n",
      "    \"the universe\",\n",
      "    \"and everything\"\n",
      "  ]\n",
      "]\n"
     ]
    }
   ],
   "source": [
    "%%jsoniq\n",
    "[ { \"Question\" : \"Ultimate\" }, [\"Life\", \"the universe\", \"and everything\"] ]"
   ]
  },
  {
   "cell_type": "markdown",
   "metadata": {},
   "source": [
    "This works with objects, arrays (even nested), strings, numbers, booleans, null.\n",
    "\n",
    "It also works the other way round: if your query outputs an object, you can use it as a JSON document.\n",
    "JSONiq is a declarative language. This means that you only need to say what you want - the compiler will take care of the how. \n",
    "\n",
    "In the above queries, you are basically saying: I want to output this JSON content, and here it is."
   ]
  },
  {
   "cell_type": "markdown",
   "metadata": {},
   "source": [
    "In fact JSONiq makes JSON \"dynamic\": try to replace numbers with arithmetic formulas, keys with concatenations of strings, etc and see how the resulting JSON object is automatically created."
   ]
  },
  {
   "cell_type": "code",
   "execution_count": 12,
   "metadata": {},
   "outputs": [
    {
     "name": "stdout",
     "output_type": "stream",
     "text": [
      "{\n",
      "  \"foo\": 4,\n",
      "  \"foobar\": true\n",
      "}\n"
     ]
    }
   ],
   "source": [
    "%%jsoniq\n",
    "{\n",
    "    \"foo\" : 2 + 2,\n",
    "    \"foo\" || \"bar\" : if(2 gt 1) then true else false\n",
    "}"
   ]
  },
  {
   "cell_type": "markdown",
   "metadata": {},
   "source": [
    "## Navigating an existing JSON dataset\n",
    "\n",
    "Next, let us look at an existing dataset on the Web. We picked a [GitHub archive file](https://gharchive.org)\n",
    "that we stored for convenience at this location: https://www.rumbledb.org/samples/git-archive.json.\n",
    "\n",
    "Accessing a JSON dataset can be done in two ways depending on the exact format:\n",
    "\n",
    "- If this is a file that contains a single JSON object spread over multiple lines, use json-doc(URL).\n",
    "- If this is a file that contains one JSON object per line (JSON Lines), use json-lines(URL).\n",
    "\n",
    "The GitHub archive dataset is in the JSON Lines format, so we open it with json-lines."
   ]
  },
  {
   "cell_type": "code",
   "execution_count": 13,
   "metadata": {},
   "outputs": [
    {
     "name": "stdout",
     "output_type": "stream",
     "text": [
      "The query output 500 items, which is too many to display. Displaying the first 5 items:\n",
      "{\n",
      "  \"id\": \"7045118886\",\n",
      "  \"type\": \"PushEvent\",\n",
      "  \"actor\": {\n",
      "    \"id\": 20090775,\n",
      "    \"login\": \"lainrose\",\n",
      "    \"display_login\": \"lainrose\",\n",
      "    \"gravatar_id\": \"\",\n",
      "    \"url\": \"https://api.github.com/users/lainrose\",\n",
      "    \"avatar_url\": \"https://avatars.githubusercontent.com/u/20090775?\"\n",
      "  },\n",
      "  \"repo\": {\n",
      "    \"id\": 115387592,\n",
      "    \"name\": \"lainrose/Python-Grammar\",\n",
      "    \"url\": \"https://api.github.com/repos/lainrose/Python-Grammar\"\n",
      "  },\n",
      "  \"payload\": {\n",
      "    \"push_id\": 2226161589,\n",
      "    \"size\": 1,\n",
      "    \"distinct_size\": 1,\n",
      "    \"ref\": \"refs/heads/master\",\n",
      "    \"head\": \"27a01fbdbec8e26daa40fc8faa052dd0be23836a\",\n",
      "    \"before\": \"d6fce97b8de28a31d021c9a9f7ac939baa14d208\",\n",
      "    \"commits\": [\n",
      "      {\n",
      "        \"sha\": \"27a01fbdbec8e26daa40fc8faa052dd0be23836a\",\n",
      "        \"author\": {\n",
      "          \"name\": \"lainrose\",\n",
      "          \"email\": \"fb4676bf30682e2ece361fd363a69ad11779c42e@Naver.com\"\n",
      "        },\n",
      "        \"message\": \"Update Study Contents\",\n",
      "        \"distinct\": true,\n",
      "        \"url\": \"https://api.github.com/repos/lainrose/Python-Grammar/commits/27a01fbdbec8e26daa40fc8faa052dd0be23836a\"\n",
      "      }\n",
      "    ]\n",
      "  },\n",
      "  \"public\": true,\n",
      "  \"created_at\": \"2018-01-01T15:00:00Z\"\n",
      "}\n",
      "{\n",
      "  \"id\": \"7045118891\",\n",
      "  \"type\": \"PushEvent\",\n",
      "  \"actor\": {\n",
      "    \"id\": 17426563,\n",
      "    \"login\": \"tumhopaasmere\",\n",
      "    \"display_login\": \"tumhopaasmere\",\n",
      "    \"gravatar_id\": \"\",\n",
      "    \"url\": \"https://api.github.com/users/tumhopaasmere\",\n",
      "    \"avatar_url\": \"https://avatars.githubusercontent.com/u/17426563?\"\n",
      "  },\n",
      "  \"repo\": {\n",
      "    \"id\": 115922595,\n",
      "    \"name\": \"tumhopaasmere/tumhopaasmere\",\n",
      "    \"url\": \"https://api.github.com/repos/tumhopaasmere/tumhopaasmere\"\n",
      "  },\n",
      "  \"payload\": {\n",
      "    \"push_id\": 2226161592,\n",
      "    \"size\": 1,\n",
      "    \"distinct_size\": 1,\n",
      "    \"ref\": \"refs/heads/master\",\n",
      "    \"head\": \"45b2f857540d7d4286d1abef204aef167190be0f\",\n",
      "    \"before\": \"4988f2985f79262054178aa49c3f20b71aca5e8f\",\n",
      "    \"commits\": [\n",
      "      {\n",
      "        \"sha\": \"45b2f857540d7d4286d1abef204aef167190be0f\",\n",
      "        \"author\": {\n",
      "          \"name\": \"tumhopaasmere\",\n",
      "          \"email\": \"bcc6c59276ad7bbcd0b972dd58baaef7cccc22d4@mailinator.com\"\n",
      "        },\n",
      "        \"message\": \"GIT CloneShare Commit\",\n",
      "        \"distinct\": true,\n",
      "        \"url\": \"https://api.github.com/repos/tumhopaasmere/tumhopaasmere/commits/45b2f857540d7d4286d1abef204aef167190be0f\"\n",
      "      }\n",
      "    ]\n",
      "  },\n",
      "  \"public\": true,\n",
      "  \"created_at\": \"2018-01-01T15:00:00Z\"\n",
      "}\n",
      "{\n",
      "  \"id\": \"7045118892\",\n",
      "  \"type\": \"PullRequestEvent\",\n",
      "  \"actor\": {\n",
      "    \"id\": 1449578,\n",
      "    \"login\": \"daa84\",\n",
      "    \"display_login\": \"daa84\",\n",
      "    \"gravatar_id\": \"\",\n",
      "    \"url\": \"https://api.github.com/users/daa84\",\n",
      "    \"avatar_url\": \"https://avatars.githubusercontent.com/u/1449578?\"\n",
      "  },\n",
      "  \"repo\": {\n",
      "    \"id\": 62063441,\n",
      "    \"name\": \"daa84/neovim-gtk\",\n",
      "    \"url\": \"https://api.github.com/repos/daa84/neovim-gtk\"\n",
      "  },\n",
      "  \"payload\": {\n",
      "    \"action\": \"closed\",\n",
      "    \"number\": 40,\n",
      "    \"pull_request\": {\n",
      "      \"url\": \"https://api.github.com/repos/daa84/neovim-gtk/pulls/40\",\n",
      "      \"id\": 160633855,\n",
      "      \"html_url\": \"https://github.com/daa84/neovim-gtk/pull/40\",\n",
      "      \"diff_url\": \"https://github.com/daa84/neovim-gtk/pull/40.diff\",\n",
      "      \"patch_url\": \"https://github.com/daa84/neovim-gtk/pull/40.patch\",\n",
      "      \"issue_url\": \"https://api.github.com/repos/daa84/neovim-gtk/issues/40\",\n",
      "      \"number\": 40,\n",
      "      \"state\": \"closed\",\n",
      "      \"locked\": false,\n",
      "      \"title\": \"Add RPC/GTK clipboard provider\",\n",
      "      \"user\": {\n",
      "        \"login\": \"myfreeweb\",\n",
      "        \"id\": 208340,\n",
      "        \"avatar_url\": \"https://avatars0.githubusercontent.com/u/208340?v=4\",\n",
      "        \"gravatar_id\": \"\",\n",
      "        \"url\": \"https://api.github.com/users/myfreeweb\",\n",
      "        \"html_url\": \"https://github.com/myfreeweb\",\n",
      "        \"followers_url\": \"https://api.github.com/users/myfreeweb/followers\",\n",
      "        \"following_url\": \"https://api.github.com/users/myfreeweb/following{/other_user}\",\n",
      "        \"gists_url\": \"https://api.github.com/users/myfreeweb/gists{/gist_id}\",\n",
      "        \"starred_url\": \"https://api.github.com/users/myfreeweb/starred{/owner}{/repo}\",\n",
      "        \"subscriptions_url\": \"https://api.github.com/users/myfreeweb/subscriptions\",\n",
      "        \"organizations_url\": \"https://api.github.com/users/myfreeweb/orgs\",\n",
      "        \"repos_url\": \"https://api.github.com/users/myfreeweb/repos\",\n",
      "        \"events_url\": \"https://api.github.com/users/myfreeweb/events{/privacy}\",\n",
      "        \"received_events_url\": \"https://api.github.com/users/myfreeweb/received_events\",\n",
      "        \"type\": \"User\",\n",
      "        \"site_admin\": false\n",
      "      },\n",
      "      \"body\": \"Hi, just discovered this project recently, ligatures and native completion popups are great, I'm actually looking into switching from tmux + neovim in terminal to this + terminals in neovim :)\\r\\n\\r\\nTo avoid xclip usage on Wayland and to improve potential remote usage, it would be nice to have native gtk clipboard support. Here's my attempt :)\\r\\n\\r\\n- Can't have the UI borrowed mutably when waiting for the clipboard text, so I had to push the mutex locking down into the request handlers to be able to make the borrows work for the clipboard get command;\\r\\n- Using an `mpsc` channel basically as a future, to avoid extra dependencies; \\r\\n- I've tried placing the clipboard function into `runtime/autoload/providers/clipboard.vim`, but it didn't load for some reason\",\n",
      "      \"created_at\": \"2018-01-01T00:38:08Z\",\n",
      "      \"updated_at\": \"2018-01-01T14:59:59Z\",\n",
      "      \"closed_at\": \"2018-01-01T14:59:59Z\",\n",
      "      \"merged_at\": \"2018-01-01T14:59:59Z\",\n",
      "      \"merge_commit_sha\": \"b88159630d016a7b7cb622c966cbbd4859c9bcd6\",\n",
      "      \"assignee\": null,\n",
      "      \"assignees\": [],\n",
      "      \"requested_reviewers\": [],\n",
      "      \"milestone\": null,\n",
      "      \"commits_url\": \"https://api.github.com/repos/daa84/neovim-gtk/pulls/40/commits\",\n",
      "      \"review_comments_url\": \"https://api.github.com/repos/daa84/neovim-gtk/pulls/40/comments\",\n",
      "      \"review_comment_url\": \"https://api.github.com/repos/daa84/neovim-gtk/pulls/comments{/number}\",\n",
      "      \"comments_url\": \"https://api.github.com/repos/daa84/neovim-gtk/issues/40/comments\",\n",
      "      \"statuses_url\": \"https://api.github.com/repos/daa84/neovim-gtk/statuses/fbf662505997cc6af2e7f8ddb7e8893da622652c\",\n",
      "      \"head\": {\n",
      "        \"label\": \"myfreeweb:gtk-clipboard\",\n",
      "        \"ref\": \"gtk-clipboard\",\n",
      "        \"sha\": \"fbf662505997cc6af2e7f8ddb7e8893da622652c\",\n",
      "        \"user\": {\n",
      "          \"login\": \"myfreeweb\",\n",
      "          \"id\": 208340,\n",
      "          \"avatar_url\": \"https://avatars0.githubusercontent.com/u/208340?v=4\",\n",
      "          \"gravatar_id\": \"\",\n",
      "          \"url\": \"https://api.github.com/users/myfreeweb\",\n",
      "          \"html_url\": \"https://github.com/myfreeweb\",\n",
      "          \"followers_url\": \"https://api.github.com/users/myfreeweb/followers\",\n",
      "          \"following_url\": \"https://api.github.com/users/myfreeweb/following{/other_user}\",\n",
      "          \"gists_url\": \"https://api.github.com/users/myfreeweb/gists{/gist_id}\",\n",
      "          \"starred_url\": \"https://api.github.com/users/myfreeweb/starred{/owner}{/repo}\",\n",
      "          \"subscriptions_url\": \"https://api.github.com/users/myfreeweb/subscriptions\",\n",
      "          \"organizations_url\": \"https://api.github.com/users/myfreeweb/orgs\",\n",
      "          \"repos_url\": \"https://api.github.com/users/myfreeweb/repos\",\n",
      "          \"events_url\": \"https://api.github.com/users/myfreeweb/events{/privacy}\",\n",
      "          \"received_events_url\": \"https://api.github.com/users/myfreeweb/received_events\",\n",
      "          \"type\": \"User\",\n",
      "          \"site_admin\": false\n",
      "        },\n",
      "        \"repo\": {\n",
      "          \"id\": 115889489,\n",
      "          \"name\": \"neovim-gtk\",\n",
      "          \"full_name\": \"myfreeweb/neovim-gtk\",\n",
      "          \"owner\": {\n",
      "            \"login\": \"myfreeweb\",\n",
      "            \"id\": 208340,\n",
      "            \"avatar_url\": \"https://avatars0.githubusercontent.com/u/208340?v=4\",\n",
      "            \"gravatar_id\": \"\",\n",
      "            \"url\": \"https://api.github.com/users/myfreeweb\",\n",
      "            \"html_url\": \"https://github.com/myfreeweb\",\n",
      "            \"followers_url\": \"https://api.github.com/users/myfreeweb/followers\",\n",
      "            \"following_url\": \"https://api.github.com/users/myfreeweb/following{/other_user}\",\n",
      "            \"gists_url\": \"https://api.github.com/users/myfreeweb/gists{/gist_id}\",\n",
      "            \"starred_url\": \"https://api.github.com/users/myfreeweb/starred{/owner}{/repo}\",\n",
      "            \"subscriptions_url\": \"https://api.github.com/users/myfreeweb/subscriptions\",\n",
      "            \"organizations_url\": \"https://api.github.com/users/myfreeweb/orgs\",\n",
      "            \"repos_url\": \"https://api.github.com/users/myfreeweb/repos\",\n",
      "            \"events_url\": \"https://api.github.com/users/myfreeweb/events{/privacy}\",\n",
      "            \"received_events_url\": \"https://api.github.com/users/myfreeweb/received_events\",\n",
      "            \"type\": \"User\",\n",
      "            \"site_admin\": false\n",
      "          },\n",
      "          \"private\": false,\n",
      "          \"html_url\": \"https://github.com/myfreeweb/neovim-gtk\",\n",
      "          \"description\": \"gtk ui for neovim\",\n",
      "          \"fork\": true,\n",
      "          \"url\": \"https://api.github.com/repos/myfreeweb/neovim-gtk\",\n",
      "          \"forks_url\": \"https://api.github.com/repos/myfreeweb/neovim-gtk/forks\",\n",
      "          \"keys_url\": \"https://api.github.com/repos/myfreeweb/neovim-gtk/keys{/key_id}\",\n",
      "          \"collaborators_url\": \"https://api.github.com/repos/myfreeweb/neovim-gtk/collaborators{/collaborator}\",\n",
      "          \"teams_url\": \"https://api.github.com/repos/myfreeweb/neovim-gtk/teams\",\n",
      "          \"hooks_url\": \"https://api.github.com/repos/myfreeweb/neovim-gtk/hooks\",\n",
      "          \"issue_events_url\": \"https://api.github.com/repos/myfreeweb/neovim-gtk/issues/events{/number}\",\n",
      "          \"events_url\": \"https://api.github.com/repos/myfreeweb/neovim-gtk/events\",\n",
      "          \"assignees_url\": \"https://api.github.com/repos/myfreeweb/neovim-gtk/assignees{/user}\",\n",
      "          \"branches_url\": \"https://api.github.com/repos/myfreeweb/neovim-gtk/branches{/branch}\",\n",
      "          \"tags_url\": \"https://api.github.com/repos/myfreeweb/neovim-gtk/tags\",\n",
      "          \"blobs_url\": \"https://api.github.com/repos/myfreeweb/neovim-gtk/git/blobs{/sha}\",\n",
      "          \"git_tags_url\": \"https://api.github.com/repos/myfreeweb/neovim-gtk/git/tags{/sha}\",\n",
      "          \"git_refs_url\": \"https://api.github.com/repos/myfreeweb/neovim-gtk/git/refs{/sha}\",\n",
      "          \"trees_url\": \"https://api.github.com/repos/myfreeweb/neovim-gtk/git/trees{/sha}\",\n",
      "          \"statuses_url\": \"https://api.github.com/repos/myfreeweb/neovim-gtk/statuses/{sha}\",\n",
      "          \"languages_url\": \"https://api.github.com/repos/myfreeweb/neovim-gtk/languages\",\n",
      "          \"stargazers_url\": \"https://api.github.com/repos/myfreeweb/neovim-gtk/stargazers\",\n",
      "          \"contributors_url\": \"https://api.github.com/repos/myfreeweb/neovim-gtk/contributors\",\n",
      "          \"subscribers_url\": \"https://api.github.com/repos/myfreeweb/neovim-gtk/subscribers\",\n",
      "          \"subscription_url\": \"https://api.github.com/repos/myfreeweb/neovim-gtk/subscription\",\n",
      "          \"commits_url\": \"https://api.github.com/repos/myfreeweb/neovim-gtk/commits{/sha}\",\n",
      "          \"git_commits_url\": \"https://api.github.com/repos/myfreeweb/neovim-gtk/git/commits{/sha}\",\n",
      "          \"comments_url\": \"https://api.github.com/repos/myfreeweb/neovim-gtk/comments{/number}\",\n",
      "          \"issue_comment_url\": \"https://api.github.com/repos/myfreeweb/neovim-gtk/issues/comments{/number}\",\n",
      "          \"contents_url\": \"https://api.github.com/repos/myfreeweb/neovim-gtk/contents/{+path}\",\n",
      "          \"compare_url\": \"https://api.github.com/repos/myfreeweb/neovim-gtk/compare/{base}...{head}\",\n",
      "          \"merges_url\": \"https://api.github.com/repos/myfreeweb/neovim-gtk/merges\",\n",
      "          \"archive_url\": \"https://api.github.com/repos/myfreeweb/neovim-gtk/{archive_format}{/ref}\",\n",
      "          \"downloads_url\": \"https://api.github.com/repos/myfreeweb/neovim-gtk/downloads\",\n",
      "          \"issues_url\": \"https://api.github.com/repos/myfreeweb/neovim-gtk/issues{/number}\",\n",
      "          \"pulls_url\": \"https://api.github.com/repos/myfreeweb/neovim-gtk/pulls{/number}\",\n",
      "          \"milestones_url\": \"https://api.github.com/repos/myfreeweb/neovim-gtk/milestones{/number}\",\n",
      "          \"notifications_url\": \"https://api.github.com/repos/myfreeweb/neovim-gtk/notifications{?since,all,participating}\",\n",
      "          \"labels_url\": \"https://api.github.com/repos/myfreeweb/neovim-gtk/labels{/name}\",\n",
      "          \"releases_url\": \"https://api.github.com/repos/myfreeweb/neovim-gtk/releases{/id}\",\n",
      "          \"deployments_url\": \"https://api.github.com/repos/myfreeweb/neovim-gtk/deployments\",\n",
      "          \"created_at\": \"2017-12-31T23:11:00Z\",\n",
      "          \"updated_at\": \"2017-12-31T23:11:02Z\",\n",
      "          \"pushed_at\": \"2018-01-01T12:33:29Z\",\n",
      "          \"git_url\": \"git://github.com/myfreeweb/neovim-gtk.git\",\n",
      "          \"ssh_url\": \"git@github.com:myfreeweb/neovim-gtk.git\",\n",
      "          \"clone_url\": \"https://github.com/myfreeweb/neovim-gtk.git\",\n",
      "          \"svn_url\": \"https://github.com/myfreeweb/neovim-gtk\",\n",
      "          \"homepage\": null,\n",
      "          \"size\": 2051,\n",
      "          \"stargazers_count\": 0,\n",
      "          \"watchers_count\": 0,\n",
      "          \"language\": \"Rust\",\n",
      "          \"has_issues\": false,\n",
      "          \"has_projects\": true,\n",
      "          \"has_downloads\": true,\n",
      "          \"has_wiki\": true,\n",
      "          \"has_pages\": false,\n",
      "          \"forks_count\": 0,\n",
      "          \"mirror_url\": null,\n",
      "          \"archived\": false,\n",
      "          \"open_issues_count\": 0,\n",
      "          \"license\": null,\n",
      "          \"forks\": 0,\n",
      "          \"open_issues\": 0,\n",
      "          \"watchers\": 0,\n",
      "          \"default_branch\": \"master\"\n",
      "        }\n",
      "      },\n",
      "      \"base\": {\n",
      "        \"label\": \"daa84:master\",\n",
      "        \"ref\": \"master\",\n",
      "        \"sha\": \"30ccc4b62cafac800c201f9f079405702ff87dde\",\n",
      "        \"user\": {\n",
      "          \"login\": \"daa84\",\n",
      "          \"id\": 1449578,\n",
      "          \"avatar_url\": \"https://avatars0.githubusercontent.com/u/1449578?v=4\",\n",
      "          \"gravatar_id\": \"\",\n",
      "          \"url\": \"https://api.github.com/users/daa84\",\n",
      "          \"html_url\": \"https://github.com/daa84\",\n",
      "          \"followers_url\": \"https://api.github.com/users/daa84/followers\",\n",
      "          \"following_url\": \"https://api.github.com/users/daa84/following{/other_user}\",\n",
      "          \"gists_url\": \"https://api.github.com/users/daa84/gists{/gist_id}\",\n",
      "          \"starred_url\": \"https://api.github.com/users/daa84/starred{/owner}{/repo}\",\n",
      "          \"subscriptions_url\": \"https://api.github.com/users/daa84/subscriptions\",\n",
      "          \"organizations_url\": \"https://api.github.com/users/daa84/orgs\",\n",
      "          \"repos_url\": \"https://api.github.com/users/daa84/repos\",\n",
      "          \"events_url\": \"https://api.github.com/users/daa84/events{/privacy}\",\n",
      "          \"received_events_url\": \"https://api.github.com/users/daa84/received_events\",\n",
      "          \"type\": \"User\",\n",
      "          \"site_admin\": false\n",
      "        },\n",
      "        \"repo\": {\n",
      "          \"id\": 62063441,\n",
      "          \"name\": \"neovim-gtk\",\n",
      "          \"full_name\": \"daa84/neovim-gtk\",\n",
      "          \"owner\": {\n",
      "            \"login\": \"daa84\",\n",
      "            \"id\": 1449578,\n",
      "            \"avatar_url\": \"https://avatars0.githubusercontent.com/u/1449578?v=4\",\n",
      "            \"gravatar_id\": \"\",\n",
      "            \"url\": \"https://api.github.com/users/daa84\",\n",
      "            \"html_url\": \"https://github.com/daa84\",\n",
      "            \"followers_url\": \"https://api.github.com/users/daa84/followers\",\n",
      "            \"following_url\": \"https://api.github.com/users/daa84/following{/other_user}\",\n",
      "            \"gists_url\": \"https://api.github.com/users/daa84/gists{/gist_id}\",\n",
      "            \"starred_url\": \"https://api.github.com/users/daa84/starred{/owner}{/repo}\",\n",
      "            \"subscriptions_url\": \"https://api.github.com/users/daa84/subscriptions\",\n",
      "            \"organizations_url\": \"https://api.github.com/users/daa84/orgs\",\n",
      "            \"repos_url\": \"https://api.github.com/users/daa84/repos\",\n",
      "            \"events_url\": \"https://api.github.com/users/daa84/events{/privacy}\",\n",
      "            \"received_events_url\": \"https://api.github.com/users/daa84/received_events\",\n",
      "            \"type\": \"User\",\n",
      "            \"site_admin\": false\n",
      "          },\n",
      "          \"private\": false,\n",
      "          \"html_url\": \"https://github.com/daa84/neovim-gtk\",\n",
      "          \"description\": \"gtk ui for neovim\",\n",
      "          \"fork\": false,\n",
      "          \"url\": \"https://api.github.com/repos/daa84/neovim-gtk\",\n",
      "          \"forks_url\": \"https://api.github.com/repos/daa84/neovim-gtk/forks\",\n",
      "          \"keys_url\": \"https://api.github.com/repos/daa84/neovim-gtk/keys{/key_id}\",\n",
      "          \"collaborators_url\": \"https://api.github.com/repos/daa84/neovim-gtk/collaborators{/collaborator}\",\n",
      "          \"teams_url\": \"https://api.github.com/repos/daa84/neovim-gtk/teams\",\n",
      "          \"hooks_url\": \"https://api.github.com/repos/daa84/neovim-gtk/hooks\",\n",
      "          \"issue_events_url\": \"https://api.github.com/repos/daa84/neovim-gtk/issues/events{/number}\",\n",
      "          \"events_url\": \"https://api.github.com/repos/daa84/neovim-gtk/events\",\n",
      "          \"assignees_url\": \"https://api.github.com/repos/daa84/neovim-gtk/assignees{/user}\",\n",
      "          \"branches_url\": \"https://api.github.com/repos/daa84/neovim-gtk/branches{/branch}\",\n",
      "          \"tags_url\": \"https://api.github.com/repos/daa84/neovim-gtk/tags\",\n",
      "          \"blobs_url\": \"https://api.github.com/repos/daa84/neovim-gtk/git/blobs{/sha}\",\n",
      "          \"git_tags_url\": \"https://api.github.com/repos/daa84/neovim-gtk/git/tags{/sha}\",\n",
      "          \"git_refs_url\": \"https://api.github.com/repos/daa84/neovim-gtk/git/refs{/sha}\",\n",
      "          \"trees_url\": \"https://api.github.com/repos/daa84/neovim-gtk/git/trees{/sha}\",\n",
      "          \"statuses_url\": \"https://api.github.com/repos/daa84/neovim-gtk/statuses/{sha}\",\n",
      "          \"languages_url\": \"https://api.github.com/repos/daa84/neovim-gtk/languages\",\n",
      "          \"stargazers_url\": \"https://api.github.com/repos/daa84/neovim-gtk/stargazers\",\n",
      "          \"contributors_url\": \"https://api.github.com/repos/daa84/neovim-gtk/contributors\",\n",
      "          \"subscribers_url\": \"https://api.github.com/repos/daa84/neovim-gtk/subscribers\",\n",
      "          \"subscription_url\": \"https://api.github.com/repos/daa84/neovim-gtk/subscription\",\n",
      "          \"commits_url\": \"https://api.github.com/repos/daa84/neovim-gtk/commits{/sha}\",\n",
      "          \"git_commits_url\": \"https://api.github.com/repos/daa84/neovim-gtk/git/commits{/sha}\",\n",
      "          \"comments_url\": \"https://api.github.com/repos/daa84/neovim-gtk/comments{/number}\",\n",
      "          \"issue_comment_url\": \"https://api.github.com/repos/daa84/neovim-gtk/issues/comments{/number}\",\n",
      "          \"contents_url\": \"https://api.github.com/repos/daa84/neovim-gtk/contents/{+path}\",\n",
      "          \"compare_url\": \"https://api.github.com/repos/daa84/neovim-gtk/compare/{base}...{head}\",\n",
      "          \"merges_url\": \"https://api.github.com/repos/daa84/neovim-gtk/merges\",\n",
      "          \"archive_url\": \"https://api.github.com/repos/daa84/neovim-gtk/{archive_format}{/ref}\",\n",
      "          \"downloads_url\": \"https://api.github.com/repos/daa84/neovim-gtk/downloads\",\n",
      "          \"issues_url\": \"https://api.github.com/repos/daa84/neovim-gtk/issues{/number}\",\n",
      "          \"pulls_url\": \"https://api.github.com/repos/daa84/neovim-gtk/pulls{/number}\",\n",
      "          \"milestones_url\": \"https://api.github.com/repos/daa84/neovim-gtk/milestones{/number}\",\n",
      "          \"notifications_url\": \"https://api.github.com/repos/daa84/neovim-gtk/notifications{?since,all,participating}\",\n",
      "          \"labels_url\": \"https://api.github.com/repos/daa84/neovim-gtk/labels{/name}\",\n",
      "          \"releases_url\": \"https://api.github.com/repos/daa84/neovim-gtk/releases{/id}\",\n",
      "          \"deployments_url\": \"https://api.github.com/repos/daa84/neovim-gtk/deployments\",\n",
      "          \"created_at\": \"2016-06-27T14:43:24Z\",\n",
      "          \"updated_at\": \"2018-01-01T13:14:12Z\",\n",
      "          \"pushed_at\": \"2018-01-01T14:59:59Z\",\n",
      "          \"git_url\": \"git://github.com/daa84/neovim-gtk.git\",\n",
      "          \"ssh_url\": \"git@github.com:daa84/neovim-gtk.git\",\n",
      "          \"clone_url\": \"https://github.com/daa84/neovim-gtk.git\",\n",
      "          \"svn_url\": \"https://github.com/daa84/neovim-gtk\",\n",
      "          \"homepage\": null,\n",
      "          \"size\": 2044,\n",
      "          \"stargazers_count\": 105,\n",
      "          \"watchers_count\": 105,\n",
      "          \"language\": \"Rust\",\n",
      "          \"has_issues\": true,\n",
      "          \"has_projects\": true,\n",
      "          \"has_downloads\": true,\n",
      "          \"has_wiki\": true,\n",
      "          \"has_pages\": false,\n",
      "          \"forks_count\": 5,\n",
      "          \"mirror_url\": null,\n",
      "          \"archived\": false,\n",
      "          \"open_issues_count\": 8,\n",
      "          \"license\": {\n",
      "            \"key\": \"gpl-3.0\",\n",
      "            \"name\": \"GNU General Public License v3.0\",\n",
      "            \"spdx_id\": \"GPL-3.0\",\n",
      "            \"url\": \"https://api.github.com/licenses/gpl-3.0\"\n",
      "          },\n",
      "          \"forks\": 5,\n",
      "          \"open_issues\": 8,\n",
      "          \"watchers\": 105,\n",
      "          \"default_branch\": \"master\"\n",
      "        }\n",
      "      },\n",
      "      \"_links\": {\n",
      "        \"self\": {\n",
      "          \"href\": \"https://api.github.com/repos/daa84/neovim-gtk/pulls/40\"\n",
      "        },\n",
      "        \"html\": {\n",
      "          \"href\": \"https://github.com/daa84/neovim-gtk/pull/40\"\n",
      "        },\n",
      "        \"issue\": {\n",
      "          \"href\": \"https://api.github.com/repos/daa84/neovim-gtk/issues/40\"\n",
      "        },\n",
      "        \"comments\": {\n",
      "          \"href\": \"https://api.github.com/repos/daa84/neovim-gtk/issues/40/comments\"\n",
      "        },\n",
      "        \"review_comments\": {\n",
      "          \"href\": \"https://api.github.com/repos/daa84/neovim-gtk/pulls/40/comments\"\n",
      "        },\n",
      "        \"review_comment\": {\n",
      "          \"href\": \"https://api.github.com/repos/daa84/neovim-gtk/pulls/comments{/number}\"\n",
      "        },\n",
      "        \"commits\": {\n",
      "          \"href\": \"https://api.github.com/repos/daa84/neovim-gtk/pulls/40/commits\"\n",
      "        },\n",
      "        \"statuses\": {\n",
      "          \"href\": \"https://api.github.com/repos/daa84/neovim-gtk/statuses/fbf662505997cc6af2e7f8ddb7e8893da622652c\"\n",
      "        }\n",
      "      },\n",
      "      \"author_association\": \"NONE\",\n",
      "      \"merged\": true,\n",
      "      \"mergeable\": null,\n",
      "      \"rebaseable\": null,\n",
      "      \"mergeable_state\": \"unknown\",\n",
      "      \"merged_by\": {\n",
      "        \"login\": \"daa84\",\n",
      "        \"id\": 1449578,\n",
      "        \"avatar_url\": \"https://avatars0.githubusercontent.com/u/1449578?v=4\",\n",
      "        \"gravatar_id\": \"\",\n",
      "        \"url\": \"https://api.github.com/users/daa84\",\n",
      "        \"html_url\": \"https://github.com/daa84\",\n",
      "        \"followers_url\": \"https://api.github.com/users/daa84/followers\",\n",
      "        \"following_url\": \"https://api.github.com/users/daa84/following{/other_user}\",\n",
      "        \"gists_url\": \"https://api.github.com/users/daa84/gists{/gist_id}\",\n",
      "        \"starred_url\": \"https://api.github.com/users/daa84/starred{/owner}{/repo}\",\n",
      "        \"subscriptions_url\": \"https://api.github.com/users/daa84/subscriptions\",\n",
      "        \"organizations_url\": \"https://api.github.com/users/daa84/orgs\",\n",
      "        \"repos_url\": \"https://api.github.com/users/daa84/repos\",\n",
      "        \"events_url\": \"https://api.github.com/users/daa84/events{/privacy}\",\n",
      "        \"received_events_url\": \"https://api.github.com/users/daa84/received_events\",\n",
      "        \"type\": \"User\",\n",
      "        \"site_admin\": false\n",
      "      },\n",
      "      \"comments\": 2,\n",
      "      \"review_comments\": 1,\n",
      "      \"maintainer_can_modify\": false,\n",
      "      \"commits\": 1,\n",
      "      \"additions\": 107,\n",
      "      \"deletions\": 4,\n",
      "      \"changed_files\": 4\n",
      "    }\n",
      "  },\n",
      "  \"public\": true,\n",
      "  \"created_at\": \"2018-01-01T15:00:00Z\"\n",
      "}\n",
      "{\n",
      "  \"id\": \"7045118894\",\n",
      "  \"type\": \"PushEvent\",\n",
      "  \"actor\": {\n",
      "    \"id\": 22536460,\n",
      "    \"login\": \"thautwarm\",\n",
      "    \"display_login\": \"thautwarm\",\n",
      "    \"gravatar_id\": \"\",\n",
      "    \"url\": \"https://api.github.com/users/thautwarm\",\n",
      "    \"avatar_url\": \"https://avatars.githubusercontent.com/u/22536460?\"\n",
      "  },\n",
      "  \"repo\": {\n",
      "    \"id\": 102974522,\n",
      "    \"name\": \"thautwarm/EBNFParser\",\n",
      "    \"url\": \"https://api.github.com/repos/thautwarm/EBNFParser\"\n",
      "  },\n",
      "  \"payload\": {\n",
      "    \"push_id\": 2226161594,\n",
      "    \"size\": 1,\n",
      "    \"distinct_size\": 1,\n",
      "    \"ref\": \"refs/heads/master\",\n",
      "    \"head\": \"ea291a9baea441ea815e822bba5e8c9f330542f7\",\n",
      "    \"before\": \"e61c594bc4eece3258944d5a89333e072ea0f9b5\",\n",
      "    \"commits\": [\n",
      "      {\n",
      "        \"sha\": \"ea291a9baea441ea815e822bba5e8c9f330542f7\",\n",
      "        \"author\": {\n",
      "          \"name\": \"thautwarm\",\n",
      "          \"email\": \"820a7b45b87f3c40f5e1c273015816c9c19a8401@outlook.com\"\n",
      "        },\n",
      "        \"message\": \"API overview and example\",\n",
      "        \"distinct\": true,\n",
      "        \"url\": \"https://api.github.com/repos/thautwarm/EBNFParser/commits/ea291a9baea441ea815e822bba5e8c9f330542f7\"\n",
      "      }\n",
      "    ]\n",
      "  },\n",
      "  \"public\": true,\n",
      "  \"created_at\": \"2018-01-01T15:00:00Z\"\n",
      "}\n",
      "{\n",
      "  \"id\": \"7045118895\",\n",
      "  \"type\": \"WatchEvent\",\n",
      "  \"actor\": {\n",
      "    \"id\": 18603467,\n",
      "    \"login\": \"markstachowski\",\n",
      "    \"display_login\": \"markstachowski\",\n",
      "    \"gravatar_id\": \"\",\n",
      "    \"url\": \"https://api.github.com/users/markstachowski\",\n",
      "    \"avatar_url\": \"https://avatars.githubusercontent.com/u/18603467?\"\n",
      "  },\n",
      "  \"repo\": {\n",
      "    \"id\": 94912555,\n",
      "    \"name\": \"IVMachiavelli/awesome-threat-intelligence\",\n",
      "    \"url\": \"https://api.github.com/repos/IVMachiavelli/awesome-threat-intelligence\"\n",
      "  },\n",
      "  \"payload\": {\n",
      "    \"action\": \"started\"\n",
      "  },\n",
      "  \"public\": true,\n",
      "  \"created_at\": \"2018-01-01T15:00:00Z\"\n",
      "}\n"
     ]
    }
   ],
   "source": [
    "%%jsoniq\n",
    "json-lines(\"http://www.rumbledb.org/samples/git-archive-small.json\")"
   ]
  },
  {
   "cell_type": "markdown",
   "metadata": {},
   "source": [
    "This is a large file and the previous query output 500 JSON objects. To look closer, let us start looking at just the first object with a number predicate."
   ]
  },
  {
   "cell_type": "code",
   "execution_count": 14,
   "metadata": {},
   "outputs": [
    {
     "name": "stdout",
     "output_type": "stream",
     "text": [
      "{\n",
      "  \"id\": \"7045118886\",\n",
      "  \"type\": \"PushEvent\",\n",
      "  \"actor\": {\n",
      "    \"id\": 20090775,\n",
      "    \"login\": \"lainrose\",\n",
      "    \"display_login\": \"lainrose\",\n",
      "    \"gravatar_id\": \"\",\n",
      "    \"url\": \"https://api.github.com/users/lainrose\",\n",
      "    \"avatar_url\": \"https://avatars.githubusercontent.com/u/20090775?\"\n",
      "  },\n",
      "  \"repo\": {\n",
      "    \"id\": 115387592,\n",
      "    \"name\": \"lainrose/Python-Grammar\",\n",
      "    \"url\": \"https://api.github.com/repos/lainrose/Python-Grammar\"\n",
      "  },\n",
      "  \"payload\": {\n",
      "    \"push_id\": 2226161589,\n",
      "    \"size\": 1,\n",
      "    \"distinct_size\": 1,\n",
      "    \"ref\": \"refs/heads/master\",\n",
      "    \"head\": \"27a01fbdbec8e26daa40fc8faa052dd0be23836a\",\n",
      "    \"before\": \"d6fce97b8de28a31d021c9a9f7ac939baa14d208\",\n",
      "    \"commits\": [\n",
      "      {\n",
      "        \"sha\": \"27a01fbdbec8e26daa40fc8faa052dd0be23836a\",\n",
      "        \"author\": {\n",
      "          \"name\": \"lainrose\",\n",
      "          \"email\": \"fb4676bf30682e2ece361fd363a69ad11779c42e@Naver.com\"\n",
      "        },\n",
      "        \"message\": \"Update Study Contents\",\n",
      "        \"distinct\": true,\n",
      "        \"url\": \"https://api.github.com/repos/lainrose/Python-Grammar/commits/27a01fbdbec8e26daa40fc8faa052dd0be23836a\"\n",
      "      }\n",
      "    ]\n",
      "  },\n",
      "  \"public\": true,\n",
      "  \"created_at\": \"2018-01-01T15:00:00Z\"\n",
      "}\n"
     ]
    }
   ],
   "source": [
    "%%jsoniq\n",
    "json-lines(\"http://www.rumbledb.org/samples/git-archive-small.json\")[1]"
   ]
  },
  {
   "cell_type": "markdown",
   "metadata": {},
   "source": [
    "We can see that there are nested objects and arrays. This is perfect for JSONiq. Let us now figure out all the keys used in this dataset with the keys() function."
   ]
  },
  {
   "cell_type": "code",
   "execution_count": 15,
   "metadata": {},
   "outputs": [
    {
     "name": "stdout",
     "output_type": "stream",
     "text": [
      "The query output 8 items, which is too many to display. Displaying the first 5 items:\n",
      "\"payload\"\n",
      "\"org\"\n",
      "\"public\"\n",
      "\"repo\"\n",
      "\"type\"\n"
     ]
    }
   ],
   "source": [
    "%%jsoniq\n",
    "keys(json-lines(\"http://www.rumbledb.org/samples/git-archive-small.json\"))"
   ]
  },
  {
   "cell_type": "markdown",
   "metadata": {},
   "source": [
    "Let us look closer at the key called \"type\". What values does it take? We can use dot-based navigation to navigate down to these values. This will work nicely on the entire dataset."
   ]
  },
  {
   "cell_type": "code",
   "execution_count": 16,
   "metadata": {},
   "outputs": [
    {
     "name": "stdout",
     "output_type": "stream",
     "text": [
      "The query output 500 items, which is too many to display. Displaying the first 5 items:\n",
      "\"PushEvent\"\n",
      "\"PushEvent\"\n",
      "\"PullRequestEvent\"\n",
      "\"PushEvent\"\n",
      "\"WatchEvent\"\n"
     ]
    }
   ],
   "source": [
    "%%jsoniq\n",
    "json-lines(\"http://www.rumbledb.org/samples/git-archive-small.json\").type"
   ]
  },
  {
   "cell_type": "markdown",
   "metadata": {},
   "source": [
    "It looks like there are a lot of duplicates in there. Let us use distinct-values() to figure out all unique values."
   ]
  },
  {
   "cell_type": "code",
   "execution_count": 17,
   "metadata": {},
   "outputs": [
    {
     "name": "stdout",
     "output_type": "stream",
     "text": [
      "The query output 13 items, which is too many to display. Displaying the first 5 items:\n",
      "\"CommitCommentEvent\"\n",
      "\"GollumEvent\"\n",
      "\"CreateEvent\"\n",
      "\"WatchEvent\"\n",
      "\"IssuesEvent\"\n"
     ]
    }
   ],
   "source": [
    "%%jsoniq\n",
    "distinct-values(json-lines(\"http://www.rumbledb.org/samples/git-archive-small.json\").type)"
   ]
  },
  {
   "cell_type": "markdown",
   "metadata": {},
   "source": [
    "So we see that for the key \"type\", all values are strings and there are only... how many, by the way? Let us use count()."
   ]
  },
  {
   "cell_type": "code",
   "execution_count": 18,
   "metadata": {},
   "outputs": [
    {
     "name": "stdout",
     "output_type": "stream",
     "text": [
      "13\n"
     ]
    }
   ],
   "source": [
    "%%jsoniq\n",
    "count(distinct-values(json-lines(\"http://www.rumbledb.org/samples/git-archive-small.json\").type))"
   ]
  },
  {
   "cell_type": "markdown",
   "metadata": {},
   "source": [
    "So there are 13. Note that count() works just as well on the entire dataset, to know how many objects there are."
   ]
  },
  {
   "cell_type": "code",
   "execution_count": 19,
   "metadata": {},
   "outputs": [
    {
     "name": "stdout",
     "output_type": "stream",
     "text": [
      "500\n"
     ]
    }
   ],
   "source": [
    "%%jsoniq\n",
    "count(json-lines(\"http://www.rumbledb.org/samples/git-archive-small.json\"))"
   ]
  },
  {
   "cell_type": "markdown",
   "metadata": {},
   "source": [
    "Let us know look at nested objects. It seems the key \"actor\" has these, so let us now use the dot object lookup to find all these values."
   ]
  },
  {
   "cell_type": "code",
   "execution_count": 20,
   "metadata": {},
   "outputs": [
    {
     "name": "stdout",
     "output_type": "stream",
     "text": [
      "The query output 500 items, which is too many to display. Displaying the first 5 items:\n",
      "{\n",
      "  \"id\": 20090775,\n",
      "  \"login\": \"lainrose\",\n",
      "  \"display_login\": \"lainrose\",\n",
      "  \"gravatar_id\": \"\",\n",
      "  \"url\": \"https://api.github.com/users/lainrose\",\n",
      "  \"avatar_url\": \"https://avatars.githubusercontent.com/u/20090775?\"\n",
      "}\n",
      "{\n",
      "  \"id\": 17426563,\n",
      "  \"login\": \"tumhopaasmere\",\n",
      "  \"display_login\": \"tumhopaasmere\",\n",
      "  \"gravatar_id\": \"\",\n",
      "  \"url\": \"https://api.github.com/users/tumhopaasmere\",\n",
      "  \"avatar_url\": \"https://avatars.githubusercontent.com/u/17426563?\"\n",
      "}\n",
      "{\n",
      "  \"id\": 1449578,\n",
      "  \"login\": \"daa84\",\n",
      "  \"display_login\": \"daa84\",\n",
      "  \"gravatar_id\": \"\",\n",
      "  \"url\": \"https://api.github.com/users/daa84\",\n",
      "  \"avatar_url\": \"https://avatars.githubusercontent.com/u/1449578?\"\n",
      "}\n",
      "{\n",
      "  \"id\": 22536460,\n",
      "  \"login\": \"thautwarm\",\n",
      "  \"display_login\": \"thautwarm\",\n",
      "  \"gravatar_id\": \"\",\n",
      "  \"url\": \"https://api.github.com/users/thautwarm\",\n",
      "  \"avatar_url\": \"https://avatars.githubusercontent.com/u/22536460?\"\n",
      "}\n",
      "{\n",
      "  \"id\": 18603467,\n",
      "  \"login\": \"markstachowski\",\n",
      "  \"display_login\": \"markstachowski\",\n",
      "  \"gravatar_id\": \"\",\n",
      "  \"url\": \"https://api.github.com/users/markstachowski\",\n",
      "  \"avatar_url\": \"https://avatars.githubusercontent.com/u/18603467?\"\n",
      "}\n"
     ]
    }
   ],
   "source": [
    "%%jsoniq\n",
    "json-lines(\"http://www.rumbledb.org/samples/git-archive-small.json\").actor"
   ]
  },
  {
   "cell_type": "markdown",
   "metadata": {},
   "source": [
    "We can chain dot object lookups to navigate further down, for example to logins. Let us figure out how many distinct logins there are."
   ]
  },
  {
   "cell_type": "code",
   "execution_count": 21,
   "metadata": {},
   "outputs": [
    {
     "name": "stdout",
     "output_type": "stream",
     "text": [
      "374\n"
     ]
    }
   ],
   "source": [
    "%%jsoniq\n",
    "count(distinct-values(json-lines(\"http://www.rumbledb.org/samples/git-archive-small.json\").actor.login))"
   ]
  },
  {
   "cell_type": "markdown",
   "metadata": {},
   "source": [
    "The id field inside the actor object seems to be an integer. What is the highest value? The max() function also works at large scales, just like count() and also min(), avg() and sum()."
   ]
  },
  {
   "cell_type": "code",
   "execution_count": 22,
   "metadata": {},
   "outputs": [
    {
     "name": "stdout",
     "output_type": "stream",
     "text": [
      "35003609\n"
     ]
    }
   ],
   "source": [
    "%%jsoniq\n",
    "max(json-lines(\"http://www.rumbledb.org/samples/git-archive-small.json\").actor.id)"
   ]
  },
  {
   "cell_type": "markdown",
   "metadata": {},
   "source": [
    "Alright, let us know look for nested arrays. There does not seem to have any inside the actor object, so let us try the key \"payload\". Let us just look at the first one."
   ]
  },
  {
   "cell_type": "code",
   "execution_count": 23,
   "metadata": {},
   "outputs": [
    {
     "name": "stdout",
     "output_type": "stream",
     "text": [
      "{\n",
      "  \"push_id\": 2226161589,\n",
      "  \"size\": 1,\n",
      "  \"distinct_size\": 1,\n",
      "  \"ref\": \"refs/heads/master\",\n",
      "  \"head\": \"27a01fbdbec8e26daa40fc8faa052dd0be23836a\",\n",
      "  \"before\": \"d6fce97b8de28a31d021c9a9f7ac939baa14d208\",\n",
      "  \"commits\": [\n",
      "    {\n",
      "      \"sha\": \"27a01fbdbec8e26daa40fc8faa052dd0be23836a\",\n",
      "      \"author\": {\n",
      "        \"name\": \"lainrose\",\n",
      "        \"email\": \"fb4676bf30682e2ece361fd363a69ad11779c42e@Naver.com\"\n",
      "      },\n",
      "      \"message\": \"Update Study Contents\",\n",
      "      \"distinct\": true,\n",
      "      \"url\": \"https://api.github.com/repos/lainrose/Python-Grammar/commits/27a01fbdbec8e26daa40fc8faa052dd0be23836a\"\n",
      "    }\n",
      "  ]\n",
      "}\n"
     ]
    }
   ],
   "source": [
    "%%jsoniq\n",
    "json-lines(\"http://www.rumbledb.org/samples/git-archive-small.json\")[1].payload"
   ]
  },
  {
   "cell_type": "markdown",
   "metadata": {},
   "source": [
    "Here we see that there is a nested array associated with key \"commits\"."
   ]
  },
  {
   "cell_type": "code",
   "execution_count": 24,
   "metadata": {},
   "outputs": [
    {
     "name": "stdout",
     "output_type": "stream",
     "text": [
      "[\n",
      "  {\n",
      "    \"sha\": \"27a01fbdbec8e26daa40fc8faa052dd0be23836a\",\n",
      "    \"author\": {\n",
      "      \"name\": \"lainrose\",\n",
      "      \"email\": \"fb4676bf30682e2ece361fd363a69ad11779c42e@Naver.com\"\n",
      "    },\n",
      "    \"message\": \"Update Study Contents\",\n",
      "    \"distinct\": true,\n",
      "    \"url\": \"https://api.github.com/repos/lainrose/Python-Grammar/commits/27a01fbdbec8e26daa40fc8faa052dd0be23836a\"\n",
      "  }\n",
      "]\n"
     ]
    }
   ],
   "source": [
    "%%jsoniq\n",
    "json-lines(\"http://www.rumbledb.org/samples/git-archive-small.json\")[1].payload.commits"
   ]
  },
  {
   "cell_type": "markdown",
   "metadata": {},
   "source": [
    "In this case, there is only one object in this array. Is there, by any chance, any one of these arrays that has more than one commit? For this, we can use a Boolean predicate. Let us evaluate the predicate\n",
    "\n",
    "size($$) gt 1\n",
    "\n",
    "which uses the size function and the gt (greater than) comparison and where $$ is the current array being tested."
   ]
  },
  {
   "cell_type": "code",
   "execution_count": 25,
   "metadata": {},
   "outputs": [
    {
     "name": "stdout",
     "output_type": "stream",
     "text": [
      "The query output 30 items, which is too many to display. Displaying the first 5 items:\n",
      "[\n",
      "  {\n",
      "    \"sha\": \"95e600df9a5a669f53dc7de28147814678d12e81\",\n",
      "    \"author\": {\n",
      "      \"name\": \"Phil Gengler\",\n",
      "      \"email\": \"e888d2bd6f13f82caa51a37c03d034c76f661ba3@pgengler.net\"\n",
      "    },\n",
      "    \"message\": \"Get days/tasks via JSONAPI\",\n",
      "    \"distinct\": true,\n",
      "    \"url\": \"https://api.github.com/repos/pgengler/todolist-client/commits/95e600df9a5a669f53dc7de28147814678d12e81\"\n",
      "  },\n",
      "  {\n",
      "    \"sha\": \"d348f84df64c5473ba6a95a108e7c0263a434add\",\n",
      "    \"author\": {\n",
      "      \"name\": \"Phil Gengler\",\n",
      "      \"email\": \"e888d2bd6f13f82caa51a37c03d034c76f661ba3@pgengler.net\"\n",
      "    },\n",
      "    \"message\": \"Update tests\",\n",
      "    \"distinct\": true,\n",
      "    \"url\": \"https://api.github.com/repos/pgengler/todolist-client/commits/d348f84df64c5473ba6a95a108e7c0263a434add\"\n",
      "  },\n",
      "  {\n",
      "    \"sha\": \"9227c61c103ec1ee7b6dc8e126d14bc85fdf3dfd\",\n",
      "    \"author\": {\n",
      "      \"name\": \"Phil Gengler\",\n",
      "      \"email\": \"e888d2bd6f13f82caa51a37c03d034c76f661ba3@pgengler.net\"\n",
      "    },\n",
      "    \"message\": \"Migrate to unified List model\",\n",
      "    \"distinct\": true,\n",
      "    \"url\": \"https://api.github.com/repos/pgengler/todolist-client/commits/9227c61c103ec1ee7b6dc8e126d14bc85fdf3dfd\"\n",
      "  },\n",
      "  {\n",
      "    \"sha\": \"4c90bc5868bb295357641b4e87d1e6bbea3d0586\",\n",
      "    \"author\": {\n",
      "      \"name\": \"Phil Gengler\",\n",
      "      \"email\": \"e888d2bd6f13f82caa51a37c03d034c76f661ba3@pgengler.net\"\n",
      "    },\n",
      "    \"message\": \"Re-enable polling and do a bit of cleaning up\",\n",
      "    \"distinct\": true,\n",
      "    \"url\": \"https://api.github.com/repos/pgengler/todolist-client/commits/4c90bc5868bb295357641b4e87d1e6bbea3d0586\"\n",
      "  }\n",
      "]\n",
      "[\n",
      "  {\n",
      "    \"sha\": \"fbf662505997cc6af2e7f8ddb7e8893da622652c\",\n",
      "    \"author\": {\n",
      "      \"name\": \"Greg V\",\n",
      "      \"email\": \"79e2475f81a6317276bf7cbb3958b20d289b78df@unrelenting.technology\"\n",
      "    },\n",
      "    \"message\": \"Add RPC/GTK clipboard provider\",\n",
      "    \"distinct\": true,\n",
      "    \"url\": \"https://api.github.com/repos/daa84/neovim-gtk/commits/fbf662505997cc6af2e7f8ddb7e8893da622652c\"\n",
      "  },\n",
      "  {\n",
      "    \"sha\": \"b88159630d016a7b7cb622c966cbbd4859c9bcd6\",\n",
      "    \"author\": {\n",
      "      \"name\": \"daa84\",\n",
      "      \"email\": \"1ca691b27227befba76b75e92f287471edff9223@gmail.com\"\n",
      "    },\n",
      "    \"message\": \"Merge pull request #40 from myfreeweb/gtk-clipboard\\n\\nAdd RPC/GTK clipboard provider\",\n",
      "    \"distinct\": true,\n",
      "    \"url\": \"https://api.github.com/repos/daa84/neovim-gtk/commits/b88159630d016a7b7cb622c966cbbd4859c9bcd6\"\n",
      "  }\n",
      "]\n",
      "[\n",
      "  {\n",
      "    \"sha\": \"6c192613d1d886ebf1461588dc544512b4cb901e\",\n",
      "    \"author\": {\n",
      "      \"name\": \"zakir_rizvi\",\n",
      "      \"email\": \"50ba171401d125d8b5d421566c98df85362d79be@gmail.com\"\n",
      "    },\n",
      "    \"message\": \"Java7 and Java8 implementation in parallel\\n\\ni)Anonymous Inner Class Implementation\\nii) Lambda Implementation\",\n",
      "    \"distinct\": false,\n",
      "    \"url\": \"https://api.github.com/repos/rizvi/SampleJava8Learning/commits/6c192613d1d886ebf1461588dc544512b4cb901e\"\n",
      "  },\n",
      "  {\n",
      "    \"sha\": \"7deeac6f5fc0ed2d3cbe1d678a25c661208ee641\",\n",
      "    \"author\": {\n",
      "      \"name\": \"Abu Zakir Rizvi\",\n",
      "      \"email\": \"50ba171401d125d8b5d421566c98df85362d79be@gmail.com\"\n",
      "    },\n",
      "    \"message\": \"Merge pull request #4 from rizvi/br#sample11\\n\\nJava7 and Java8 implementation in parallel\",\n",
      "    \"distinct\": true,\n",
      "    \"url\": \"https://api.github.com/repos/rizvi/SampleJava8Learning/commits/7deeac6f5fc0ed2d3cbe1d678a25c661208ee641\"\n",
      "  }\n",
      "]\n",
      "[\n",
      "  {\n",
      "    \"sha\": \"29f4fbc088e38b11a5d979bc5e223fbf640fe218\",\n",
      "    \"author\": {\n",
      "      \"name\": \"Minwoo Lee\",\n",
      "      \"email\": \"926a4704d66273b5ad05111f8aa2eb4b4f6f4088@gmail.com\"\n",
      "    },\n",
      "    \"message\": \"Add git configuration\",\n",
      "    \"distinct\": true,\n",
      "    \"url\": \"https://api.github.com/repos/ermaker/dotfiles/commits/29f4fbc088e38b11a5d979bc5e223fbf640fe218\"\n",
      "  },\n",
      "  {\n",
      "    \"sha\": \"1a8564900afc50bb348ac849581053922fbab375\",\n",
      "    \"author\": {\n",
      "      \"name\": \"Minwoo Lee\",\n",
      "      \"email\": \"926a4704d66273b5ad05111f8aa2eb4b4f6f4088@gmail.com\"\n",
      "    },\n",
      "    \"message\": \"Add zsh setting\",\n",
      "    \"distinct\": true,\n",
      "    \"url\": \"https://api.github.com/repos/ermaker/dotfiles/commits/1a8564900afc50bb348ac849581053922fbab375\"\n",
      "  },\n",
      "  {\n",
      "    \"sha\": \"a26970f1c5c4db9d196b93e9d1d4437fc4a91d79\",\n",
      "    \"author\": {\n",
      "      \"name\": \"Minwoo Lee\",\n",
      "      \"email\": \"926a4704d66273b5ad05111f8aa2eb4b4f6f4088@gmail.com\"\n",
      "    },\n",
      "    \"message\": \"Add rbenv, ruby-build, and ruby 2.5.0\",\n",
      "    \"distinct\": true,\n",
      "    \"url\": \"https://api.github.com/repos/ermaker/dotfiles/commits/a26970f1c5c4db9d196b93e9d1d4437fc4a91d79\"\n",
      "  },\n",
      "  {\n",
      "    \"sha\": \"fa4c37db4646bb032dba67a979095ada755097c4\",\n",
      "    \"author\": {\n",
      "      \"name\": \"Minwoo Lee\",\n",
      "      \"email\": \"926a4704d66273b5ad05111f8aa2eb4b4f6f4088@gmail.com\"\n",
      "    },\n",
      "    \"message\": \"Fix ruby settings\",\n",
      "    \"distinct\": true,\n",
      "    \"url\": \"https://api.github.com/repos/ermaker/dotfiles/commits/fa4c37db4646bb032dba67a979095ada755097c4\"\n",
      "  },\n",
      "  {\n",
      "    \"sha\": \"934c24a6103974d2ef1cdfff368870d58bea224e\",\n",
      "    \"author\": {\n",
      "      \"name\": \"Minwoo Lee\",\n",
      "      \"email\": \"926a4704d66273b5ad05111f8aa2eb4b4f6f4088@gmail.com\"\n",
      "    },\n",
      "    \"message\": \"Add vim setting\",\n",
      "    \"distinct\": true,\n",
      "    \"url\": \"https://api.github.com/repos/ermaker/dotfiles/commits/934c24a6103974d2ef1cdfff368870d58bea224e\"\n",
      "  }\n",
      "]\n",
      "[\n",
      "  {\n",
      "    \"sha\": \"c4431b1f9a00c45be53b5d58326cef18ce565a79\",\n",
      "    \"author\": {\n",
      "      \"name\": \"MedSALHI\",\n",
      "      \"email\": \"52f335c0f84d6602205d3457029838b21c33c076@gmail.com\"\n",
      "    },\n",
      "    \"message\": \"update model architecture\",\n",
      "    \"distinct\": true,\n",
      "    \"url\": \"https://api.github.com/repos/Salhi39/java-web-coding-challenge-/commits/c4431b1f9a00c45be53b5d58326cef18ce565a79\"\n",
      "  },\n",
      "  {\n",
      "    \"sha\": \"ffbc8ff71534d790e03d5664f13a13a90f715978\",\n",
      "    \"author\": {\n",
      "      \"name\": \"MedSALHI\",\n",
      "      \"email\": \"52f335c0f84d6602205d3457029838b21c33c076@gmail.com\"\n",
      "    },\n",
      "    \"message\": \"build service package\",\n",
      "    \"distinct\": true,\n",
      "    \"url\": \"https://api.github.com/repos/Salhi39/java-web-coding-challenge-/commits/ffbc8ff71534d790e03d5664f13a13a90f715978\"\n",
      "  },\n",
      "  {\n",
      "    \"sha\": \"b0600cf34f1aabc109802cc84cde7178775d799d\",\n",
      "    \"author\": {\n",
      "      \"name\": \"MedSALHI\",\n",
      "      \"email\": \"52f335c0f84d6602205d3457029838b21c33c076@gmail.com\"\n",
      "    },\n",
      "    \"message\": \"add mongoDB configuration\",\n",
      "    \"distinct\": true,\n",
      "    \"url\": \"https://api.github.com/repos/Salhi39/java-web-coding-challenge-/commits/b0600cf34f1aabc109802cc84cde7178775d799d\"\n",
      "  },\n",
      "  {\n",
      "    \"sha\": \"efa5b2dbbd3cf52afd43fab02441eb5d93911534\",\n",
      "    \"author\": {\n",
      "      \"name\": \"MedSALHI\",\n",
      "      \"email\": \"52f335c0f84d6602205d3457029838b21c33c076@gmail.com\"\n",
      "    },\n",
      "    \"message\": \"update attributes and toString\",\n",
      "    \"distinct\": true,\n",
      "    \"url\": \"https://api.github.com/repos/Salhi39/java-web-coding-challenge-/commits/efa5b2dbbd3cf52afd43fab02441eb5d93911534\"\n",
      "  },\n",
      "  {\n",
      "    \"sha\": \"572c10f220273a7675cb8ad83391373fbaea1a08\",\n",
      "    \"author\": {\n",
      "      \"name\": \"MedSALHI\",\n",
      "      \"email\": \"52f335c0f84d6602205d3457029838b21c33c076@gmail.com\"\n",
      "    },\n",
      "    \"message\": \"complete all methods declaration\",\n",
      "    \"distinct\": true,\n",
      "    \"url\": \"https://api.github.com/repos/Salhi39/java-web-coding-challenge-/commits/572c10f220273a7675cb8ad83391373fbaea1a08\"\n",
      "  },\n",
      "  {\n",
      "    \"sha\": \"5d2327736436ba66ea5d9436e2fb77873bde9175\",\n",
      "    \"author\": {\n",
      "      \"name\": \"MedSALHI\",\n",
      "      \"email\": \"52f335c0f84d6602205d3457029838b21c33c076@gmail.com\"\n",
      "    },\n",
      "    \"message\": \"test service package\",\n",
      "    \"distinct\": true,\n",
      "    \"url\": \"https://api.github.com/repos/Salhi39/java-web-coding-challenge-/commits/5d2327736436ba66ea5d9436e2fb77873bde9175\"\n",
      "  }\n",
      "]\n"
     ]
    }
   ],
   "source": [
    "%%jsoniq\n",
    "json-lines(\"http://www.rumbledb.org/samples/git-archive-small.json\").payload.commits[size($$) gt 1]"
   ]
  },
  {
   "cell_type": "markdown",
   "metadata": {},
   "source": [
    "Let us just take the first one to have more visibility."
   ]
  },
  {
   "cell_type": "code",
   "execution_count": 26,
   "metadata": {},
   "outputs": [
    {
     "name": "stdout",
     "output_type": "stream",
     "text": [
      "[\n",
      "  {\n",
      "    \"sha\": \"95e600df9a5a669f53dc7de28147814678d12e81\",\n",
      "    \"author\": {\n",
      "      \"name\": \"Phil Gengler\",\n",
      "      \"email\": \"e888d2bd6f13f82caa51a37c03d034c76f661ba3@pgengler.net\"\n",
      "    },\n",
      "    \"message\": \"Get days/tasks via JSONAPI\",\n",
      "    \"distinct\": true,\n",
      "    \"url\": \"https://api.github.com/repos/pgengler/todolist-client/commits/95e600df9a5a669f53dc7de28147814678d12e81\"\n",
      "  },\n",
      "  {\n",
      "    \"sha\": \"d348f84df64c5473ba6a95a108e7c0263a434add\",\n",
      "    \"author\": {\n",
      "      \"name\": \"Phil Gengler\",\n",
      "      \"email\": \"e888d2bd6f13f82caa51a37c03d034c76f661ba3@pgengler.net\"\n",
      "    },\n",
      "    \"message\": \"Update tests\",\n",
      "    \"distinct\": true,\n",
      "    \"url\": \"https://api.github.com/repos/pgengler/todolist-client/commits/d348f84df64c5473ba6a95a108e7c0263a434add\"\n",
      "  },\n",
      "  {\n",
      "    \"sha\": \"9227c61c103ec1ee7b6dc8e126d14bc85fdf3dfd\",\n",
      "    \"author\": {\n",
      "      \"name\": \"Phil Gengler\",\n",
      "      \"email\": \"e888d2bd6f13f82caa51a37c03d034c76f661ba3@pgengler.net\"\n",
      "    },\n",
      "    \"message\": \"Migrate to unified List model\",\n",
      "    \"distinct\": true,\n",
      "    \"url\": \"https://api.github.com/repos/pgengler/todolist-client/commits/9227c61c103ec1ee7b6dc8e126d14bc85fdf3dfd\"\n",
      "  },\n",
      "  {\n",
      "    \"sha\": \"4c90bc5868bb295357641b4e87d1e6bbea3d0586\",\n",
      "    \"author\": {\n",
      "      \"name\": \"Phil Gengler\",\n",
      "      \"email\": \"e888d2bd6f13f82caa51a37c03d034c76f661ba3@pgengler.net\"\n",
      "    },\n",
      "    \"message\": \"Re-enable polling and do a bit of cleaning up\",\n",
      "    \"distinct\": true,\n",
      "    \"url\": \"https://api.github.com/repos/pgengler/todolist-client/commits/4c90bc5868bb295357641b4e87d1e6bbea3d0586\"\n",
      "  }\n",
      "]\n"
     ]
    }
   ],
   "source": [
    "%%jsoniq\n",
    "json-lines(\"http://www.rumbledb.org/samples/git-archive-small.json\").payload.commits[size($$) gt 1][1]"
   ]
  },
  {
   "cell_type": "markdown",
   "metadata": {},
   "source": [
    "We can expand it to a sequence of objects using the [] array unboxing syntax."
   ]
  },
  {
   "cell_type": "code",
   "execution_count": 27,
   "metadata": {},
   "outputs": [
    {
     "name": "stdout",
     "output_type": "stream",
     "text": [
      "{\n",
      "  \"sha\": \"95e600df9a5a669f53dc7de28147814678d12e81\",\n",
      "  \"author\": {\n",
      "    \"name\": \"Phil Gengler\",\n",
      "    \"email\": \"e888d2bd6f13f82caa51a37c03d034c76f661ba3@pgengler.net\"\n",
      "  },\n",
      "  \"message\": \"Get days/tasks via JSONAPI\",\n",
      "  \"distinct\": true,\n",
      "  \"url\": \"https://api.github.com/repos/pgengler/todolist-client/commits/95e600df9a5a669f53dc7de28147814678d12e81\"\n",
      "}\n",
      "{\n",
      "  \"sha\": \"d348f84df64c5473ba6a95a108e7c0263a434add\",\n",
      "  \"author\": {\n",
      "    \"name\": \"Phil Gengler\",\n",
      "    \"email\": \"e888d2bd6f13f82caa51a37c03d034c76f661ba3@pgengler.net\"\n",
      "  },\n",
      "  \"message\": \"Update tests\",\n",
      "  \"distinct\": true,\n",
      "  \"url\": \"https://api.github.com/repos/pgengler/todolist-client/commits/d348f84df64c5473ba6a95a108e7c0263a434add\"\n",
      "}\n",
      "{\n",
      "  \"sha\": \"9227c61c103ec1ee7b6dc8e126d14bc85fdf3dfd\",\n",
      "  \"author\": {\n",
      "    \"name\": \"Phil Gengler\",\n",
      "    \"email\": \"e888d2bd6f13f82caa51a37c03d034c76f661ba3@pgengler.net\"\n",
      "  },\n",
      "  \"message\": \"Migrate to unified List model\",\n",
      "  \"distinct\": true,\n",
      "  \"url\": \"https://api.github.com/repos/pgengler/todolist-client/commits/9227c61c103ec1ee7b6dc8e126d14bc85fdf3dfd\"\n",
      "}\n",
      "{\n",
      "  \"sha\": \"4c90bc5868bb295357641b4e87d1e6bbea3d0586\",\n",
      "  \"author\": {\n",
      "    \"name\": \"Phil Gengler\",\n",
      "    \"email\": \"e888d2bd6f13f82caa51a37c03d034c76f661ba3@pgengler.net\"\n",
      "  },\n",
      "  \"message\": \"Re-enable polling and do a bit of cleaning up\",\n",
      "  \"distinct\": true,\n",
      "  \"url\": \"https://api.github.com/repos/pgengler/todolist-client/commits/4c90bc5868bb295357641b4e87d1e6bbea3d0586\"\n",
      "}\n"
     ]
    }
   ],
   "source": [
    "%%jsoniq\n",
    "json-lines(\"http://www.rumbledb.org/samples/git-archive-small.json\").payload.commits[size($$) gt 1][1][]"
   ]
  },
  {
   "cell_type": "markdown",
   "metadata": {},
   "source": [
    "We can also lookup a specific position, say, the second object, with the [[ ]] array lookup syntax."
   ]
  },
  {
   "cell_type": "code",
   "execution_count": 28,
   "metadata": {},
   "outputs": [
    {
     "name": "stdout",
     "output_type": "stream",
     "text": [
      "{\n",
      "  \"sha\": \"d348f84df64c5473ba6a95a108e7c0263a434add\",\n",
      "  \"author\": {\n",
      "    \"name\": \"Phil Gengler\",\n",
      "    \"email\": \"e888d2bd6f13f82caa51a37c03d034c76f661ba3@pgengler.net\"\n",
      "  },\n",
      "  \"message\": \"Update tests\",\n",
      "  \"distinct\": true,\n",
      "  \"url\": \"https://api.github.com/repos/pgengler/todolist-client/commits/d348f84df64c5473ba6a95a108e7c0263a434add\"\n",
      "}\n"
     ]
    }
   ],
   "source": [
    "%%jsoniq\n",
    "json-lines(\"http://www.rumbledb.org/samples/git-archive-small.json\").payload.commits[size($$) gt 1][1][[2]]"
   ]
  },
  {
   "cell_type": "markdown",
   "metadata": {},
   "source": [
    "And now, please hold for something awesome. We can unbox all arrays of the entire collection at the same time by just using the [] syntax on the entire dataset."
   ]
  },
  {
   "cell_type": "code",
   "execution_count": 29,
   "metadata": {},
   "outputs": [
    {
     "name": "stdout",
     "output_type": "stream",
     "text": [
      "The query output 422 items, which is too many to display. Displaying the first 5 items:\n",
      "{\n",
      "  \"sha\": \"27a01fbdbec8e26daa40fc8faa052dd0be23836a\",\n",
      "  \"author\": {\n",
      "    \"name\": \"lainrose\",\n",
      "    \"email\": \"fb4676bf30682e2ece361fd363a69ad11779c42e@Naver.com\"\n",
      "  },\n",
      "  \"message\": \"Update Study Contents\",\n",
      "  \"distinct\": true,\n",
      "  \"url\": \"https://api.github.com/repos/lainrose/Python-Grammar/commits/27a01fbdbec8e26daa40fc8faa052dd0be23836a\"\n",
      "}\n",
      "{\n",
      "  \"sha\": \"45b2f857540d7d4286d1abef204aef167190be0f\",\n",
      "  \"author\": {\n",
      "    \"name\": \"tumhopaasmere\",\n",
      "    \"email\": \"bcc6c59276ad7bbcd0b972dd58baaef7cccc22d4@mailinator.com\"\n",
      "  },\n",
      "  \"message\": \"GIT CloneShare Commit\",\n",
      "  \"distinct\": true,\n",
      "  \"url\": \"https://api.github.com/repos/tumhopaasmere/tumhopaasmere/commits/45b2f857540d7d4286d1abef204aef167190be0f\"\n",
      "}\n",
      "{\n",
      "  \"sha\": \"ea291a9baea441ea815e822bba5e8c9f330542f7\",\n",
      "  \"author\": {\n",
      "    \"name\": \"thautwarm\",\n",
      "    \"email\": \"820a7b45b87f3c40f5e1c273015816c9c19a8401@outlook.com\"\n",
      "  },\n",
      "  \"message\": \"API overview and example\",\n",
      "  \"distinct\": true,\n",
      "  \"url\": \"https://api.github.com/repos/thautwarm/EBNFParser/commits/ea291a9baea441ea815e822bba5e8c9f330542f7\"\n",
      "}\n",
      "{\n",
      "  \"sha\": \"95e600df9a5a669f53dc7de28147814678d12e81\",\n",
      "  \"author\": {\n",
      "    \"name\": \"Phil Gengler\",\n",
      "    \"email\": \"e888d2bd6f13f82caa51a37c03d034c76f661ba3@pgengler.net\"\n",
      "  },\n",
      "  \"message\": \"Get days/tasks via JSONAPI\",\n",
      "  \"distinct\": true,\n",
      "  \"url\": \"https://api.github.com/repos/pgengler/todolist-client/commits/95e600df9a5a669f53dc7de28147814678d12e81\"\n",
      "}\n",
      "{\n",
      "  \"sha\": \"d348f84df64c5473ba6a95a108e7c0263a434add\",\n",
      "  \"author\": {\n",
      "    \"name\": \"Phil Gengler\",\n",
      "    \"email\": \"e888d2bd6f13f82caa51a37c03d034c76f661ba3@pgengler.net\"\n",
      "  },\n",
      "  \"message\": \"Update tests\",\n",
      "  \"distinct\": true,\n",
      "  \"url\": \"https://api.github.com/repos/pgengler/todolist-client/commits/d348f84df64c5473ba6a95a108e7c0263a434add\"\n",
      "}\n"
     ]
    }
   ],
   "source": [
    "%%jsoniq\n",
    "json-lines(\"http://www.rumbledb.org/samples/git-archive-small.json\").payload.commits[]"
   ]
  },
  {
   "cell_type": "markdown",
   "metadata": {},
   "source": [
    "These are objects. It is all too tempting to navigate further down with more dot object-lookup syntax. All at the same time, obviously. Let us figure out how many unique emails there are in all commits of all events."
   ]
  },
  {
   "cell_type": "code",
   "execution_count": 30,
   "metadata": {},
   "outputs": [
    {
     "name": "stdout",
     "output_type": "stream",
     "text": [
      "256\n"
     ]
    }
   ],
   "source": [
    "%%jsoniq\n",
    "count(distinct-values(json-lines(\"http://www.rumbledb.org/samples/git-archive-small.json\").payload.commits[].author.email))"
   ]
  },
  {
   "cell_type": "markdown",
   "metadata": {},
   "source": [
    "Now, how many unique emails are there in first commits?"
   ]
  },
  {
   "cell_type": "code",
   "execution_count": 31,
   "metadata": {},
   "outputs": [
    {
     "name": "stdout",
     "output_type": "stream",
     "text": [
      "233\n"
     ]
    }
   ],
   "source": [
    "%%jsoniq\n",
    "count(distinct-values(json-lines(\"http://www.rumbledb.org/samples/git-archive-small.json\").payload.commits[[1]].author.email))"
   ]
  },
  {
   "cell_type": "markdown",
   "metadata": {},
   "source": [
    "You have now learned how to navigate large JSON datasets with the dot object lookup syntax, the [] array unboxing syntax, the [[ ]] array lookup syntax, number predicates, and Boolean predicates.\n",
    "\n",
    "All of these work nicely on very large sequences, and you can chain them arbitrarily. In fact, this will all happen in parallel on the cores of your machine or even on a large cluster.\n",
    "\n",
    "You also saw how to aggregate large sequences of values with min, max, count, avg and sum.\n",
    "\n",
    "Finally, you saw how to eliminate duplicates with distinct-values."
   ]
  },
  {
   "cell_type": "markdown",
   "metadata": {},
   "source": [
    "# Variables"
   ]
  },
  {
   "cell_type": "markdown",
   "metadata": {},
   "source": [
    "Some of the queries seen previously involve several chained lookups and function calls. It can become complex"
   ]
  },
  {
   "cell_type": "code",
   "execution_count": 32,
   "metadata": {},
   "outputs": [
    {
     "name": "stdout",
     "output_type": "stream",
     "text": [
      "374\n"
     ]
    }
   ],
   "source": [
    "%%jsoniq\n",
    "count(distinct-values(json-lines(\"http://www.rumbledb.org/samples/git-archive-small.json\").actor.login))"
   ]
  },
  {
   "cell_type": "markdown",
   "metadata": {},
   "source": [
    "It is then a natural thing to use variables to store intermediate results. This can be achieved with a series of let clauses. The final result is then put in a return clause."
   ]
  },
  {
   "cell_type": "code",
   "execution_count": 33,
   "metadata": {},
   "outputs": [
    {
     "name": "stdout",
     "output_type": "stream",
     "text": [
      "374\n"
     ]
    }
   ],
   "source": [
    "%%jsoniq\n",
    "let $path := \"http://www.rumbledb.org/samples/git-archive-small.json\"\n",
    "let $events := json-lines($path)\n",
    "let $actors := $events.actor\n",
    "let $logins := $actors.login\n",
    "let $distinct-logins := distinct-values($logins)\n",
    "return count($distinct-logins)"
   ]
  },
  {
   "cell_type": "markdown",
   "metadata": {},
   "source": [
    "Note that types are not needed, however they exist! It is possible to add a static type to each variable.\n",
    "Since values can be sequences, you can add suffixes for cardinality: * for a sequence of arbitrary length, ? for zero or one item, + for one or more items."
   ]
  },
  {
   "cell_type": "code",
   "execution_count": 34,
   "metadata": {},
   "outputs": [
    {
     "name": "stdout",
     "output_type": "stream",
     "text": [
      "374\n"
     ]
    }
   ],
   "source": [
    "%%jsoniq\n",
    "let $path as string := \"http://www.rumbledb.org/samples/git-archive-small.json\"\n",
    "let $events as object* := json-lines($path)\n",
    "let $actors as object* := $events.actor\n",
    "let $logins as string* := $actors.login\n",
    "let $distinct-logins as string* := distinct-values($logins)\n",
    "let $count as integer := count($distinct-logins)\n",
    "return $count"
   ]
  },
  {
   "cell_type": "markdown",
   "metadata": {},
   "source": [
    "As you can see, variables can be used to store single items, as well as enormous sequences. RumbleDB will automatically select the best way to evaluate your query.\n",
    "\n",
    "Note that it is possible to reuse variable names. However, these are not assignments: these are bindings. Reusing a variable name hides the previous binding."
   ]
  },
  {
   "cell_type": "code",
   "execution_count": 35,
   "metadata": {},
   "outputs": [
    {
     "name": "stdout",
     "output_type": "stream",
     "text": [
      "374\n"
     ]
    }
   ],
   "source": [
    "%%jsoniq\n",
    "let $v as string := \"http://www.rumbledb.org/samples/git-archive-small.json\"\n",
    "let $v as object* := json-lines($v)\n",
    "let $v as object* := $v.actor\n",
    "let $v as string* := $v.login\n",
    "let $v as string* := distinct-values($v)\n",
    "let $v as integer := count($v)\n",
    "return $v"
   ]
  },
  {
   "cell_type": "markdown",
   "metadata": {},
   "source": [
    "## Iteration"
   ]
  },
  {
   "cell_type": "markdown",
   "metadata": {},
   "source": [
    "It is possible to iterate on the elements in a sequence, like so:"
   ]
  },
  {
   "cell_type": "code",
   "execution_count": 36,
   "metadata": {},
   "outputs": [
    {
     "name": "stdout",
     "output_type": "stream",
     "text": [
      "The query output 10 items, which is too many to display. Displaying the first 5 items:\n",
      "2\n",
      "4\n",
      "6\n",
      "8\n",
      "10\n"
     ]
    }
   ],
   "source": [
    "%%jsoniq\n",
    "for $i in 1 to 10\n",
    "return $i * 2"
   ]
  },
  {
   "cell_type": "markdown",
   "metadata": {},
   "source": [
    "The sequence to iterator on can itself come from a dataset, such as the one we were using previously:"
   ]
  },
  {
   "cell_type": "code",
   "execution_count": 37,
   "metadata": {},
   "outputs": [
    {
     "name": "stdout",
     "output_type": "stream",
     "text": [
      "The query output 300 items, which is too many to display. Displaying the first 5 items:\n",
      "1\n",
      "1\n",
      "1\n",
      "0\n",
      "4\n"
     ]
    }
   ],
   "source": [
    "%%jsoniq\n",
    "for $event in json-lines(\"http://www.rumbledb.org/samples/git-archive-small.json\")\n",
    "return size($event.payload.commits)"
   ]
  },
  {
   "cell_type": "markdown",
   "metadata": {},
   "source": [
    "For clauses can be mixed with let clauses:"
   ]
  },
  {
   "cell_type": "code",
   "execution_count": 38,
   "metadata": {},
   "outputs": [
    {
     "name": "stdout",
     "output_type": "stream",
     "text": [
      "The query output 300 items, which is too many to display. Displaying the first 5 items:\n",
      "1\n",
      "1\n",
      "1\n",
      "0\n",
      "4\n"
     ]
    }
   ],
   "source": [
    "%%jsoniq\n",
    "let $path := \"http://www.rumbledb.org/samples/git-archive-small.json\"\n",
    "for $event in json-lines($path)\n",
    "let $commits := $event.payload.commits\n",
    "return size($commits)"
   ]
  },
  {
   "cell_type": "markdown",
   "metadata": {},
   "source": [
    "And the results can also be nested in a more complex query: for example, let us compute the max of all these array sizes."
   ]
  },
  {
   "cell_type": "code",
   "execution_count": 39,
   "metadata": {},
   "outputs": [
    {
     "name": "stdout",
     "output_type": "stream",
     "text": [
      "1\n"
     ]
    }
   ],
   "source": [
    "%%jsoniq\n",
    "max(\n",
    "  let $path := \"http://www.rumbledb.org/samples/git-archive-small.json\"\n",
    "  for $event in subsequence(json-lines($path),1,1)\n",
    "  return 1\n",
    ")"
   ]
  },
  {
   "cell_type": "markdown",
   "metadata": {},
   "source": [
    "A third kind of clause is the where clause: it allows you to filter events. Let us only keep those with more than 10 commits, and count them."
   ]
  },
  {
   "cell_type": "code",
   "execution_count": 40,
   "metadata": {},
   "outputs": [
    {
     "name": "stdout",
     "output_type": "stream",
     "text": [
      "6\n"
     ]
    }
   ],
   "source": [
    "%%jsoniq\n",
    "count(\n",
    "  let $path := \"http://www.rumbledb.org/samples/git-archive-small.json\"\n",
    "  for $event in json-lines($path)\n",
    "  let $commits := $event.payload.commits\n",
    "  where size($commits) gt 10\n",
    "  return $event\n",
    ")"
   ]
  },
  {
   "cell_type": "markdown",
   "metadata": {},
   "source": [
    "## Simple calculations"
   ]
  },
  {
   "cell_type": "markdown",
   "metadata": {},
   "source": [
    "Let us now look closer arithmetics, comparison and logic expressions. They are particularly useful in a where clause or in a Boolean predicate, however these expressions can be used just about anywhere as this is a functional language."
   ]
  },
  {
   "cell_type": "markdown",
   "metadata": {},
   "source": [
    "### Arithmetics"
   ]
  },
  {
   "cell_type": "markdown",
   "metadata": {},
   "source": [
    "JSONiq works like a calculator and can do arithmetics with the four basic operations."
   ]
  },
  {
   "cell_type": "code",
   "execution_count": 41,
   "metadata": {},
   "outputs": [
    {
     "name": "stdout",
     "output_type": "stream",
     "text": [
      "42\n"
     ]
    }
   ],
   "source": [
    "%%jsoniq\n",
    " (38 + 2) div 2 + 11 * 2\n"
   ]
  },
  {
   "cell_type": "markdown",
   "metadata": {},
   "source": [
    "(mind the division operator which is the \"div\" keyword. The slash operator has different semantics).\n",
    "\n",
    "Like JSON, JSONiq works with decimals and doubles:"
   ]
  },
  {
   "cell_type": "code",
   "execution_count": 42,
   "metadata": {},
   "outputs": [
    {
     "name": "stdout",
     "output_type": "stream",
     "text": [
      "2.52924e+25\n"
     ]
    }
   ],
   "source": [
    "%%jsoniq\n",
    " 6.022e23 * 42"
   ]
  },
  {
   "cell_type": "markdown",
   "metadata": {},
   "source": [
    "JSONiq also support modulos, integer division, and has a rich function library (trigonometry, logarithms, exponential, powers, etc)."
   ]
  },
  {
   "cell_type": "markdown",
   "metadata": {},
   "source": [
    "## Comparison"
   ]
  },
  {
   "cell_type": "markdown",
   "metadata": {},
   "source": [
    "Values (numbers, strings, dates, etc) can be compared with the binary operators eq, ne, gt, ge, lt and le.\n",
    "Let us change the comparison used in the where clause with other kinds."
   ]
  },
  {
   "cell_type": "code",
   "execution_count": 43,
   "metadata": {},
   "outputs": [
    {
     "name": "stdout",
     "output_type": "stream",
     "text": [
      "6\n"
     ]
    }
   ],
   "source": [
    "%%jsoniq\n",
    "count(\n",
    "  let $path := \"http://www.rumbledb.org/samples/git-archive-small.json\"\n",
    "  for $event in json-lines($path)\n",
    "  let $commits := $event.payload.commits\n",
    "  where size($commits) gt 10\n",
    "  return $event\n",
    ")"
   ]
  },
  {
   "cell_type": "code",
   "execution_count": 44,
   "metadata": {},
   "outputs": [
    {
     "name": "stdout",
     "output_type": "stream",
     "text": [
      "0\n"
     ]
    }
   ],
   "source": [
    "%%jsoniq\n",
    "count(\n",
    "  let $path := \"http://www.rumbledb.org/samples/git-archive-small.json\"\n",
    "  for $event in json-lines($path)\n",
    "  let $commits := $event.payload.commits\n",
    "  where size($commits) eq 10\n",
    "  return $event\n",
    ")"
   ]
  },
  {
   "cell_type": "code",
   "execution_count": 45,
   "metadata": {},
   "outputs": [
    {
     "name": "stdout",
     "output_type": "stream",
     "text": [
      "300\n"
     ]
    }
   ],
   "source": [
    "%%jsoniq\n",
    "count(\n",
    "  let $path := \"http://www.rumbledb.org/samples/git-archive-small.json\"\n",
    "  for $event in json-lines($path)\n",
    "  let $commits := $event.payload.commits\n",
    "  where size($commits) ne 10\n",
    "  return $event\n",
    ")"
   ]
  },
  {
   "cell_type": "code",
   "execution_count": 46,
   "metadata": {},
   "outputs": [
    {
     "name": "stdout",
     "output_type": "stream",
     "text": [
      "294\n"
     ]
    }
   ],
   "source": [
    "%%jsoniq\n",
    "count(\n",
    "  let $path := \"http://www.rumbledb.org/samples/git-archive-small.json\"\n",
    "  for $event in json-lines($path)\n",
    "  let $commits := $event.payload.commits\n",
    "  where size($commits) le 10\n",
    "  return $event\n",
    ")"
   ]
  },
  {
   "cell_type": "markdown",
   "metadata": {},
   "source": [
    "Why not = or < or >=? This is because these are more powerful. In fact, they implicitly perform an existential quantification over the operands."
   ]
  },
  {
   "cell_type": "code",
   "execution_count": 47,
   "metadata": {},
   "outputs": [
    {
     "name": "stdout",
     "output_type": "stream",
     "text": [
      "true\n"
     ]
    }
   ],
   "source": [
    "%%jsoniq\n",
    "1 to 10 = 5"
   ]
  },
  {
   "cell_type": "code",
   "execution_count": 48,
   "metadata": {},
   "outputs": [
    {
     "name": "stdout",
     "output_type": "stream",
     "text": [
      "false\n"
     ]
    }
   ],
   "source": [
    "%%jsoniq\n",
    "1 to 10 > 11 to 20"
   ]
  },
  {
   "cell_type": "markdown",
   "metadata": {},
   "source": [
    "### Logical operations\n",
    "\n",
    "JSONiq supports Boolean logic."
   ]
  },
  {
   "cell_type": "code",
   "execution_count": 49,
   "metadata": {},
   "outputs": [
    {
     "name": "stdout",
     "output_type": "stream",
     "text": [
      "false\n"
     ]
    }
   ],
   "source": [
    "%%jsoniq\n",
    "true and false"
   ]
  },
  {
   "cell_type": "code",
   "execution_count": 50,
   "metadata": {},
   "outputs": [
    {
     "name": "stdout",
     "output_type": "stream",
     "text": [
      "true\n"
     ]
    }
   ],
   "source": [
    "%%jsoniq\n",
    "(true or false) and (false or true)"
   ]
  },
  {
   "cell_type": "markdown",
   "metadata": {},
   "source": [
    "The unary not is also available:"
   ]
  },
  {
   "cell_type": "code",
   "execution_count": 51,
   "metadata": {
    "cell_status": {
     "execute_time": {
      "duration": 243.537109375,
      "end_time": 1557235032261.665
     }
    }
   },
   "outputs": [
    {
     "name": "stdout",
     "output_type": "stream",
     "text": [
      "false\n"
     ]
    }
   ],
   "source": [
    "%%jsoniq\n",
    "not true"
   ]
  },
  {
   "cell_type": "markdown",
   "metadata": {},
   "source": [
    "Note that JSONiq, unlike SQL, does two-valued logic. Nulls are automatically converted to false."
   ]
  },
  {
   "cell_type": "code",
   "execution_count": 52,
   "metadata": {},
   "outputs": [
    {
     "name": "stdout",
     "output_type": "stream",
     "text": [
      "false\n"
     ]
    }
   ],
   "source": [
    "%%jsoniq\n",
    "null and true"
   ]
  },
  {
   "cell_type": "markdown",
   "metadata": {},
   "source": [
    "Some non-Booleans can also get converted. For example, non-empty strings are converted to true and empty strings to false."
   ]
  },
  {
   "cell_type": "code",
   "execution_count": 53,
   "metadata": {},
   "outputs": [
    {
     "name": "stdout",
     "output_type": "stream",
     "text": [
      "true\n"
     ]
    }
   ],
   "source": [
    "%%jsoniq\n",
    "not \"\""
   ]
  },
  {
   "cell_type": "code",
   "execution_count": 54,
   "metadata": {},
   "outputs": [
    {
     "name": "stdout",
     "output_type": "stream",
     "text": [
      "false\n"
     ]
    }
   ],
   "source": [
    "%%jsoniq\n",
    "not \"non empty\""
   ]
  },
  {
   "cell_type": "markdown",
   "metadata": {},
   "source": [
    "Zero is converted to false, non-zero numbers to true."
   ]
  },
  {
   "cell_type": "code",
   "execution_count": 55,
   "metadata": {},
   "outputs": [
    {
     "name": "stdout",
     "output_type": "stream",
     "text": [
      "true\n"
     ]
    }
   ],
   "source": [
    "%%jsoniq\n",
    "not 0"
   ]
  },
  {
   "cell_type": "code",
   "execution_count": 56,
   "metadata": {},
   "outputs": [
    {
     "name": "stdout",
     "output_type": "stream",
     "text": [
      "false\n"
     ]
    }
   ],
   "source": [
    "%%jsoniq\n",
    "not 1e10"
   ]
  },
  {
   "cell_type": "markdown",
   "metadata": {},
   "source": [
    "### Strings\n",
    "\n",
    "JSONiq is capable of manipulating strings as well, using functions:\n"
   ]
  },
  {
   "cell_type": "code",
   "execution_count": 57,
   "metadata": {
    "cell_status": {
     "execute_time": {
      "duration": 21398.401123046875,
      "end_time": 1557212587338.105
     }
    }
   },
   "outputs": [
    {
     "name": "stdout",
     "output_type": "stream",
     "text": [
      "\"Hello Captain Kirk\"\n"
     ]
    }
   ],
   "source": [
    "%%jsoniq\n",
    "concat(\"Hello \", \"Captain \", \"Kirk\")"
   ]
  },
  {
   "cell_type": "code",
   "execution_count": 58,
   "metadata": {
    "cell_status": {
     "execute_time": {
      "duration": 752.509033203125,
      "end_time": 1557234001018.501
     }
    }
   },
   "outputs": [
    {
     "name": "stdout",
     "output_type": "stream",
     "text": [
      "\"Spock\"\n"
     ]
    }
   ],
   "source": [
    "%%jsoniq\n",
    "substring(\"Mister Spock\", 8, 5)"
   ]
  },
  {
   "cell_type": "markdown",
   "metadata": {},
   "source": [
    "JSONiq comes up with a rich string function library out of the box, inherited from its base language. These functions are listed [here](https://www.w3.org/TR/xpath-functions-30/) (actually, you will find many more for numbers, dates, etc).\n"
   ]
  },
  {
   "cell_type": "markdown",
   "metadata": {
    "cell_status": {
     "execute_time": {
      "duration": 17337.39599609375,
      "end_time": 1557230774662.657
     }
    }
   },
   "source": [
    "\n",
    "### Sequences\n",
    "\n",
    "Until now, we have only been working with single values (an object, an array, a number, a string, a boolean). JSONiq supports sequences of values. You can build a sequence using commas:\n"
   ]
  },
  {
   "cell_type": "code",
   "execution_count": 59,
   "metadata": {},
   "outputs": [
    {
     "name": "stdout",
     "output_type": "stream",
     "text": [
      "The query output 10 items, which is too many to display. Displaying the first 5 items:\n",
      "1\n",
      "2\n",
      "3\n",
      "4\n",
      "5\n"
     ]
    }
   ],
   "source": [
    "%%jsoniq\n",
    " (1, 2, 3, 4, 5, 6, 7, 8, 9, 10)"
   ]
  },
  {
   "cell_type": "code",
   "execution_count": 60,
   "metadata": {
    "cell_status": {
     "execute_time": {
      "duration": 222241.63500976562,
      "end_time": 1557387411306.792
     }
    }
   },
   "outputs": [
    {
     "name": "stdout",
     "output_type": "stream",
     "text": [
      "1\n",
      "true\n",
      "42\n",
      "\"Life\"\n"
     ]
    }
   ],
   "source": [
    "%%jsoniq\n",
    "1, true, 4.2e1, \"Life\""
   ]
  },
  {
   "cell_type": "markdown",
   "metadata": {},
   "source": [
    "The \"to\" operator is very convenient, too:"
   ]
  },
  {
   "cell_type": "code",
   "execution_count": 61,
   "metadata": {
    "cell_status": {
     "execute_time": {
      "duration": 39579.559814453125,
      "end_time": 1557387951481.842
     }
    }
   },
   "outputs": [
    {
     "name": "stderr",
     "output_type": "stream",
     "text": [
      "                                                                                "
     ]
    },
    {
     "name": "stdout",
     "output_type": "stream",
     "text": [
      "+-----+\n",
      "|value|\n",
      "+-----+\n",
      "|    1|\n",
      "|    2|\n",
      "|    3|\n",
      "|    4|\n",
      "|    5|\n",
      "|    6|\n",
      "|    7|\n",
      "|    8|\n",
      "|    9|\n",
      "|   10|\n",
      "|   11|\n",
      "|   12|\n",
      "|   13|\n",
      "|   14|\n",
      "|   15|\n",
      "|   16|\n",
      "|   17|\n",
      "|   18|\n",
      "|   19|\n",
      "|   20|\n",
      "+-----+\n",
      "only showing top 20 rows\n"
     ]
    },
    {
     "name": "stderr",
     "output_type": "stream",
     "text": [
      "                                                                                "
     ]
    },
    {
     "name": "stdout",
     "output_type": "stream",
     "text": [
      "    value\n",
      "0       1\n",
      "1       2\n",
      "2       3\n",
      "3       4\n",
      "4       5\n",
      "..    ...\n",
      "95     96\n",
      "96     97\n",
      "97     98\n",
      "98     99\n",
      "99    100\n",
      "\n",
      "[100 rows x 1 columns]\n"
     ]
    },
    {
     "name": "stderr",
     "output_type": "stream",
     "text": [
      "[Stage 149:===============================================>     (89 + 11) / 100]"
     ]
    },
    {
     "name": "stdout",
     "output_type": "stream",
     "text": [
      "The query output 100 items, which is too many to display. Displaying the first 5 items:\n",
      "1\n",
      "2\n",
      "3\n",
      "4\n",
      "5\n",
      "Response time: 24.965473890304565 ms\n"
     ]
    },
    {
     "name": "stderr",
     "output_type": "stream",
     "text": [
      "                                                                                "
     ]
    }
   ],
   "source": [
    "%%jsoniq -df -pdf -j -t\n",
    " (1 to 100000000)[position() le 100]"
   ]
  },
  {
   "cell_type": "markdown",
   "metadata": {},
   "source": [
    "Some functions even work on sequences:"
   ]
  },
  {
   "cell_type": "code",
   "execution_count": 62,
   "metadata": {
    "cell_status": {
     "execute_time": {
      "duration": 27601.31787109375,
      "end_time": 1557171455208.987
     }
    }
   },
   "outputs": [
    {
     "name": "stdout",
     "output_type": "stream",
     "text": [
      "5050\n"
     ]
    }
   ],
   "source": [
    "%%jsoniq\n",
    "sum(1 to 100)"
   ]
  },
  {
   "cell_type": "code",
   "execution_count": 63,
   "metadata": {
    "cell_status": {
     "execute_time": {
      "duration": 55527.44091796875,
      "end_time": 1557229508578.007
     }
    }
   },
   "outputs": [
    {
     "name": "stdout",
     "output_type": "stream",
     "text": [
      "\"These-are-some-words\"\n"
     ]
    }
   ],
   "source": [
    "%%jsoniq\n",
    "string-join((\"These\", \"are\", \"some\", \"words\"), \"-\")"
   ]
  },
  {
   "cell_type": "code",
   "execution_count": 64,
   "metadata": {
    "cell_status": {
     "execute_time": {
      "duration": 13343.739013671875,
      "end_time": 1557224627704.526
     }
    }
   },
   "outputs": [
    {
     "name": "stdout",
     "output_type": "stream",
     "text": [
      "11\n"
     ]
    }
   ],
   "source": [
    "%%jsoniq\n",
    "count(10 to 20)"
   ]
  },
  {
   "cell_type": "code",
   "execution_count": 65,
   "metadata": {
    "cell_status": {
     "execute_time": {
      "duration": 19340.81201171875,
      "end_time": 1557220260002.04
     }
    }
   },
   "outputs": [
    {
     "name": "stdout",
     "output_type": "stream",
     "text": [
      "50.5\n"
     ]
    }
   ],
   "source": [
    "%%jsoniq\n",
    "avg(1 to 100)"
   ]
  },
  {
   "cell_type": "markdown",
   "metadata": {},
   "source": [
    "Unlike arrays, sequences are flat. The sequence (3) is identical to the integer 3, and (1, (2, 3)) is identical to (1, 2, 3)."
   ]
  },
  {
   "cell_type": "markdown",
   "metadata": {},
   "source": [
    "and even filter out some values:"
   ]
  },
  {
   "cell_type": "code",
   "execution_count": 66,
   "metadata": {},
   "outputs": [
    {
     "name": "stdout",
     "output_type": "stream",
     "text": [
      "2\n",
      "4\n",
      "6\n",
      "8\n"
     ]
    }
   ],
   "source": [
    "%%jsoniq\n",
    "let $sequence := 1 to 10\n",
    "for $value in $sequence\n",
    "let $square := $value * 2\n",
    "where $square < 10\n",
    "return $square"
   ]
  },
  {
   "cell_type": "markdown",
   "metadata": {},
   "source": [
    "Note that you can only iterate over sequences, not arrays. To iterate over an array, you can obtain the sequence of its values with the [] operator, like so:\n"
   ]
  },
  {
   "cell_type": "code",
   "execution_count": 67,
   "metadata": {},
   "outputs": [
    {
     "name": "stdout",
     "output_type": "stream",
     "text": [
      "1\n",
      "2\n",
      "3\n"
     ]
    }
   ],
   "source": [
    "%%jsoniq\n",
    "[1, 2, 3][]"
   ]
  },
  {
   "cell_type": "markdown",
   "metadata": {},
   "source": [
    "### Conditions\n",
    "\n",
    "You can make the output depend on a condition with an if-then-else construct:"
   ]
  },
  {
   "cell_type": "code",
   "execution_count": 68,
   "metadata": {},
   "outputs": [
    {
     "name": "stdout",
     "output_type": "stream",
     "text": [
      "The query output 10 items, which is too many to display. Displaying the first 5 items:\n",
      "1\n",
      "2\n",
      "3\n",
      "4\n",
      "-5\n"
     ]
    }
   ],
   "source": [
    "%%jsoniq\n",
    "for $x in 1 to 10\n",
    "return if ($x < 5) then $x\n",
    "                   else -$x"
   ]
  },
  {
   "cell_type": "markdown",
   "metadata": {},
   "source": [
    "Note that the else clause is required - however, it can be the empty sequence () which is often when you need if only the then clause is relevant to you."
   ]
  },
  {
   "cell_type": "markdown",
   "metadata": {},
   "source": [
    "### Composability of Expressions\n",
    "\n",
    "Now that you know of a couple of elementary JSONiq expressions, you can combine them in more elaborate expressions. For example, you can put any sequence of values in an array:"
   ]
  },
  {
   "cell_type": "code",
   "execution_count": 69,
   "metadata": {},
   "outputs": [
    {
     "name": "stdout",
     "output_type": "stream",
     "text": [
      "[\n",
      "  1,\n",
      "  2,\n",
      "  3,\n",
      "  4,\n",
      "  5,\n",
      "  6,\n",
      "  7,\n",
      "  8,\n",
      "  9,\n",
      "  10\n",
      "]\n"
     ]
    }
   ],
   "source": [
    "%%jsoniq\n",
    "[ 1 to 10 ]"
   ]
  },
  {
   "cell_type": "markdown",
   "metadata": {},
   "source": [
    "Or you can dynamically compute the value of object pairs (or their key):"
   ]
  },
  {
   "cell_type": "code",
   "execution_count": 70,
   "metadata": {},
   "outputs": [
    {
     "name": "stdout",
     "output_type": "stream",
     "text": [
      "{\n",
      "  \"Greeting\": \"Hello, Mister Spock\",\n",
      "  \"Farewell\": \"Live long and prosper\"\n",
      "}\n"
     ]
    }
   ],
   "source": [
    "%%jsoniq\n",
    "{\n",
    "      \"Greeting\" : (let $d := \"Mister Spock\"\n",
    "                    return concat(\"Hello, \", $d)),\n",
    "      \"Farewell\" : string-join((\"Live\", \"long\", \"and\", \"prosper\"),\n",
    "                               \" \")\n",
    "}"
   ]
  },
  {
   "cell_type": "markdown",
   "metadata": {},
   "source": [
    "You can dynamically generate object singletons (with a single pair):\n"
   ]
  },
  {
   "cell_type": "code",
   "execution_count": 71,
   "metadata": {},
   "outputs": [
    {
     "name": "stdout",
     "output_type": "stream",
     "text": [
      "{\n",
      "  \"Integer 2\": 4\n",
      "}\n"
     ]
    }
   ],
   "source": [
    "%%jsoniq\n",
    "{ concat(\"Integer \", 2) : 2 * 2 }"
   ]
  },
  {
   "cell_type": "markdown",
   "metadata": {},
   "source": [
    "and then merge lots of them into a new object with the {| |} notation:"
   ]
  },
  {
   "cell_type": "code",
   "execution_count": 72,
   "metadata": {},
   "outputs": [
    {
     "name": "stdout",
     "output_type": "stream",
     "text": [
      "{\n",
      "  \"Square of 1\": 1,\n",
      "  \"Square of 2\": 4,\n",
      "  \"Square of 3\": 9,\n",
      "  \"Square of 4\": 16,\n",
      "  \"Square of 5\": 25,\n",
      "  \"Square of 6\": 36,\n",
      "  \"Square of 7\": 49,\n",
      "  \"Square of 8\": 64,\n",
      "  \"Square of 9\": 81,\n",
      "  \"Square of 10\": 100\n",
      "}\n"
     ]
    }
   ],
   "source": [
    "%%jsoniq\n",
    "{|\n",
    "    for $i in 1 to 10\n",
    "    return { concat(\"Square of \", $i) : $i * $i }\n",
    "|}"
   ]
  },
  {
   "cell_type": "markdown",
   "metadata": {},
   "source": [
    "## JSON Navigation\n",
    "\n",
    "Up to now, you have learnt how to compose expressions so as to do some computations and to build objects and arrays. It also works the other way round: if you have some JSON data, you can access it and navigate.\n",
    "All you need to know is: JSONiq views\n",
    "an array as an ordered list of values,\n",
    "an object as a set of name/value pairs\n"
   ]
  },
  {
   "cell_type": "markdown",
   "metadata": {},
   "source": [
    "### Objects\n",
    "\n",
    "You can use the dot operator to retrieve the value associated with a key. Quotes are optional, except if the key has special characters such as spaces. It will return the value associated thereto:"
   ]
  },
  {
   "cell_type": "code",
   "execution_count": 73,
   "metadata": {},
   "outputs": [
    {
     "name": "stdout",
     "output_type": "stream",
     "text": [
      "\"Sarah\"\n"
     ]
    }
   ],
   "source": [
    "%%jsoniq\n",
    "let $person := {\n",
    "    \"first name\" : \"Sarah\",\n",
    "    \"age\" : 13,\n",
    "    \"gender\" : \"female\",\n",
    "    \"friends\" : [ \"Jim\", \"Mary\", \"Jennifer\"]\n",
    "}\n",
    "return $person.\"first name\""
   ]
  },
  {
   "cell_type": "markdown",
   "metadata": {},
   "source": [
    "You can also ask for all keys in an object:"
   ]
  },
  {
   "cell_type": "code",
   "execution_count": 74,
   "metadata": {},
   "outputs": [
    {
     "name": "stdout",
     "output_type": "stream",
     "text": [
      "{\n",
      "  \"keys\": [\n",
      "    \"name\",\n",
      "    \"age\",\n",
      "    \"gender\",\n",
      "    \"friends\"\n",
      "  ]\n",
      "}\n"
     ]
    }
   ],
   "source": [
    "%%jsoniq\n",
    "let $person := {\n",
    "    \"name\" : \"Sarah\",\n",
    "    \"age\" : 13,\n",
    "    \"gender\" : \"female\",\n",
    "    \"friends\" : [ \"Jim\", \"Mary\", \"Jennifer\"]\n",
    "}\n",
    "return { \"keys\" : [ keys($person)] }"
   ]
  },
  {
   "cell_type": "markdown",
   "metadata": {},
   "source": [
    "### Arrays\n",
    "\n",
    "The [[]] operator retrieves the entry at the given position:"
   ]
  },
  {
   "cell_type": "code",
   "execution_count": 75,
   "metadata": {},
   "outputs": [
    {
     "name": "stdout",
     "output_type": "stream",
     "text": [
      "\"Mary\"\n"
     ]
    }
   ],
   "source": [
    "%%jsoniq\n",
    "let $friends := [ \"Jim\", \"Mary\", \"Jennifer\"]\n",
    "return $friends[[1+1]]"
   ]
  },
  {
   "cell_type": "markdown",
   "metadata": {},
   "source": [
    "It is also possible to get the size of an array:"
   ]
  },
  {
   "cell_type": "code",
   "execution_count": 76,
   "metadata": {},
   "outputs": [
    {
     "name": "stdout",
     "output_type": "stream",
     "text": [
      "{\n",
      "  \"how many friends\": 3\n",
      "}\n"
     ]
    }
   ],
   "source": [
    "%%jsoniq\n",
    "let $person := {\n",
    "    \"name\" : \"Sarah\",\n",
    "    \"age\" : 13,\n",
    "    \"gender\" : \"female\",\n",
    "    \"friends\" : [ \"Jim\", \"Mary\", \"Jennifer\"]\n",
    "}\n",
    "return { \"how many friends\" : size($person.friends) }"
   ]
  },
  {
   "cell_type": "markdown",
   "metadata": {},
   "source": [
    "Finally, the [] operator returns all elements in an array, as a sequence:"
   ]
  },
  {
   "cell_type": "code",
   "execution_count": 77,
   "metadata": {},
   "outputs": [
    {
     "name": "stdout",
     "output_type": "stream",
     "text": [
      "\"Jim\"\n",
      "\"Mary\"\n",
      "\"Jennifer\"\n"
     ]
    }
   ],
   "source": [
    "%%jsoniq\n",
    "let $person := {\n",
    "    \"name\" : \"Sarah\",\n",
    "    \"age\" : 13,\n",
    "    \"gender\" : \"female\",\n",
    "    \"friends\" : [ \"Jim\", \"Mary\", \"Jennifer\"]\n",
    "}\n",
    "return $person.friends[]"
   ]
  },
  {
   "cell_type": "markdown",
   "metadata": {},
   "source": [
    "### Relational Algebra\n",
    "\n",
    "Do you remember SQL's SELECT FROM WHERE statements? JSONiq inherits selection, projection and join capability from XQuery, too."
   ]
  },
  {
   "cell_type": "code",
   "execution_count": 78,
   "metadata": {},
   "outputs": [
    {
     "name": "stdout",
     "output_type": "stream",
     "text": [
      "[\n",
      "  {\n",
      "    \"nb\": 1,\n",
      "    \"state\": \"MA\",\n",
      "    \"sold\": \"broiler\"\n",
      "  },\n",
      "  {\n",
      "    \"nb\": 1,\n",
      "    \"state\": \"MA\",\n",
      "    \"sold\": \"socks\"\n",
      "  },\n",
      "  {\n",
      "    \"nb\": 2,\n",
      "    \"state\": \"MA\",\n",
      "    \"sold\": \"toaster\"\n",
      "  },\n",
      "  {\n",
      "    \"nb\": 2,\n",
      "    \"state\": \"MA\",\n",
      "    \"sold\": \"toaster\"\n",
      "  },\n",
      "  {\n",
      "    \"nb\": 2,\n",
      "    \"state\": \"MA\",\n",
      "    \"sold\": \"socks\"\n",
      "  },\n",
      "  {\n",
      "    \"nb\": 3,\n",
      "    \"state\": \"CA\",\n",
      "    \"sold\": \"toaster\"\n",
      "  },\n",
      "  {\n",
      "    \"nb\": 3,\n",
      "    \"state\": \"CA\",\n",
      "    \"sold\": \"blender\"\n",
      "  },\n",
      "  {\n",
      "    \"nb\": 3,\n",
      "    \"state\": \"CA\",\n",
      "    \"sold\": \"blender\"\n",
      "  },\n",
      "  {\n",
      "    \"nb\": 3,\n",
      "    \"state\": \"CA\",\n",
      "    \"sold\": \"shirt\"\n",
      "  }\n",
      "]\n"
     ]
    }
   ],
   "source": [
    "%%jsoniq\n",
    "let $stores :=\n",
    "[\n",
    "    { \"store number\" : 1, \"state\" : \"MA\" },\n",
    "    { \"store number\" : 2, \"state\" : \"MA\" },\n",
    "    { \"store number\" : 3, \"state\" : \"CA\" },\n",
    "    { \"store number\" : 4, \"state\" : \"CA\" }\n",
    "]\n",
    "let $sales := [\n",
    "    { \"product\" : \"broiler\", \"store number\" : 1, \"quantity\" : 20  },\n",
    "    { \"product\" : \"toaster\", \"store number\" : 2, \"quantity\" : 100 },\n",
    "    { \"product\" : \"toaster\", \"store number\" : 2, \"quantity\" : 50 },\n",
    "    { \"product\" : \"toaster\", \"store number\" : 3, \"quantity\" : 50 },\n",
    "    { \"product\" : \"blender\", \"store number\" : 3, \"quantity\" : 100 },\n",
    "    { \"product\" : \"blender\", \"store number\" : 3, \"quantity\" : 150 },\n",
    "    { \"product\" : \"socks\", \"store number\" : 1, \"quantity\" : 500 },\n",
    "    { \"product\" : \"socks\", \"store number\" : 2, \"quantity\" : 10 },\n",
    "    { \"product\" : \"shirt\", \"store number\" : 3, \"quantity\" : 10 }\n",
    "]\n",
    "let $join :=\n",
    "    for $store in $stores[], $sale in $sales[]\n",
    "    where $store.\"store number\" = $sale.\"store number\"\n",
    "    return {\n",
    "        \"nb\" : $store.\"store number\",\n",
    "        \"state\" : $store.state,\n",
    "        \"sold\" : $sale.product\n",
    "    }\n",
    "return [$join]"
   ]
  },
  {
   "cell_type": "markdown",
   "metadata": {},
   "source": [
    "### Access datasets\n",
    "\n",
    "RumbleDB can read input from many file systems and many file formats. If you are using our backend, you can only use json-doc() with any URI pointing to a JSON file and navigate it as you see fit. \n",
    "\n",
    "You can read data from your local disk, from S3, from HDFS, and also from the Web. For this tutorial, we'll read from the Web because, well, we are already on the Web.\n",
    "\n",
    "We have put a sample at http://rumbledb.org/samples/products-small.json that contains 100,000 small objects like:\n",
    "\n"
   ]
  },
  {
   "cell_type": "code",
   "execution_count": 79,
   "metadata": {},
   "outputs": [
    {
     "name": "stdout",
     "output_type": "stream",
     "text": [
      "There was an error on line 1 in file:/Users/ghislain/Code/rumble/:\n",
      "\n",
      "json-lines(\"http://rumbledb.org/samples/products-small.json\", 10)[1] }\n",
      "                                                                      ^\n",
      "\n",
      "Code: [XPST0003]\n",
      "Message: Parser failed. }\n",
      "Metadata: file:/Users/ghislain/Code/rumble/:LINE:1:COLUMN:70:\n",
      "This code can also be looked up in the documentation and specifications for more information.\n",
      "\n"
     ]
    }
   ],
   "source": [
    "%%jsoniq\n",
    "json-lines(\"http://rumbledb.org/samples/products-small.json\", 10)[1] }"
   ]
  },
  {
   "cell_type": "markdown",
   "metadata": {},
   "source": [
    "The second parameter to json-lines, 10, indicates to RumbleDB that it should organize the data in ten partitions after downloading it, and process it in parallel. If you were reading from HDFS or S3, the parallelization of these partitions would be pushed down to the distributed file system.\n",
    "\n",
    "JSONiq supports the relational algebra. For example, you can do a selection with a where clause, like so:"
   ]
  },
  {
   "cell_type": "code",
   "execution_count": 80,
   "metadata": {},
   "outputs": [
    {
     "name": "stdout",
     "output_type": "stream",
     "text": [
      "     product  store-number                  quantity\n",
      "0    toaster            97   997.0000000000000000000\n",
      "1      phone           100  1000.0000000000000000000\n",
      "2         tv            96   996.0000000000000000000\n",
      "3      socks            99   999.0000000000000000000\n",
      "4      shirt            95   995.0000000000000000000\n",
      "..       ...           ...                       ...\n",
      "595    socks           100  1000.0000000000000000000\n",
      "596    shirt            96   996.0000000000000000000\n",
      "597  toaster            99   999.0000000000000000000\n",
      "598  blender            95   995.0000000000000000000\n",
      "599       tv            98   998.0000000000000000000\n",
      "\n",
      "[600 rows x 3 columns]\n"
     ]
    }
   ],
   "source": [
    "%%jsoniq -pdf\n",
    "declare type mytype as {\n",
    "    \"product\" : \"string\",\n",
    "    \"store-number\" : \"int\",\n",
    "    \"quantity\" : \"decimal\"\n",
    "};\n",
    "validate type mytype* { \n",
    "    for $product in json-lines(\"http://rumbledb.org/samples/products-small.json\", 10)\n",
    "    where $product.quantity ge 995\n",
    "    return $product\n",
    "}"
   ]
  },
  {
   "cell_type": "markdown",
   "metadata": {
    "collapsed": true,
    "jupyter": {
     "outputs_hidden": true
    }
   },
   "source": [
    "Notice that by default only the first 200 items are shown. In a typical setup, it is possible to output the result of a query to a distributed system, so it is also possible to output all the results if needed. In this case, however, as this is printed on your screen, it is more convenient not to materialize the entire sequence.\n",
    "\n",
    "For a projection, there is project():"
   ]
  },
  {
   "cell_type": "code",
   "execution_count": 81,
   "metadata": {},
   "outputs": [
    {
     "name": "stdout",
     "output_type": "stream",
     "text": [
      "The query output 600 items, which is too many to display. Displaying the first 5 items:\n",
      "{\n",
      "  \"store-number\": 97,\n",
      "  \"product\": \"toaster\"\n",
      "}\n",
      "{\n",
      "  \"store-number\": 100,\n",
      "  \"product\": \"phone\"\n",
      "}\n",
      "{\n",
      "  \"store-number\": 96,\n",
      "  \"product\": \"tv\"\n",
      "}\n",
      "{\n",
      "  \"store-number\": 99,\n",
      "  \"product\": \"socks\"\n",
      "}\n",
      "{\n",
      "  \"store-number\": 95,\n",
      "  \"product\": \"shirt\"\n",
      "}\n"
     ]
    }
   ],
   "source": [
    "%%jsoniq\n",
    "for $product in json-lines(\"http://rumbledb.org/samples/products-small.json\", 10)\n",
    "where $product.quantity ge 995\n",
    "return project($product, (\"store-number\", \"product\"))"
   ]
  },
  {
   "cell_type": "markdown",
   "metadata": {},
   "source": [
    "You can also page the results (like OFFSET and LIMIT in SQL) with a count clause and a where clause"
   ]
  },
  {
   "cell_type": "code",
   "execution_count": 82,
   "metadata": {},
   "outputs": [
    {
     "name": "stdout",
     "output_type": "stream",
     "text": [
      "The query output 10 items, which is too many to display. Displaying the first 5 items:\n",
      "{\n",
      "  \"store-number\": 95,\n",
      "  \"product\": \"blender\"\n",
      "}\n",
      "{\n",
      "  \"store-number\": 98,\n",
      "  \"product\": \"tv\"\n",
      "}\n",
      "{\n",
      "  \"store-number\": 97,\n",
      "  \"product\": \"shirt\"\n",
      "}\n",
      "{\n",
      "  \"store-number\": 100,\n",
      "  \"product\": \"toaster\"\n",
      "}\n",
      "{\n",
      "  \"store-number\": 96,\n",
      "  \"product\": \"blender\"\n",
      "}\n"
     ]
    }
   ],
   "source": [
    "%%jsoniq\n",
    "for $product in json-lines(\"http://rumbledb.org/samples/products-small.json\", 10)\n",
    "where $product.quantity ge 995\n",
    "count $c\n",
    "where $c gt 10 and $c le 20\n",
    "return project($product, (\"store-number\", \"product\"))"
   ]
  },
  {
   "cell_type": "markdown",
   "metadata": {},
   "source": [
    "JSONiq also supports grouping with a group by clause:"
   ]
  },
  {
   "cell_type": "code",
   "execution_count": 83,
   "metadata": {},
   "outputs": [
    {
     "name": "stderr",
     "output_type": "stream",
     "text": [
      "                                                                                "
     ]
    },
    {
     "name": "stdout",
     "output_type": "stream",
     "text": [
      "The query output 100 items, which is too many to display. Displaying the first 5 items:\n",
      "{\n",
      "  \"store\": 1,\n",
      "  \"count\": 1000\n",
      "}\n",
      "{\n",
      "  \"store\": 2,\n",
      "  \"count\": 1000\n",
      "}\n",
      "{\n",
      "  \"store\": 3,\n",
      "  \"count\": 1000\n",
      "}\n",
      "{\n",
      "  \"store\": 4,\n",
      "  \"count\": 1000\n",
      "}\n",
      "{\n",
      "  \"store\": 5,\n",
      "  \"count\": 1000\n",
      "}\n"
     ]
    }
   ],
   "source": [
    "%%jsoniq\n",
    "for $product in json-lines(\"http://rumbledb.org/samples/products-small.json\", 10)\n",
    "group by $store-number := $product.store-number\n",
    "return {\n",
    "    \"store\" : $store-number,\n",
    "    \"count\" : count($product)\n",
    "}"
   ]
  },
  {
   "cell_type": "markdown",
   "metadata": {},
   "source": [
    "As well as ordering with an order by clause:"
   ]
  },
  {
   "cell_type": "code",
   "execution_count": 84,
   "metadata": {},
   "outputs": [
    {
     "name": "stdout",
     "output_type": "stream",
     "text": [
      "The query output 100 items, which is too many to display. Displaying the first 5 items:\n",
      "{\n",
      "  \"store\": 1,\n",
      "  \"count\": 1000\n",
      "}\n",
      "{\n",
      "  \"store\": 2,\n",
      "  \"count\": 1000\n",
      "}\n",
      "{\n",
      "  \"store\": 3,\n",
      "  \"count\": 1000\n",
      "}\n",
      "{\n",
      "  \"store\": 4,\n",
      "  \"count\": 1000\n",
      "}\n",
      "{\n",
      "  \"store\": 5,\n",
      "  \"count\": 1000\n",
      "}\n"
     ]
    }
   ],
   "source": [
    "%%jsoniq\n",
    "for $product in json-lines(\"http://rumbledb.org/samples/products-small.json\", 10)\n",
    "group by $store-number := $product.store-number\n",
    "order by $store-number ascending\n",
    "return {\n",
    "    \"store\" : $store-number,\n",
    "    \"count\" : count($product)\n",
    "}"
   ]
  },
  {
   "cell_type": "markdown",
   "metadata": {},
   "source": [
    "JSONiq supports denormalized data, so you are not forced to aggregate after a grouping, you can also nest data like so:"
   ]
  },
  {
   "cell_type": "code",
   "execution_count": 85,
   "metadata": {},
   "outputs": [
    {
     "name": "stdout",
     "output_type": "stream",
     "text": [
      "The query output 100 items, which is too many to display. Displaying the first 5 items:\n",
      "{\n",
      "  \"store\": 1,\n",
      "  \"products\": [\n",
      "    \"shirt\",\n",
      "    \"toaster\",\n",
      "    \"phone\",\n",
      "    \"blender\",\n",
      "    \"tv\",\n",
      "    \"socks\",\n",
      "    \"broiler\"\n",
      "  ]\n",
      "}\n",
      "{\n",
      "  \"store\": 2,\n",
      "  \"products\": [\n",
      "    \"shirt\",\n",
      "    \"toaster\",\n",
      "    \"phone\",\n",
      "    \"blender\",\n",
      "    \"tv\",\n",
      "    \"socks\",\n",
      "    \"broiler\"\n",
      "  ]\n",
      "}\n",
      "{\n",
      "  \"store\": 3,\n",
      "  \"products\": [\n",
      "    \"shirt\",\n",
      "    \"toaster\",\n",
      "    \"phone\",\n",
      "    \"blender\",\n",
      "    \"tv\",\n",
      "    \"socks\",\n",
      "    \"broiler\"\n",
      "  ]\n",
      "}\n",
      "{\n",
      "  \"store\": 4,\n",
      "  \"products\": [\n",
      "    \"shirt\",\n",
      "    \"toaster\",\n",
      "    \"phone\",\n",
      "    \"blender\",\n",
      "    \"tv\",\n",
      "    \"socks\",\n",
      "    \"broiler\"\n",
      "  ]\n",
      "}\n",
      "{\n",
      "  \"store\": 5,\n",
      "  \"products\": [\n",
      "    \"shirt\",\n",
      "    \"toaster\",\n",
      "    \"phone\",\n",
      "    \"blender\",\n",
      "    \"tv\",\n",
      "    \"socks\",\n",
      "    \"broiler\"\n",
      "  ]\n",
      "}\n"
     ]
    }
   ],
   "source": [
    "%%jsoniq\n",
    "for $product in json-lines(\"http://rumbledb.org/samples/products-small.json\", 10)\n",
    "group by $store-number := $product.store-number\n",
    "order by $store-number ascending\n",
    "return {\n",
    "    \"store\" : $store-number,\n",
    "    \"products\" : [ distinct-values($product.product) ]\n",
    "}"
   ]
  },
  {
   "cell_type": "markdown",
   "metadata": {},
   "source": [
    "Or"
   ]
  },
  {
   "cell_type": "code",
   "execution_count": 86,
   "metadata": {},
   "outputs": [
    {
     "name": "stdout",
     "output_type": "stream",
     "text": [
      "The query output 100 items, which is too many to display. Displaying the first 5 items:\n",
      "{\n",
      "  \"store\": 1,\n",
      "  \"products\": [\n",
      "    {\n",
      "      \"product\": \"shirt\",\n",
      "      \"quantity\": 901\n",
      "    },\n",
      "    {\n",
      "      \"product\": \"toaster\",\n",
      "      \"quantity\": 801\n",
      "    },\n",
      "    {\n",
      "      \"product\": \"phone\",\n",
      "      \"quantity\": 701\n",
      "    },\n",
      "    {\n",
      "      \"product\": \"blender\",\n",
      "      \"quantity\": 601\n",
      "    },\n",
      "    {\n",
      "      \"product\": \"tv\",\n",
      "      \"quantity\": 501\n",
      "    },\n",
      "    {\n",
      "      \"product\": \"socks\",\n",
      "      \"quantity\": 401\n",
      "    },\n",
      "    {\n",
      "      \"product\": \"broiler\",\n",
      "      \"quantity\": 301\n",
      "    },\n",
      "    {\n",
      "      \"product\": \"shirt\",\n",
      "      \"quantity\": 201\n",
      "    },\n",
      "    {\n",
      "      \"product\": \"toaster\",\n",
      "      \"quantity\": 101\n",
      "    },\n",
      "    {\n",
      "      \"product\": \"phone\",\n",
      "      \"quantity\": 1\n",
      "    }\n",
      "  ],\n",
      "  \"inventory\": 451000\n",
      "}\n",
      "{\n",
      "  \"store\": 2,\n",
      "  \"products\": [\n",
      "    {\n",
      "      \"product\": \"shirt\",\n",
      "      \"quantity\": 602\n",
      "    },\n",
      "    {\n",
      "      \"product\": \"toaster\",\n",
      "      \"quantity\": 502\n",
      "    },\n",
      "    {\n",
      "      \"product\": \"phone\",\n",
      "      \"quantity\": 402\n",
      "    },\n",
      "    {\n",
      "      \"product\": \"blender\",\n",
      "      \"quantity\": 302\n",
      "    },\n",
      "    {\n",
      "      \"product\": \"tv\",\n",
      "      \"quantity\": 202\n",
      "    },\n",
      "    {\n",
      "      \"product\": \"socks\",\n",
      "      \"quantity\": 102\n",
      "    },\n",
      "    {\n",
      "      \"product\": \"broiler\",\n",
      "      \"quantity\": 2\n",
      "    },\n",
      "    {\n",
      "      \"product\": \"shirt\",\n",
      "      \"quantity\": 902\n",
      "    },\n",
      "    {\n",
      "      \"product\": \"toaster\",\n",
      "      \"quantity\": 802\n",
      "    },\n",
      "    {\n",
      "      \"product\": \"phone\",\n",
      "      \"quantity\": 702\n",
      "    }\n",
      "  ],\n",
      "  \"inventory\": 452000\n",
      "}\n",
      "{\n",
      "  \"store\": 3,\n",
      "  \"products\": [\n",
      "    {\n",
      "      \"product\": \"shirt\",\n",
      "      \"quantity\": 303\n",
      "    },\n",
      "    {\n",
      "      \"product\": \"toaster\",\n",
      "      \"quantity\": 203\n",
      "    },\n",
      "    {\n",
      "      \"product\": \"phone\",\n",
      "      \"quantity\": 103\n",
      "    },\n",
      "    {\n",
      "      \"product\": \"blender\",\n",
      "      \"quantity\": 3\n",
      "    },\n",
      "    {\n",
      "      \"product\": \"tv\",\n",
      "      \"quantity\": 903\n",
      "    },\n",
      "    {\n",
      "      \"product\": \"socks\",\n",
      "      \"quantity\": 803\n",
      "    },\n",
      "    {\n",
      "      \"product\": \"broiler\",\n",
      "      \"quantity\": 703\n",
      "    },\n",
      "    {\n",
      "      \"product\": \"shirt\",\n",
      "      \"quantity\": 603\n",
      "    },\n",
      "    {\n",
      "      \"product\": \"toaster\",\n",
      "      \"quantity\": 503\n",
      "    },\n",
      "    {\n",
      "      \"product\": \"phone\",\n",
      "      \"quantity\": 403\n",
      "    }\n",
      "  ],\n",
      "  \"inventory\": 453000\n",
      "}\n",
      "{\n",
      "  \"store\": 4,\n",
      "  \"products\": [\n",
      "    {\n",
      "      \"product\": \"shirt\",\n",
      "      \"quantity\": 4\n",
      "    },\n",
      "    {\n",
      "      \"product\": \"toaster\",\n",
      "      \"quantity\": 904\n",
      "    },\n",
      "    {\n",
      "      \"product\": \"phone\",\n",
      "      \"quantity\": 804\n",
      "    },\n",
      "    {\n",
      "      \"product\": \"blender\",\n",
      "      \"quantity\": 704\n",
      "    },\n",
      "    {\n",
      "      \"product\": \"tv\",\n",
      "      \"quantity\": 604\n",
      "    },\n",
      "    {\n",
      "      \"product\": \"socks\",\n",
      "      \"quantity\": 504\n",
      "    },\n",
      "    {\n",
      "      \"product\": \"broiler\",\n",
      "      \"quantity\": 404\n",
      "    },\n",
      "    {\n",
      "      \"product\": \"shirt\",\n",
      "      \"quantity\": 304\n",
      "    },\n",
      "    {\n",
      "      \"product\": \"toaster\",\n",
      "      \"quantity\": 204\n",
      "    },\n",
      "    {\n",
      "      \"product\": \"phone\",\n",
      "      \"quantity\": 104\n",
      "    }\n",
      "  ],\n",
      "  \"inventory\": 454000\n",
      "}\n",
      "{\n",
      "  \"store\": 5,\n",
      "  \"products\": [\n",
      "    {\n",
      "      \"product\": \"shirt\",\n",
      "      \"quantity\": 705\n",
      "    },\n",
      "    {\n",
      "      \"product\": \"toaster\",\n",
      "      \"quantity\": 605\n",
      "    },\n",
      "    {\n",
      "      \"product\": \"phone\",\n",
      "      \"quantity\": 505\n",
      "    },\n",
      "    {\n",
      "      \"product\": \"blender\",\n",
      "      \"quantity\": 405\n",
      "    },\n",
      "    {\n",
      "      \"product\": \"tv\",\n",
      "      \"quantity\": 305\n",
      "    },\n",
      "    {\n",
      "      \"product\": \"socks\",\n",
      "      \"quantity\": 205\n",
      "    },\n",
      "    {\n",
      "      \"product\": \"broiler\",\n",
      "      \"quantity\": 105\n",
      "    },\n",
      "    {\n",
      "      \"product\": \"shirt\",\n",
      "      \"quantity\": 5\n",
      "    },\n",
      "    {\n",
      "      \"product\": \"toaster\",\n",
      "      \"quantity\": 905\n",
      "    },\n",
      "    {\n",
      "      \"product\": \"phone\",\n",
      "      \"quantity\": 805\n",
      "    }\n",
      "  ],\n",
      "  \"inventory\": 455000\n",
      "}\n"
     ]
    }
   ],
   "source": [
    "%%jsoniq\n",
    "for $product in json-lines(\"http://rumbledb.org/samples/products-small.json\", 10)\n",
    "group by $store-number := $product.store-number\n",
    "order by $store-number ascending\n",
    "return {\n",
    "    \"store\" : $store-number,\n",
    "    \"products\" : [ project($product[position() le 10], (\"product\", \"quantity\")) ],\n",
    "    \"inventory\" : sum($product.quantity)\n",
    "}"
   ]
  },
  {
   "cell_type": "markdown",
   "metadata": {},
   "source": [
    "That's it! You know the basics of JSONiq. Now you can also download the RumbleDB jar and run it on your own laptop. Or [on a Spark cluster, reading data from and to HDFS](https://rumble.readthedocs.io/en/latest/Run%20on%20a%20cluster/), etc.\n"
   ]
  },
  {
   "cell_type": "code",
   "execution_count": 87,
   "metadata": {},
   "outputs": [
    {
     "name": "stderr",
     "output_type": "stream",
     "text": [
      "\n",
      "No DataFrame available as no schema was automatically detected. If you still believe the output is structured enough, you could add a schema and validate expression explicitly to your query.\n",
      "\n",
      "This is an example of how you can simply define a schema and wrap your query in a validate expression:\n",
      "\n",
      "declare type local:mytype as {\n",
      "    \"product\" : \"string\",\n",
      "    \"store-number\" : \"int\",\n",
      "    \"quantity\" : \"decimal\"\n",
      "};\n",
      "validate type local:mytype* { \n",
      "    for $product in json-lines(\"http://rumbledb.org/samples/products-small.json\", 10)\n",
      "    where $product.quantity ge 995\n",
      "    return $product\n",
      "}\n",
      "\n",
      "RumbleDB keeps getting improved and automatic schema detection will improve as new versions get released. But even when RumbleDB fails to detect a schema, you can always declare your own schema as shown above.\n",
      "\n",
      "For more information, see the documentation at https://docs.rumbledb.org/rumbledb-reference/types\n"
     ]
    }
   ],
   "source": [
    "%%jsoniq -df\n",
    "1+1"
   ]
  },
  {
   "cell_type": "code",
   "execution_count": 88,
   "metadata": {},
   "outputs": [
    {
     "name": "stdout",
     "output_type": "stream",
     "text": [
      "2\n"
     ]
    }
   ],
   "source": [
    "%%jsoniq\n",
    "1+1"
   ]
  },
  {
   "cell_type": "code",
   "execution_count": 89,
   "metadata": {},
   "outputs": [
    {
     "data": {
      "text/plain": [
       "(2,)"
      ]
     },
     "execution_count": 89,
     "metadata": {},
     "output_type": "execute_result"
    }
   ],
   "source": [
    "rumble.lastResult.json()"
   ]
  },
  {
   "cell_type": "code",
   "execution_count": 94,
   "metadata": {
    "scrolled": true
   },
   "outputs": [
    {
     "name": "stdout",
     "output_type": "stream",
     "text": [
      "(2,)\n",
      "([{'nb': 1, 'state': 'MA', 'sold': 'broiler'}, {'nb': 1, 'state': 'MA', 'sold': 'socks'}, {'nb': 2, 'state': 'MA', 'sold': 'toaster'}, {'nb': 2, 'state': 'MA', 'sold': 'toaster'}, {'nb': 2, 'state': 'MA', 'sold': 'socks'}, {'nb': 3, 'state': 'CA', 'sold': 'toaster'}, {'nb': 3, 'state': 'CA', 'sold': 'blender'}, {'nb': 3, 'state': 'CA', 'sold': 'blender'}, {'nb': 3, 'state': 'CA', 'sold': 'shirt'}],)\n",
      "({'store': 1, 'products': ['shirt', 'toaster', 'phone', 'blender', 'tv', 'socks', 'broiler']}, {'store': 2, 'products': ['shirt', 'toaster', 'phone', 'blender', 'tv', 'socks', 'broiler']}, {'store': 3, 'products': ['shirt', 'toaster', 'phone', 'blender', 'tv', 'socks', 'broiler']}, {'store': 4, 'products': ['shirt', 'toaster', 'phone', 'blender', 'tv', 'socks', 'broiler']}, {'store': 5, 'products': ['shirt', 'toaster', 'phone', 'blender', 'tv', 'socks', 'broiler']}, {'store': 6, 'products': ['toaster', 'phone', 'blender', 'tv', 'socks', 'broiler', 'shirt']}, {'store': 7, 'products': ['toaster', 'phone', 'blender', 'tv', 'socks', 'broiler', 'shirt']}, {'store': 8, 'products': ['toaster', 'phone', 'blender', 'tv', 'socks', 'broiler', 'shirt']}, {'store': 9, 'products': ['toaster', 'phone', 'blender', 'tv', 'socks', 'broiler', 'shirt']}, {'store': 10, 'products': ['toaster', 'phone', 'blender', 'tv', 'socks', 'broiler', 'shirt']}, {'store': 11, 'products': ['phone', 'blender', 'tv', 'socks', 'broiler', 'shirt', 'toaster']}, {'store': 12, 'products': ['phone', 'blender', 'tv', 'socks', 'broiler', 'shirt', 'toaster']}, {'store': 13, 'products': ['phone', 'blender', 'tv', 'socks', 'broiler', 'shirt', 'toaster']}, {'store': 14, 'products': ['phone', 'blender', 'tv', 'socks', 'broiler', 'shirt', 'toaster']}, {'store': 15, 'products': ['phone', 'blender', 'tv', 'socks', 'broiler', 'shirt', 'toaster']}, {'store': 16, 'products': ['blender', 'tv', 'socks', 'broiler', 'shirt', 'toaster', 'phone']}, {'store': 17, 'products': ['blender', 'tv', 'socks', 'broiler', 'shirt', 'toaster', 'phone']}, {'store': 18, 'products': ['blender', 'tv', 'socks', 'broiler', 'shirt', 'toaster', 'phone']}, {'store': 19, 'products': ['blender', 'tv', 'socks', 'broiler', 'shirt', 'toaster', 'phone']}, {'store': 20, 'products': ['blender', 'tv', 'socks', 'broiler', 'shirt', 'toaster', 'phone']}, {'store': 21, 'products': ['tv', 'socks', 'broiler', 'shirt', 'toaster', 'phone', 'blender']}, {'store': 22, 'products': ['tv', 'socks', 'broiler', 'shirt', 'toaster', 'phone', 'blender']}, {'store': 23, 'products': ['tv', 'socks', 'broiler', 'shirt', 'toaster', 'phone', 'blender']}, {'store': 24, 'products': ['tv', 'socks', 'broiler', 'shirt', 'toaster', 'phone', 'blender']}, {'store': 25, 'products': ['socks', 'broiler', 'shirt', 'toaster', 'phone', 'blender', 'tv']}, {'store': 26, 'products': ['socks', 'broiler', 'shirt', 'toaster', 'phone', 'blender', 'tv']}, {'store': 27, 'products': ['socks', 'broiler', 'shirt', 'toaster', 'phone', 'blender', 'tv']}, {'store': 28, 'products': ['socks', 'broiler', 'shirt', 'toaster', 'phone', 'blender', 'tv']}, {'store': 29, 'products': ['socks', 'broiler', 'shirt', 'toaster', 'phone', 'blender', 'tv']}, {'store': 30, 'products': ['broiler', 'shirt', 'toaster', 'phone', 'blender', 'tv', 'socks']}, {'store': 31, 'products': ['broiler', 'shirt', 'toaster', 'phone', 'blender', 'tv', 'socks']}, {'store': 32, 'products': ['broiler', 'shirt', 'toaster', 'phone', 'blender', 'tv', 'socks']}, {'store': 33, 'products': ['broiler', 'shirt', 'toaster', 'phone', 'blender', 'tv', 'socks']}, {'store': 34, 'products': ['broiler', 'shirt', 'toaster', 'phone', 'blender', 'tv', 'socks']}, {'store': 35, 'products': ['shirt', 'toaster', 'phone', 'blender', 'tv', 'socks', 'broiler']}, {'store': 36, 'products': ['shirt', 'toaster', 'phone', 'blender', 'tv', 'socks', 'broiler']}, {'store': 37, 'products': ['shirt', 'toaster', 'phone', 'blender', 'tv', 'socks', 'broiler']}, {'store': 38, 'products': ['shirt', 'toaster', 'phone', 'blender', 'tv', 'socks', 'broiler']}, {'store': 39, 'products': ['shirt', 'toaster', 'phone', 'blender', 'tv', 'socks', 'broiler']}, {'store': 40, 'products': ['toaster', 'phone', 'blender', 'tv', 'socks', 'broiler', 'shirt']}, {'store': 41, 'products': ['toaster', 'phone', 'blender', 'tv', 'socks', 'broiler', 'shirt']}, {'store': 42, 'products': ['toaster', 'phone', 'blender', 'tv', 'socks', 'broiler', 'shirt']}, {'store': 43, 'products': ['toaster', 'phone', 'blender', 'tv', 'socks', 'broiler', 'shirt']}, {'store': 44, 'products': ['phone', 'blender', 'tv', 'socks', 'broiler', 'shirt', 'toaster']}, {'store': 45, 'products': ['phone', 'blender', 'tv', 'socks', 'broiler', 'shirt', 'toaster']}, {'store': 46, 'products': ['phone', 'blender', 'tv', 'socks', 'broiler', 'shirt', 'toaster']}, {'store': 47, 'products': ['phone', 'blender', 'tv', 'socks', 'broiler', 'shirt', 'toaster']}, {'store': 48, 'products': ['phone', 'blender', 'tv', 'socks', 'broiler', 'shirt', 'toaster']}, {'store': 49, 'products': ['blender', 'tv', 'socks', 'broiler', 'shirt', 'toaster', 'phone']}, {'store': 50, 'products': ['blender', 'tv', 'socks', 'broiler', 'shirt', 'toaster', 'phone']}, {'store': 51, 'products': ['blender', 'tv', 'socks', 'broiler', 'shirt', 'toaster', 'phone']}, {'store': 52, 'products': ['blender', 'tv', 'socks', 'broiler', 'shirt', 'toaster', 'phone']}, {'store': 53, 'products': ['blender', 'tv', 'socks', 'broiler', 'shirt', 'toaster', 'phone']}, {'store': 54, 'products': ['tv', 'socks', 'broiler', 'shirt', 'toaster', 'phone', 'blender']}, {'store': 55, 'products': ['tv', 'socks', 'broiler', 'shirt', 'toaster', 'phone', 'blender']}, {'store': 56, 'products': ['tv', 'socks', 'broiler', 'shirt', 'toaster', 'phone', 'blender']}, {'store': 57, 'products': ['tv', 'socks', 'broiler', 'shirt', 'toaster', 'phone', 'blender']}, {'store': 58, 'products': ['tv', 'socks', 'broiler', 'shirt', 'toaster', 'phone', 'blender']}, {'store': 59, 'products': ['socks', 'broiler', 'shirt', 'toaster', 'phone', 'blender', 'tv']}, {'store': 60, 'products': ['socks', 'broiler', 'shirt', 'toaster', 'phone', 'blender', 'tv']}, {'store': 61, 'products': ['socks', 'broiler', 'shirt', 'toaster', 'phone', 'blender', 'tv']}, {'store': 62, 'products': ['socks', 'broiler', 'shirt', 'toaster', 'phone', 'blender', 'tv']}, {'store': 63, 'products': ['broiler', 'shirt', 'toaster', 'phone', 'blender', 'tv', 'socks']}, {'store': 64, 'products': ['broiler', 'shirt', 'toaster', 'phone', 'blender', 'tv', 'socks']}, {'store': 65, 'products': ['broiler', 'shirt', 'toaster', 'phone', 'blender', 'tv', 'socks']}, {'store': 66, 'products': ['broiler', 'shirt', 'toaster', 'phone', 'blender', 'tv', 'socks']}, {'store': 67, 'products': ['broiler', 'shirt', 'toaster', 'phone', 'blender', 'tv', 'socks']}, {'store': 68, 'products': ['shirt', 'toaster', 'phone', 'blender', 'tv', 'socks', 'broiler']}, {'store': 69, 'products': ['shirt', 'toaster', 'phone', 'blender', 'tv', 'socks', 'broiler']}, {'store': 70, 'products': ['shirt', 'toaster', 'phone', 'blender', 'tv', 'socks', 'broiler']}, {'store': 71, 'products': ['shirt', 'toaster', 'phone', 'blender', 'tv', 'socks', 'broiler']}, {'store': 72, 'products': ['shirt', 'toaster', 'phone', 'blender', 'tv', 'socks', 'broiler']}, {'store': 73, 'products': ['toaster', 'phone', 'blender', 'tv', 'socks', 'broiler', 'shirt']}, {'store': 74, 'products': ['toaster', 'phone', 'blender', 'tv', 'socks', 'broiler', 'shirt']}, {'store': 75, 'products': ['toaster', 'phone', 'blender', 'tv', 'socks', 'broiler', 'shirt']}, {'store': 76, 'products': ['toaster', 'phone', 'blender', 'tv', 'socks', 'broiler', 'shirt']}, {'store': 77, 'products': ['toaster', 'phone', 'blender', 'tv', 'socks', 'broiler', 'shirt']}, {'store': 78, 'products': ['phone', 'blender', 'tv', 'socks', 'broiler', 'shirt', 'toaster']}, {'store': 79, 'products': ['phone', 'blender', 'tv', 'socks', 'broiler', 'shirt', 'toaster']}, {'store': 80, 'products': ['phone', 'blender', 'tv', 'socks', 'broiler', 'shirt', 'toaster']}, {'store': 81, 'products': ['phone', 'blender', 'tv', 'socks', 'broiler', 'shirt', 'toaster']}, {'store': 82, 'products': ['blender', 'tv', 'socks', 'broiler', 'shirt', 'toaster', 'phone']}, {'store': 83, 'products': ['blender', 'tv', 'socks', 'broiler', 'shirt', 'toaster', 'phone']}, {'store': 84, 'products': ['blender', 'tv', 'socks', 'broiler', 'shirt', 'toaster', 'phone']}, {'store': 85, 'products': ['blender', 'tv', 'socks', 'broiler', 'shirt', 'toaster', 'phone']}, {'store': 86, 'products': ['blender', 'tv', 'socks', 'broiler', 'shirt', 'toaster', 'phone']}, {'store': 87, 'products': ['tv', 'socks', 'broiler', 'shirt', 'toaster', 'phone', 'blender']}, {'store': 88, 'products': ['tv', 'socks', 'broiler', 'shirt', 'toaster', 'phone', 'blender']}, {'store': 89, 'products': ['tv', 'socks', 'broiler', 'shirt', 'toaster', 'phone', 'blender']}, {'store': 90, 'products': ['tv', 'socks', 'broiler', 'shirt', 'toaster', 'phone', 'blender']}, {'store': 91, 'products': ['tv', 'socks', 'broiler', 'shirt', 'toaster', 'phone', 'blender']}, {'store': 92, 'products': ['socks', 'broiler', 'shirt', 'toaster', 'phone', 'blender', 'tv']}, {'store': 93, 'products': ['socks', 'broiler', 'shirt', 'toaster', 'phone', 'blender', 'tv']}, {'store': 94, 'products': ['socks', 'broiler', 'shirt', 'toaster', 'phone', 'blender', 'tv']}, {'store': 95, 'products': ['socks', 'broiler', 'shirt', 'toaster', 'phone', 'blender', 'tv']}, {'store': 96, 'products': ['socks', 'broiler', 'shirt', 'toaster', 'phone', 'blender', 'tv']}, {'store': 97, 'products': ['broiler', 'shirt', 'toaster', 'phone', 'blender', 'tv', 'socks']}, {'store': 98, 'products': ['broiler', 'shirt', 'toaster', 'phone', 'blender', 'tv', 'socks']}, {'store': 99, 'products': ['broiler', 'shirt', 'toaster', 'phone', 'blender', 'tv', 'socks']}, {'store': 100, 'products': ['broiler', 'shirt', 'toaster', 'phone', 'blender', 'tv', 'socks']})\n",
      "({'even': [2, 4, 6]}, {'odd': [1, 3, 5]})\n",
      "([{'foo': [1, 2, 3]}], [{'foo': [4, 5, 6]}])\n",
      "({'results': [2, {'bar': [1, False, None]}]},)\n",
      "(1, 4, 9, 16, 25, 36, 49, 64, 81, 100, 121, 144, 169, 196, 225, 256, 289, 324, 361, 400, 441, 484, 529, 576, 625, 676, 729, 784, 841, 900, 961, 1024, 1089, 1156, 1225, 1296, 1369, 1444, 1521, 1600, 1681, 1764)\n",
      "(1, 4, 9, 16, 25, 36, 49, 64, 81, 100, 121, 144, 169, 196, 225, 256, 289, 324, 361, 400, 441, 484, 529, 576, 625, 676, 729, 784, 841, 900, 961, 1024, 1089, 1156, 1225, 1296, 1369, 1444, 1521, 1600, 1681, 1764)\n",
      "     value\n",
      "0    Alice\n",
      "1      Bob\n",
      "2  Charlie\n",
      "DataFrame\n",
      "RDD\n",
      "Local\n",
      "+-------+\n",
      "|  value|\n",
      "+-------+\n",
      "|  Alice|\n",
      "|    Bob|\n",
      "|Charlie|\n",
      "+-------+\n",
      "\n",
      "+-------+\n",
      "|   name|\n",
      "+-------+\n",
      "|  Alice|\n",
      "|    Bob|\n",
      "|Charlie|\n",
      "+-------+\n",
      "\n",
      "+-------+\n",
      "|   name|\n",
      "+-------+\n",
      "|  Alice|\n",
      "|    Bob|\n",
      "|Charlie|\n",
      "|  Alice|\n",
      "|    Bob|\n",
      "|Charlie|\n",
      "|  Alice|\n",
      "|    Bob|\n",
      "|Charlie|\n",
      "|  Alice|\n",
      "|    Bob|\n",
      "|Charlie|\n",
      "|  Alice|\n",
      "|    Bob|\n",
      "|Charlie|\n",
      "+-------+\n",
      "\n"
     ]
    },
    {
     "name": "stderr",
     "output_type": "stream",
     "text": [
      "                                                                                "
     ]
    },
    {
     "name": "stdout",
     "output_type": "stream",
     "text": [
      "+-----+\n",
      "| name|\n",
      "+-----+\n",
      "|Alice|\n",
      "|  Bob|\n",
      "+-----+\n",
      "\n",
      "Alice\n",
      "Bob\n",
      "Charlie\n",
      "Alice\n",
      "Bob\n",
      "Charlie\n",
      "Alice\n",
      "Bob\n",
      "Charlie\n",
      "\"Alice\"\n",
      "\"Bob\"\n",
      "\"Charlie\"\n",
      "3\n",
      "Alice\n",
      "Bob\n",
      "Charlie\n"
     ]
    }
   ],
   "source": [
    "from jsoniq import RumbleSession\n",
    "import pandas as pd\n",
    "\n",
    "# The syntax to start a session is similar to that of Spark.\n",
    "# A RumbleSession is a SparkSession that additionally knows about RumbleDB.\n",
    "# All attributes and methods of SparkSession are also available on RumbleSession. \n",
    "\n",
    "rumble = RumbleSession.builder.getOrCreate();\n",
    "\n",
    "# Just to improve readability when invoking Spark methods\n",
    "# (such as spark.sql() or spark.createDataFrame()).\n",
    "spark = rumble\n",
    "\n",
    "##############################\n",
    "###### Your first query ######\n",
    "##############################\n",
    "\n",
    "# Even though RumbleDB uses Spark internally, it can be used without any knowledge of Spark.\n",
    "\n",
    "# Executing a query is done with rumble.jsoniq() like so. A query returns a sequence\n",
    "# of items, here the sequence with just the integer item 2.\n",
    "items = rumble.jsoniq('1+1')\n",
    "\n",
    "# A sequence of items can simply be converted to a list of Python/JSON values with json().\n",
    "# Since there is only one value in the sequence output by this query,\n",
    "# we get a singleton list with the integer 2.\n",
    "# Generally though, the results may contain zero, one, two, or more items.\n",
    "python_list = items.json()\n",
    "print(python_list)\n",
    "\n",
    "############################################\n",
    "##### More complex, standalone queries #####\n",
    "############################################\n",
    "\n",
    "# JSONiq is very powerful and expressive. You will find tutorials as well as a reference on JSONiq.org.\n",
    "\n",
    "seq = rumble.jsoniq(\"\"\"\n",
    "\n",
    "let $stores :=\n",
    "[\n",
    "  { \"store number\" : 1, \"state\" : \"MA\" },\n",
    "  { \"store number\" : 2, \"state\" : \"MA\" },\n",
    "  { \"store number\" : 3, \"state\" : \"CA\" },\n",
    "  { \"store number\" : 4, \"state\" : \"CA\" }\n",
    "]\n",
    "let $sales := [\n",
    "   { \"product\" : \"broiler\", \"store number\" : 1, \"quantity\" : 20  },\n",
    "   { \"product\" : \"toaster\", \"store number\" : 2, \"quantity\" : 100 },\n",
    "   { \"product\" : \"toaster\", \"store number\" : 2, \"quantity\" : 50 },\n",
    "   { \"product\" : \"toaster\", \"store number\" : 3, \"quantity\" : 50 },\n",
    "   { \"product\" : \"blender\", \"store number\" : 3, \"quantity\" : 100 },\n",
    "   { \"product\" : \"blender\", \"store number\" : 3, \"quantity\" : 150 },\n",
    "   { \"product\" : \"socks\", \"store number\" : 1, \"quantity\" : 500 },\n",
    "   { \"product\" : \"socks\", \"store number\" : 2, \"quantity\" : 10 },\n",
    "   { \"product\" : \"shirt\", \"store number\" : 3, \"quantity\" : 10 }\n",
    "]\n",
    "let $join :=\n",
    "  for $store in $stores[], $sale in $sales[]\n",
    "  where $store.\"store number\" = $sale.\"store number\"\n",
    "  return {\n",
    "    \"nb\" : $store.\"store number\",\n",
    "    \"state\" : $store.state,\n",
    "    \"sold\" : $sale.product\n",
    "  }\n",
    "return [$join]\n",
    "\"\"\");\n",
    "\n",
    "print(seq.json());\n",
    "\n",
    "seq = rumble.jsoniq(\"\"\"\n",
    "for $product in json-lines(\"http://rumbledb.org/samples/products-small.json\", 10)\n",
    "group by $store-number := $product.store-number\n",
    "order by $store-number ascending\n",
    "return {\n",
    "    \"store\" : $store-number,\n",
    "    \"products\" : [ distinct-values($product.product) ]\n",
    "}\n",
    "\"\"\");\n",
    "print(seq.json());\n",
    "\n",
    "############################################################\n",
    "###### Binding JSONiq variables to Python values ###########\n",
    "############################################################\n",
    "\n",
    "# It is possible to bind a JSONiq variable to a tuple of native Python values\n",
    "# and then use it in a query.\n",
    "# JSONiq, variables are bound to sequences of items, just like the results of JSONiq\n",
    "# queries are sequence of items.\n",
    "# A Python tuple will be seamlessly converted to a sequence of items by the library.\n",
    "# Currently we only support strs, ints, floats, booleans, None, lists, and dicts.\n",
    "# But if you need more (like date, bytes, etc) we will add them without any problem.\n",
    "# JSONiq has a rich type system.\n",
    " \n",
    "rumble.bind('$c', (1,2,3,4, 5, 6))\n",
    "print(rumble.jsoniq(\"\"\"\n",
    "for $v in $c\n",
    "let $parity := $v mod 2\n",
    "group by $parity\n",
    "return { switch($parity)\n",
    "         case 0 return \"even\"\n",
    "         case 1 return \"odd\"\n",
    "         default return \"?\" : $v\n",
    "}\n",
    "\"\"\").json())\n",
    "\n",
    "rumble.bind('$c', ([1,2,3],[4,5,6]))\n",
    "print(rumble.jsoniq(\"\"\"\n",
    "for $i in $c\n",
    "return [\n",
    "  for $j in $i\n",
    "  return { \"foo\" : $j }\n",
    "]\n",
    "\"\"\").json())\n",
    "\n",
    "rumble.bind('$c', ({\"foo\":[1,2,3]},{\"foo\":[4,{\"bar\":[1,False, None]},6]}))\n",
    "print(rumble.jsoniq('{ \"results\" : $c.foo[[2]] }').json())\n",
    "\n",
    "# It is possible to bind only one value. The it must be provided as a singleton tuple.\n",
    "# This is because in JSONiq, an item is the same a sequence of one item.\n",
    "rumble.bind('$c', (42,))\n",
    "print(rumble.jsoniq('for $i in 1 to $c return $i*$i').json())\n",
    "\n",
    "# For convenience and code readability, you can also use bindOne().\n",
    "rumble.bindOne('$c', 42)\n",
    "print(rumble.jsoniq('for $i in 1 to $c return $i*$i').json())\n",
    "\n",
    "##########################################################\n",
    "##### Binding JSONiq variables to pandas DataFrames ######\n",
    "##### Getting the output as a Pandas DataFrame      ######\n",
    "##########################################################\n",
    "\n",
    "# Creating a dummy pandas dataframe\n",
    "data = {'Name': ['Alice', 'Bob', 'Charlie'],\n",
    "        'Age': [30,25,35]};\n",
    "pdf = pd.DataFrame(data);\n",
    "\n",
    "# Binding a pandas dataframe\n",
    "rumble.bind('$a',pdf);\n",
    "seq = rumble.jsoniq('$a.Name')\n",
    "# Getting the output as a pandas dataframe\n",
    "print(seq.pdf())\n",
    "\n",
    "\n",
    "################################################\n",
    "##### Using Pyspark DataFrames with JSONiq #####\n",
    "################################################\n",
    "\n",
    "# The power users can also interface our library with pyspark DataFrames.\n",
    "# JSONiq sequences of items can have billions of items, and our library supports this\n",
    "# out of the box: it can also run on clusters on AWS Elastic MapReduce for example.\n",
    "# But your laptop is just fine, too: it will spread the computations on your cores.\n",
    "# You can bind a DataFrame to a JSONiq variable. JSONiq will recognize this\n",
    "# DataFrame as a sequence of object items.\n",
    "\n",
    "# Create a data frame also similar to Spark (but using the rumble object).\n",
    "data = [(\"Alice\", 30), (\"Bob\", 25), (\"Charlie\", 35)];\n",
    "columns = [\"Name\", \"Age\"];\n",
    "df = spark.createDataFrame(data, columns);\n",
    "\n",
    "# This is how to bind a JSONiq variable to a dataframe. You can bind as many variables as you want.\n",
    "rumble.bind('$a', df);\n",
    "\n",
    "# This is how to run a query. This is similar to spark.sql().\n",
    "# Since variable $a was bound to a DataFrame, it is automatically declared as an external variable\n",
    "# and can be used in the query. In JSONiq, it is logically a sequence of objects.\n",
    "res = rumble.jsoniq('$a.Name');\n",
    "\n",
    "# There are several ways to collect the outputs, depending on the user needs but also\n",
    "# on the query supplied.\n",
    "# This returns a list containing one or several of \"DataFrame\", \"RDD\", \"PUL\", \"Local\"\n",
    "# If DataFrame is in the list, df() can be invoked.\n",
    "# If RDD is in the list, rdd() can be invoked.\n",
    "# If Local is the list, items() or json() can be invokved, as well as the local iterator API.\n",
    "modes = res.availableOutputs();\n",
    "for mode in modes:\n",
    "    print(mode)\n",
    "\n",
    "#########################################################\n",
    "###### Manipulating DataFrames with SQL and JSONiq ######\n",
    "#########################################################\n",
    "\n",
    "# If the output of the JSONiq query is structured (i.e., RumbleDB was able to detect a schema),\n",
    "# then we can extract a regular data frame that can be further processed with spark.sql() or rumble.jsoniq().\n",
    "df = res.df();\n",
    "df.show();\n",
    "\n",
    "# We are continuously working on the detection of schemas and RumbleDB will get better at it with them.\n",
    "# JSONiq is a very powerful language and can also produce heterogeneous output \"by design\". Then you need\n",
    "# to use rdd() instead of df(), or to collect the list of JSON values (see further down). Remember\n",
    "# that availableOutputs() tells you what is at your disposal.\n",
    "\n",
    "# A DataFrame output by JSONiq can be reused as input to a Spark SQL query.\n",
    "# (Remember that rumble is a wrapper around a SparkSession object, so you can use rumble.sql() just like spark.sql())\n",
    "df.createTempView(\"myview\")\n",
    "df2 = spark.sql(\"SELECT * FROM myview\").toDF(\"name\");\n",
    "df2.show();\n",
    "\n",
    "# A DataFrame output by Spark SQL can be reused as input to a JSONiq query.\n",
    "rumble.bind('$b', df2);\n",
    "seq2 = rumble.jsoniq(\"for $i in 1 to 5 return $b\");\n",
    "df3 = seq2.df();\n",
    "df3.show();\n",
    "\n",
    "# And a DataFrame output by JSONiq can be reused as input to another JSONiq query.\n",
    "rumble.bind('$b', df3);\n",
    "seq3 = rumble.jsoniq(\"$b[position() lt 3]\");\n",
    "df4 = seq3.df();\n",
    "df4.show();\n",
    "\n",
    "#########################\n",
    "##### Local access ######\n",
    "#########################\n",
    "\n",
    "# This materializes the rows as items.\n",
    "# The items are accessed with the RumbleDB Item API.\n",
    "list = res.items();\n",
    "for result in list:\n",
    "    print(result.getStringValue())\n",
    "\n",
    "# This streams through the items one by one\n",
    "res.open();\n",
    "while (res.hasNext()):\n",
    "    print(res.next().getStringValue());\n",
    "res.close();\n",
    "\n",
    "################################################################################################################\n",
    "###### Native Python/JSON Access for bypassing the Item API (but losing on the richer JSONiq type system) ######\n",
    "################################################################################################################\n",
    "\n",
    "# This method directly gets the result as JSON (dict, list, strings, ints, etc).\n",
    "jlist = res.json();\n",
    "for str in jlist:\n",
    "    print(str);\n",
    "\n",
    "# This streams through the JSON values one by one.\n",
    "res.open();\n",
    "while(res.hasNext()):\n",
    "    print(res.nextJSON());\n",
    "res.close();\n",
    "\n",
    "# This gets an RDD of JSON values that can be processed by Python\n",
    "rdd = res.rdd();\n",
    "print(rdd.count());\n",
    "for str in rdd.take(10):\n",
    "    print(str);\n",
    "\n",
    "###################################################\n",
    "###### Write back to the disk (or data lake) ######\n",
    "###################################################\n",
    "\n",
    "# It is also possible to write the output to a file locally or on a cluster. The API is similar to that of Spark dataframes.\n",
    "# Note that it creates a directory and stores the (potentially very large) output in a sharded directory.\n",
    "# RumbleDB was already tested with up to 64 AWS machines and 100s of TBs of data.\n",
    "# Of course the examples below are so small that it makes more sense to process the results locally with Python,\n",
    "# but this shows how GBs or TBs of data obtained from JSONiq can be written back to disk.\n",
    "seq = rumble.jsoniq(\"$a.Name\");\n",
    "seq.write().mode(\"overwrite\").json(\"outputjson\");\n",
    "seq.write().mode(\"overwrite\").parquet(\"outputparquet\");\n",
    "\n",
    "seq = rumble.jsoniq(\"1+1\");\n",
    "seq.write().mode(\"overwrite\").text(\"outputtext\");"
   ]
  },
  {
   "cell_type": "code",
   "execution_count": 95,
   "metadata": {},
   "outputs": [
    {
     "data": {
      "text/plain": [
       "JavaObject id=o1512"
      ]
     },
     "execution_count": 95,
     "metadata": {},
     "output_type": "execute_result"
    }
   ],
   "source": [
    "rumble.getRumbleConf().setPrintIteratorTree(False)\n",
    "rumble.getRumbleConf().setResultSizeCap(200)"
   ]
  },
  {
   "cell_type": "code",
   "execution_count": 96,
   "metadata": {},
   "outputs": [
    {
     "name": "stderr",
     "output_type": "stream",
     "text": [
      "[Stage 362:==============================================>     (267 + 12) / 300]"
     ]
    },
    {
     "name": "stdout",
     "output_type": "stream",
     "text": [
      "       name\n",
      "0     Alice\n",
      "1       Bob\n",
      "2   Charlie\n",
      "3     Alice\n",
      "4       Bob\n",
      "..      ...\n",
      "70      Bob\n",
      "71  Charlie\n",
      "72    Alice\n",
      "73      Bob\n",
      "74  Charlie\n",
      "\n",
      "[75 rows x 1 columns]\n"
     ]
    },
    {
     "name": "stderr",
     "output_type": "stream",
     "text": [
      "                                                                                "
     ]
    }
   ],
   "source": [
    "%%jsoniq -pdf\n",
    "for $i in 1 to 5 return $b"
   ]
  },
  {
   "cell_type": "code",
   "execution_count": 4,
   "metadata": {},
   "outputs": [
    {
     "ename": "NameError",
     "evalue": "name 'df' is not defined",
     "output_type": "error",
     "traceback": [
      "\u001b[0;31m---------------------------------------------------------------------------\u001b[0m",
      "\u001b[0;31mNameError\u001b[0m                                 Traceback (most recent call last)",
      "Cell \u001b[0;32mIn[4], line 1\u001b[0m\n\u001b[0;32m----> 1\u001b[0m \u001b[43mdf\u001b[49m\u001b[38;5;241m.\u001b[39mcreateOrReplaceTempView(\u001b[38;5;124m\"\u001b[39m\u001b[38;5;124mmyinput\u001b[39m\u001b[38;5;124m\"\u001b[39m)\n",
      "\u001b[0;31mNameError\u001b[0m: name 'df' is not defined"
     ]
    }
   ],
   "source": [
    "df.createOrReplaceTempView(\"myinput\")"
   ]
  },
  {
   "cell_type": "code",
   "execution_count": 5,
   "metadata": {},
   "outputs": [
    {
     "ename": "NameError",
     "evalue": "name 'df' is not defined",
     "output_type": "error",
     "traceback": [
      "\u001b[0;31m---------------------------------------------------------------------------\u001b[0m",
      "\u001b[0;31mNameError\u001b[0m                                 Traceback (most recent call last)",
      "Cell \u001b[0;32mIn[5], line 1\u001b[0m\n\u001b[0;32m----> 1\u001b[0m \u001b[43mdf\u001b[49m\u001b[38;5;241m.\u001b[39mshow()\n",
      "\u001b[0;31mNameError\u001b[0m: name 'df' is not defined"
     ]
    }
   ],
   "source": [
    "df.show()"
   ]
  },
  {
   "cell_type": "code",
   "execution_count": 6,
   "metadata": {},
   "outputs": [
    {
     "ename": "Py4JJavaError",
     "evalue": "An error occurred while calling o34.runQuery.\n: org.rumbledb.exceptions.CannotRetrieveResourceException: There was an error on line 1 in file:/Users/ghislain/Code/rumble/:\n\ntable(\"myinput\")\n^\n\nCode: [FODC0002]\nMessage: Table myinput not found in hive catalogue.\nMetadata: file:/Users/ghislain/Code/rumble/:LINE:1:COLUMN:0:\nThis code can also be looked up in the documentation and specifications for more information.\n\n\tat org.rumbledb.compiler.InferTypeVisitor.tryAnnotateSpecificFunctions(InferTypeVisitor.java:658)\n\tat org.rumbledb.compiler.InferTypeVisitor.visitFunctionCall(InferTypeVisitor.java:770)\n\tat org.rumbledb.compiler.InferTypeVisitor.visitFunctionCall(InferTypeVisitor.java:1)\n\tat org.rumbledb.expressions.primary.FunctionCallExpression.accept(FunctionCallExpression.java:78)\n\tat org.rumbledb.expressions.AbstractNodeVisitor.visit(AbstractNodeVisitor.java:120)\n\tat org.rumbledb.expressions.AbstractNodeVisitor.visitDescendants(AbstractNodeVisitor.java:126)\n\tat org.rumbledb.compiler.InferTypeVisitor.visitStatementsAndOptionalExpr(InferTypeVisitor.java:2928)\n\tat org.rumbledb.compiler.InferTypeVisitor.visitStatementsAndOptionalExpr(InferTypeVisitor.java:1)\n\tat org.rumbledb.expressions.scripting.statement.StatementsAndOptionalExpr.accept(StatementsAndOptionalExpr.java:46)\n\tat org.rumbledb.expressions.AbstractNodeVisitor.visit(AbstractNodeVisitor.java:120)\n\tat org.rumbledb.expressions.AbstractNodeVisitor.visitDescendants(AbstractNodeVisitor.java:126)\n\tat org.rumbledb.expressions.AbstractNodeVisitor.defaultAction(AbstractNodeVisitor.java:132)\n\tat org.rumbledb.expressions.AbstractNodeVisitor.visitProgram(AbstractNodeVisitor.java:468)\n\tat org.rumbledb.expressions.scripting.Program.accept(Program.java:33)\n\tat org.rumbledb.expressions.AbstractNodeVisitor.visit(AbstractNodeVisitor.java:120)\n\tat org.rumbledb.expressions.AbstractNodeVisitor.visitDescendants(AbstractNodeVisitor.java:126)\n\tat org.rumbledb.compiler.InferTypeVisitor.visitMainModule(InferTypeVisitor.java:2529)\n\tat org.rumbledb.compiler.InferTypeVisitor.visitMainModule(InferTypeVisitor.java:1)\n\tat org.rumbledb.expressions.module.MainModule.accept(MainModule.java:93)\n\tat org.rumbledb.expressions.AbstractNodeVisitor.visit(AbstractNodeVisitor.java:120)\n\tat org.rumbledb.compiler.VisitorHelpers.inferTypes(VisitorHelpers.java:60)\n\tat org.rumbledb.compiler.VisitorHelpers.parseJSONiqMainModule(VisitorHelpers.java:251)\n\tat org.rumbledb.compiler.VisitorHelpers.parseMainModule(VisitorHelpers.java:174)\n\tat org.rumbledb.compiler.VisitorHelpers.parseMainModuleFromQuery(VisitorHelpers.java:161)\n\tat org.rumbledb.api.Rumble.runQuery(Rumble.java:66)\n\tat java.base/jdk.internal.reflect.NativeMethodAccessorImpl.invoke0(Native Method)\n\tat java.base/jdk.internal.reflect.NativeMethodAccessorImpl.invoke(NativeMethodAccessorImpl.java:77)\n\tat java.base/jdk.internal.reflect.DelegatingMethodAccessorImpl.invoke(DelegatingMethodAccessorImpl.java:43)\n\tat java.base/java.lang.reflect.Method.invoke(Method.java:569)\n\tat py4j.reflection.MethodInvoker.invoke(MethodInvoker.java:244)\n\tat py4j.reflection.ReflectionEngine.invoke(ReflectionEngine.java:374)\n\tat py4j.Gateway.invoke(Gateway.java:282)\n\tat py4j.commands.AbstractCommand.invokeMethod(AbstractCommand.java:132)\n\tat py4j.commands.CallCommand.execute(CallCommand.java:79)\n\tat py4j.ClientServerConnection.waitForCommands(ClientServerConnection.java:184)\n\tat py4j.ClientServerConnection.run(ClientServerConnection.java:108)\n\tat java.base/java.lang.Thread.run(Thread.java:840)\n",
     "output_type": "error",
     "traceback": [
      "\u001b[0;31m---------------------------------------------------------------------------\u001b[0m",
      "\u001b[0;31mPy4JJavaError\u001b[0m                             Traceback (most recent call last)",
      "Cell \u001b[0;32mIn[6], line 1\u001b[0m\n\u001b[0;32m----> 1\u001b[0m \u001b[43mrumble\u001b[49m\u001b[38;5;241;43m.\u001b[39;49m\u001b[43mjsoniq\u001b[49m\u001b[43m(\u001b[49m\u001b[38;5;124;43m'\u001b[39;49m\u001b[38;5;124;43mtable(\u001b[39;49m\u001b[38;5;124;43m\"\u001b[39;49m\u001b[38;5;124;43mmyinput\u001b[39;49m\u001b[38;5;124;43m\"\u001b[39;49m\u001b[38;5;124;43m)\u001b[39;49m\u001b[38;5;124;43m'\u001b[39;49m\u001b[43m)\u001b[49m\u001b[38;5;241m.\u001b[39mjson()\n",
      "File \u001b[0;32m~/.pyenv/versions/3.11.9/lib/python3.11/site-packages/jsoniq/session.py:195\u001b[0m, in \u001b[0;36mRumbleSession.jsoniq\u001b[0;34m(self, str)\u001b[0m\n\u001b[1;32m    194\u001b[0m \u001b[38;5;28;01mdef\u001b[39;00m\u001b[38;5;250m \u001b[39m\u001b[38;5;21mjsoniq\u001b[39m(\u001b[38;5;28mself\u001b[39m, \u001b[38;5;28mstr\u001b[39m):\n\u001b[0;32m--> 195\u001b[0m     sequence \u001b[38;5;241m=\u001b[39m \u001b[38;5;28;43mself\u001b[39;49m\u001b[38;5;241;43m.\u001b[39;49m\u001b[43m_jrumblesession\u001b[49m\u001b[38;5;241;43m.\u001b[39;49m\u001b[43mrunQuery\u001b[49m\u001b[43m(\u001b[49m\u001b[38;5;28;43mstr\u001b[39;49m\u001b[43m)\u001b[49m;\n\u001b[1;32m    196\u001b[0m     \u001b[38;5;28mself\u001b[39m\u001b[38;5;241m.\u001b[39mlastResult \u001b[38;5;241m=\u001b[39m SequenceOfItems(sequence, \u001b[38;5;28mself\u001b[39m);\n\u001b[1;32m    197\u001b[0m     \u001b[38;5;28;01mreturn\u001b[39;00m \u001b[38;5;28mself\u001b[39m\u001b[38;5;241m.\u001b[39mlastResult\n",
      "File \u001b[0;32m~/.pyenv/versions/3.11.9/lib/python3.11/site-packages/py4j/java_gateway.py:1362\u001b[0m, in \u001b[0;36mJavaMember.__call__\u001b[0;34m(self, *args)\u001b[0m\n\u001b[1;32m   1356\u001b[0m command \u001b[38;5;241m=\u001b[39m proto\u001b[38;5;241m.\u001b[39mCALL_COMMAND_NAME \u001b[38;5;241m+\u001b[39m\\\n\u001b[1;32m   1357\u001b[0m     \u001b[38;5;28mself\u001b[39m\u001b[38;5;241m.\u001b[39mcommand_header \u001b[38;5;241m+\u001b[39m\\\n\u001b[1;32m   1358\u001b[0m     args_command \u001b[38;5;241m+\u001b[39m\\\n\u001b[1;32m   1359\u001b[0m     proto\u001b[38;5;241m.\u001b[39mEND_COMMAND_PART\n\u001b[1;32m   1361\u001b[0m answer \u001b[38;5;241m=\u001b[39m \u001b[38;5;28mself\u001b[39m\u001b[38;5;241m.\u001b[39mgateway_client\u001b[38;5;241m.\u001b[39msend_command(command)\n\u001b[0;32m-> 1362\u001b[0m return_value \u001b[38;5;241m=\u001b[39m \u001b[43mget_return_value\u001b[49m\u001b[43m(\u001b[49m\n\u001b[1;32m   1363\u001b[0m \u001b[43m    \u001b[49m\u001b[43manswer\u001b[49m\u001b[43m,\u001b[49m\u001b[43m \u001b[49m\u001b[38;5;28;43mself\u001b[39;49m\u001b[38;5;241;43m.\u001b[39;49m\u001b[43mgateway_client\u001b[49m\u001b[43m,\u001b[49m\u001b[43m \u001b[49m\u001b[38;5;28;43mself\u001b[39;49m\u001b[38;5;241;43m.\u001b[39;49m\u001b[43mtarget_id\u001b[49m\u001b[43m,\u001b[49m\u001b[43m \u001b[49m\u001b[38;5;28;43mself\u001b[39;49m\u001b[38;5;241;43m.\u001b[39;49m\u001b[43mname\u001b[49m\u001b[43m)\u001b[49m\n\u001b[1;32m   1365\u001b[0m \u001b[38;5;28;01mfor\u001b[39;00m temp_arg \u001b[38;5;129;01min\u001b[39;00m temp_args:\n\u001b[1;32m   1366\u001b[0m     \u001b[38;5;28;01mif\u001b[39;00m \u001b[38;5;28mhasattr\u001b[39m(temp_arg, \u001b[38;5;124m\"\u001b[39m\u001b[38;5;124m_detach\u001b[39m\u001b[38;5;124m\"\u001b[39m):\n",
      "File \u001b[0;32m~/.pyenv/versions/3.11.9/lib/python3.11/site-packages/pyspark/errors/exceptions/captured.py:282\u001b[0m, in \u001b[0;36mcapture_sql_exception.<locals>.deco\u001b[0;34m(*a, **kw)\u001b[0m\n\u001b[1;32m    279\u001b[0m \u001b[38;5;28;01mfrom\u001b[39;00m\u001b[38;5;250m \u001b[39m\u001b[38;5;21;01mpy4j\u001b[39;00m\u001b[38;5;21;01m.\u001b[39;00m\u001b[38;5;21;01mprotocol\u001b[39;00m\u001b[38;5;250m \u001b[39m\u001b[38;5;28;01mimport\u001b[39;00m Py4JJavaError\n\u001b[1;32m    281\u001b[0m \u001b[38;5;28;01mtry\u001b[39;00m:\n\u001b[0;32m--> 282\u001b[0m     \u001b[38;5;28;01mreturn\u001b[39;00m \u001b[43mf\u001b[49m\u001b[43m(\u001b[49m\u001b[38;5;241;43m*\u001b[39;49m\u001b[43ma\u001b[49m\u001b[43m,\u001b[49m\u001b[43m \u001b[49m\u001b[38;5;241;43m*\u001b[39;49m\u001b[38;5;241;43m*\u001b[39;49m\u001b[43mkw\u001b[49m\u001b[43m)\u001b[49m\n\u001b[1;32m    283\u001b[0m \u001b[38;5;28;01mexcept\u001b[39;00m Py4JJavaError \u001b[38;5;28;01mas\u001b[39;00m e:\n\u001b[1;32m    284\u001b[0m     converted \u001b[38;5;241m=\u001b[39m convert_exception(e\u001b[38;5;241m.\u001b[39mjava_exception)\n",
      "File \u001b[0;32m~/.pyenv/versions/3.11.9/lib/python3.11/site-packages/py4j/protocol.py:327\u001b[0m, in \u001b[0;36mget_return_value\u001b[0;34m(answer, gateway_client, target_id, name)\u001b[0m\n\u001b[1;32m    325\u001b[0m value \u001b[38;5;241m=\u001b[39m OUTPUT_CONVERTER[\u001b[38;5;28mtype\u001b[39m](answer[\u001b[38;5;241m2\u001b[39m:], gateway_client)\n\u001b[1;32m    326\u001b[0m \u001b[38;5;28;01mif\u001b[39;00m answer[\u001b[38;5;241m1\u001b[39m] \u001b[38;5;241m==\u001b[39m REFERENCE_TYPE:\n\u001b[0;32m--> 327\u001b[0m     \u001b[38;5;28;01mraise\u001b[39;00m Py4JJavaError(\n\u001b[1;32m    328\u001b[0m         \u001b[38;5;124m\"\u001b[39m\u001b[38;5;124mAn error occurred while calling \u001b[39m\u001b[38;5;132;01m{0}\u001b[39;00m\u001b[38;5;132;01m{1}\u001b[39;00m\u001b[38;5;132;01m{2}\u001b[39;00m\u001b[38;5;124m.\u001b[39m\u001b[38;5;130;01m\\n\u001b[39;00m\u001b[38;5;124m\"\u001b[39m\u001b[38;5;241m.\u001b[39m\n\u001b[1;32m    329\u001b[0m         \u001b[38;5;28mformat\u001b[39m(target_id, \u001b[38;5;124m\"\u001b[39m\u001b[38;5;124m.\u001b[39m\u001b[38;5;124m\"\u001b[39m, name), value)\n\u001b[1;32m    330\u001b[0m \u001b[38;5;28;01melse\u001b[39;00m:\n\u001b[1;32m    331\u001b[0m     \u001b[38;5;28;01mraise\u001b[39;00m Py4JError(\n\u001b[1;32m    332\u001b[0m         \u001b[38;5;124m\"\u001b[39m\u001b[38;5;124mAn error occurred while calling \u001b[39m\u001b[38;5;132;01m{0}\u001b[39;00m\u001b[38;5;132;01m{1}\u001b[39;00m\u001b[38;5;132;01m{2}\u001b[39;00m\u001b[38;5;124m. Trace:\u001b[39m\u001b[38;5;130;01m\\n\u001b[39;00m\u001b[38;5;132;01m{3}\u001b[39;00m\u001b[38;5;130;01m\\n\u001b[39;00m\u001b[38;5;124m\"\u001b[39m\u001b[38;5;241m.\u001b[39m\n\u001b[1;32m    333\u001b[0m         \u001b[38;5;28mformat\u001b[39m(target_id, \u001b[38;5;124m\"\u001b[39m\u001b[38;5;124m.\u001b[39m\u001b[38;5;124m\"\u001b[39m, name, value))\n",
      "\u001b[0;31mPy4JJavaError\u001b[0m: An error occurred while calling o34.runQuery.\n: org.rumbledb.exceptions.CannotRetrieveResourceException: There was an error on line 1 in file:/Users/ghislain/Code/rumble/:\n\ntable(\"myinput\")\n^\n\nCode: [FODC0002]\nMessage: Table myinput not found in hive catalogue.\nMetadata: file:/Users/ghislain/Code/rumble/:LINE:1:COLUMN:0:\nThis code can also be looked up in the documentation and specifications for more information.\n\n\tat org.rumbledb.compiler.InferTypeVisitor.tryAnnotateSpecificFunctions(InferTypeVisitor.java:658)\n\tat org.rumbledb.compiler.InferTypeVisitor.visitFunctionCall(InferTypeVisitor.java:770)\n\tat org.rumbledb.compiler.InferTypeVisitor.visitFunctionCall(InferTypeVisitor.java:1)\n\tat org.rumbledb.expressions.primary.FunctionCallExpression.accept(FunctionCallExpression.java:78)\n\tat org.rumbledb.expressions.AbstractNodeVisitor.visit(AbstractNodeVisitor.java:120)\n\tat org.rumbledb.expressions.AbstractNodeVisitor.visitDescendants(AbstractNodeVisitor.java:126)\n\tat org.rumbledb.compiler.InferTypeVisitor.visitStatementsAndOptionalExpr(InferTypeVisitor.java:2928)\n\tat org.rumbledb.compiler.InferTypeVisitor.visitStatementsAndOptionalExpr(InferTypeVisitor.java:1)\n\tat org.rumbledb.expressions.scripting.statement.StatementsAndOptionalExpr.accept(StatementsAndOptionalExpr.java:46)\n\tat org.rumbledb.expressions.AbstractNodeVisitor.visit(AbstractNodeVisitor.java:120)\n\tat org.rumbledb.expressions.AbstractNodeVisitor.visitDescendants(AbstractNodeVisitor.java:126)\n\tat org.rumbledb.expressions.AbstractNodeVisitor.defaultAction(AbstractNodeVisitor.java:132)\n\tat org.rumbledb.expressions.AbstractNodeVisitor.visitProgram(AbstractNodeVisitor.java:468)\n\tat org.rumbledb.expressions.scripting.Program.accept(Program.java:33)\n\tat org.rumbledb.expressions.AbstractNodeVisitor.visit(AbstractNodeVisitor.java:120)\n\tat org.rumbledb.expressions.AbstractNodeVisitor.visitDescendants(AbstractNodeVisitor.java:126)\n\tat org.rumbledb.compiler.InferTypeVisitor.visitMainModule(InferTypeVisitor.java:2529)\n\tat org.rumbledb.compiler.InferTypeVisitor.visitMainModule(InferTypeVisitor.java:1)\n\tat org.rumbledb.expressions.module.MainModule.accept(MainModule.java:93)\n\tat org.rumbledb.expressions.AbstractNodeVisitor.visit(AbstractNodeVisitor.java:120)\n\tat org.rumbledb.compiler.VisitorHelpers.inferTypes(VisitorHelpers.java:60)\n\tat org.rumbledb.compiler.VisitorHelpers.parseJSONiqMainModule(VisitorHelpers.java:251)\n\tat org.rumbledb.compiler.VisitorHelpers.parseMainModule(VisitorHelpers.java:174)\n\tat org.rumbledb.compiler.VisitorHelpers.parseMainModuleFromQuery(VisitorHelpers.java:161)\n\tat org.rumbledb.api.Rumble.runQuery(Rumble.java:66)\n\tat java.base/jdk.internal.reflect.NativeMethodAccessorImpl.invoke0(Native Method)\n\tat java.base/jdk.internal.reflect.NativeMethodAccessorImpl.invoke(NativeMethodAccessorImpl.java:77)\n\tat java.base/jdk.internal.reflect.DelegatingMethodAccessorImpl.invoke(DelegatingMethodAccessorImpl.java:43)\n\tat java.base/java.lang.reflect.Method.invoke(Method.java:569)\n\tat py4j.reflection.MethodInvoker.invoke(MethodInvoker.java:244)\n\tat py4j.reflection.ReflectionEngine.invoke(ReflectionEngine.java:374)\n\tat py4j.Gateway.invoke(Gateway.java:282)\n\tat py4j.commands.AbstractCommand.invokeMethod(AbstractCommand.java:132)\n\tat py4j.commands.CallCommand.execute(CallCommand.java:79)\n\tat py4j.ClientServerConnection.waitForCommands(ClientServerConnection.java:184)\n\tat py4j.ClientServerConnection.run(ClientServerConnection.java:108)\n\tat java.base/java.lang.Thread.run(Thread.java:840)\n"
     ]
    }
   ],
   "source": [
    "rumble.jsoniq('table(\"myinput\")').json()"
   ]
  },
  {
   "cell_type": "code",
   "execution_count": 108,
   "metadata": {},
   "outputs": [
    {
     "name": "stdout",
     "output_type": "stream",
     "text": [
      "+-------+\n",
      "|  value|\n",
      "+-------+\n",
      "|  Alice|\n",
      "|    Bob|\n",
      "|Charlie|\n",
      "+-------+\n",
      "\n"
     ]
    }
   ],
   "source": [
    "rumble.sql(\"SELECT * FROM myinput\").show()"
   ]
  },
  {
   "cell_type": "code",
   "execution_count": 32,
   "metadata": {},
   "outputs": [
    {
     "name": "stdout",
     "output_type": "stream",
     "text": [
      "Updates applied successfully.\n"
     ]
    }
   ],
   "source": [
    "%%jsoniq -u\n",
    "declare type local:mytype as { \"foo\" : \"string\", \"bar\" : \"int\" };\n",
    "create collection table(\"test3\") with (validate type local:mytype* { {\"foo\" : \"foo\", \"bar\":1},{\"foo\":\"bar\", \"bar\":2 } })"
   ]
  },
  {
   "cell_type": "code",
   "execution_count": 33,
   "metadata": {},
   "outputs": [
    {
     "name": "stdout",
     "output_type": "stream",
     "text": [
      "+---+---+-----+--------+---------------+------+-------------+\n",
      "|foo|bar|rowID|rowOrder|mutabilityLevel|pathIn|tableLocation|\n",
      "+---+---+-----+--------+---------------+------+-------------+\n",
      "|foo|  1|    0|     0.0|              0|      |        test3|\n",
      "|bar|  2|    1|     1.0|              0|      |        test3|\n",
      "+---+---+-----+--------+---------------+------+-------------+\n",
      "\n"
     ]
    }
   ],
   "source": [
    "rumble.sql(\"SELECT * FROM test3\").show()"
   ]
  },
  {
   "cell_type": "code",
   "execution_count": 40,
   "metadata": {
    "scrolled": true
   },
   "outputs": [
    {
     "name": "stdout",
     "output_type": "stream",
     "text": [
      "{\n",
      "  \"foo\": \"foo\",\n",
      "  \"bar\": 3\n",
      "}\n",
      "{\n",
      "  \"foo\": \"bar\",\n",
      "  \"bar\": 4\n",
      "}\n",
      "{\n",
      "  \"foo\": \"foo\",\n",
      "  \"bar\": 1\n",
      "}\n",
      "{\n",
      "  \"foo\": \"bar\",\n",
      "  \"bar\": 2\n",
      "}\n"
     ]
    }
   ],
   "source": [
    "%%jsoniq -j\n",
    "table(\"test3\")"
   ]
  },
  {
   "cell_type": "code",
   "execution_count": 48,
   "metadata": {},
   "outputs": [
    {
     "name": "stdout",
     "output_type": "stream",
     "text": [
      "   foo  bar  rowID      rowOrder  mutabilityLevel pathIn tableLocation\n",
      "0  foo    3      6 -96296.296296                0                test3\n",
      "1  bar    4      7 -92592.592592                0                test3\n",
      "2  foo    3      4 -88888.888889                0                test3\n",
      "3  bar    4      5 -77777.777778                0                test3\n",
      "4  foo    3      2 -66666.666667                0                test3\n",
      "5  bar    4      3 -33333.333334                0                test3\n",
      "6  foo    1      0      0.000000                0                test3\n",
      "7  bar    2      1      1.000000                0                test3\n"
     ]
    }
   ],
   "source": [
    "%%jsoniq -pdf\n",
    "table(\"test3\")"
   ]
  },
  {
   "cell_type": "code",
   "execution_count": 49,
   "metadata": {
    "collapsed": true,
    "jupyter": {
     "outputs_hidden": true
    }
   },
   "outputs": [
    {
     "name": "stdout",
     "output_type": "stream",
     "text": [
      "+---+---+-----+-------------+---------------+------+-------------+\n",
      "|foo|bar|rowID|     rowOrder|mutabilityLevel|pathIn|tableLocation|\n",
      "+---+---+-----+-------------+---------------+------+-------------+\n",
      "|foo|  3|    6|-96296.296296|              0|      |        test3|\n",
      "|bar|  4|    7|-92592.592592|              0|      |        test3|\n",
      "|foo|  3|    4|-88888.888889|              0|      |        test3|\n",
      "|bar|  4|    5|-77777.777778|              0|      |        test3|\n",
      "|foo|  3|    2|-66666.666667|              0|      |        test3|\n",
      "|bar|  4|    3|-33333.333334|              0|      |        test3|\n",
      "|foo|  1|    0|          0.0|              0|      |        test3|\n",
      "|bar|  2|    1|          1.0|              0|      |        test3|\n",
      "+---+---+-----+-------------+---------------+------+-------------+\n",
      "\n"
     ]
    }
   ],
   "source": [
    "%%jsoniq -df\n",
    "table(\"test3\")"
   ]
  },
  {
   "cell_type": "code",
   "execution_count": null,
   "metadata": {},
   "outputs": [],
   "source": []
  },
  {
   "cell_type": "code",
   "execution_count": 47,
   "metadata": {},
   "outputs": [
    {
     "name": "stdout",
     "output_type": "stream",
     "text": [
      "Updates applied successfully.\n"
     ]
    }
   ],
   "source": [
    "%%jsoniq -u\n",
    "declare type local:mytype as { \"foo\" : \"string\", \"bar\" : \"int\" };\n",
    "insert (validate type local:mytype* { {\"foo\" : \"foo\", \"bar\":3},{\"foo\":\"bar\", \"bar\":4 } }) first into collection table(\"test3\")"
   ]
  },
  {
   "cell_type": "code",
   "execution_count": 44,
   "metadata": {
    "scrolled": true
   },
   "outputs": [
    {
     "name": "stdout",
     "output_type": "stream",
     "text": [
      "+---+---+-----+-------------+---------------+------+-------------+\n",
      "|foo|bar|rowID|     rowOrder|mutabilityLevel|pathIn|tableLocation|\n",
      "+---+---+-----+-------------+---------------+------+-------------+\n",
      "|foo|  3|    4|-88888.888889|              0|      |        test3|\n",
      "|bar|  4|    5|-77777.777778|              0|      |        test3|\n",
      "|foo|  3|    2|-66666.666667|              0|      |        test3|\n",
      "|bar|  4|    3|-33333.333334|              0|      |        test3|\n",
      "|foo|  1|    0|          0.0|              0|      |        test3|\n",
      "|bar|  2|    1|          1.0|              0|      |        test3|\n",
      "+---+---+-----+-------------+---------------+------+-------------+\n",
      "\n"
     ]
    }
   ],
   "source": [
    "rumble.sql(\"SELECT * FROM test3\").show()"
   ]
  },
  {
   "cell_type": "code",
   "execution_count": 30,
   "metadata": {},
   "outputs": [
    {
     "name": "stdout",
     "output_type": "stream",
     "text": [
      "No Pending Update List (PUL) available to apply.\n",
      "The query output 6 items, which is too many to display. Displaying the first 5 items:\n",
      "{\n",
      "  \"foo\": \"foo\",\n",
      "  \"bar\": 3\n",
      "}\n",
      "{\n",
      "  \"foo\": \"bar\",\n",
      "  \"bar\": 4\n",
      "}\n",
      "{\n",
      "  \"foo\": \"foo\",\n",
      "  \"bar\": 3\n",
      "}\n",
      "{\n",
      "  \"foo\": \"bar\",\n",
      "  \"bar\": 4\n",
      "}\n",
      "{\n",
      "  \"foo\": \"foo\",\n",
      "  \"bar\": 1\n",
      "}\n"
     ]
    }
   ],
   "source": [
    "%%jsoniq -u\n",
    "table(\"test3\")"
   ]
  },
  {
   "cell_type": "code",
   "execution_count": 31,
   "metadata": {},
   "outputs": [
    {
     "name": "stdout",
     "output_type": "stream",
     "text": [
      "Updates applied successfully.\n"
     ]
    }
   ],
   "source": [
    "%%jsoniq -u\n",
    "delete collection table(\"test3\")"
   ]
  },
  {
   "cell_type": "code",
   "execution_count": 50,
   "metadata": {},
   "outputs": [
    {
     "name": "stdout",
     "output_type": "stream",
     "text": [
      "Updates applied successfully.\n"
     ]
    }
   ],
   "source": [
    "%%jsoniq -u\n",
    "declare type local:mytype as { \"foo\" : \"string\", \"bar\" : \"int\" };\n",
    "create collection delta-file(\"test3\") with (validate type local:mytype* { {\"foo\" : \"foo\", \"bar\":1},{\"foo\":\"bar\", \"bar\":2 } })"
   ]
  },
  {
   "cell_type": "code",
   "execution_count": 54,
   "metadata": {},
   "outputs": [
    {
     "name": "stdout",
     "output_type": "stream",
     "text": [
      "   foo  bar        rowID      rowOrder  mutabilityLevel pathIn  \\\n",
      "0  foo    3            0 -88888.888889                0          \n",
      "1  bar    4            1 -77777.777778                0          \n",
      "2  foo    3   8589934592 -96296.296296                0          \n",
      "3  bar    4   8589934593 -92592.592592                0          \n",
      "4  foo    3  17179869184 -66666.666667                0          \n",
      "5  bar    4  17179869185 -33333.333334                0          \n",
      "6  bar    2  25769803776      1.000000                0          \n",
      "7  foo    1  34359738368      0.000000                0          \n",
      "\n",
      "                                       tableLocation  \n",
      "0  file:/Users/ghislain/Code/rumble/spark-warehou...  \n",
      "1  file:/Users/ghislain/Code/rumble/spark-warehou...  \n",
      "2  file:/Users/ghislain/Code/rumble/spark-warehou...  \n",
      "3  file:/Users/ghislain/Code/rumble/spark-warehou...  \n",
      "4  file:/Users/ghislain/Code/rumble/spark-warehou...  \n",
      "5  file:/Users/ghislain/Code/rumble/spark-warehou...  \n",
      "6  file:/Users/ghislain/Code/rumble/spark-warehou...  \n",
      "7  file:/Users/ghislain/Code/rumble/spark-warehou...  \n"
     ]
    }
   ],
   "source": [
    "%%jsoniq -pdf\n",
    "delta-file(\"spark-warehouse/test3\")"
   ]
  },
  {
   "cell_type": "code",
   "execution_count": 67,
   "metadata": {},
   "outputs": [
    {
     "data": {
      "text/plain": [
       "DataFrame[]"
      ]
     },
     "execution_count": 67,
     "metadata": {},
     "output_type": "execute_result"
    }
   ],
   "source": [
    "rumble.sql(\"\"\"\n",
    "DROP TABLE IF EXISTS sample_table\n",
    "\"\"\");\n",
    "\n",
    "rumble.sql(\"\"\"\n",
    "CREATE TABLE sample_table (\n",
    "    rowOrder DOUBLE,\n",
    "    name STRING,\n",
    "    age INT\n",
    ");\n",
    "\"\"\");\n",
    "rumble.sql(\"\"\"\n",
    "INSERT INTO sample_table VALUES\n",
    "    (1, 'Alice', 30),\n",
    "    (2, 'Bob', 25),\n",
    "    (3, 'Charlie', 35);\n",
    "    \"\"\")"
   ]
  },
  {
   "cell_type": "code",
   "execution_count": 68,
   "metadata": {},
   "outputs": [
    {
     "name": "stdout",
     "output_type": "stream",
     "text": [
      "+--------+-------+---+\n",
      "|rowOrder|   name|age|\n",
      "+--------+-------+---+\n",
      "|     3.0|Charlie| 35|\n",
      "|     1.0|  Alice| 30|\n",
      "|     2.0|    Bob| 25|\n",
      "+--------+-------+---+\n",
      "\n"
     ]
    }
   ],
   "source": [
    "rumble.sql(\"SELECT * FROM sample_table\").show()"
   ]
  },
  {
   "cell_type": "code",
   "execution_count": 71,
   "metadata": {},
   "outputs": [
    {
     "name": "stdout",
     "output_type": "stream",
     "text": [
      "{\n",
      "  \"name\": \"Alice\",\n",
      "  \"age\": 30\n",
      "}\n",
      "{\n",
      "  \"name\": \"Bob\",\n",
      "  \"age\": 25\n",
      "}\n",
      "{\n",
      "  \"name\": \"Charlie\",\n",
      "  \"age\": 35\n",
      "}\n"
     ]
    }
   ],
   "source": [
    "%%jsoniq -j\n",
    "table(\"sample_table\")\n"
   ]
  },
  {
   "cell_type": "code",
   "execution_count": null,
   "metadata": {},
   "outputs": [],
   "source": []
  }
 ],
 "metadata": {
  "anaconda-cloud": {},
  "kernelspec": {
   "display_name": "Python 3 (ipykernel)",
   "language": "python",
   "name": "python3"
  },
  "language_info": {
   "codemirror_mode": {
    "name": "ipython",
    "version": 3
   },
   "file_extension": ".py",
   "mimetype": "text/x-python",
   "name": "python",
   "nbconvert_exporter": "python",
   "pygments_lexer": "ipython3",
   "version": "3.11.9"
  }
 },
 "nbformat": 4,
 "nbformat_minor": 4
}
