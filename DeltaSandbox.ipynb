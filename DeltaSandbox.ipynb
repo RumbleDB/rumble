{
 "cells": [
  {
   "cell_type": "markdown",
   "metadata": {},
   "source": [
    "# <center>JSONiq Update Facility sandbox</center>\n"
   ]
  },
  {
   "cell_type": "markdown",
   "metadata": {},
   "source": [
    "The following cell is meant for Google Colab, which does not have the right Java version."
   ]
  },
  {
   "cell_type": "code",
   "execution_count": null,
   "metadata": {},
   "outputs": [],
   "source": [
    "# We make sure Java 17 is installed.\n",
    "!apt update\n",
    "!apt install openjdk-17-jdk\n",
    "!java -version"
   ]
  },
  {
   "cell_type": "code",
   "execution_count": 1,
   "metadata": {},
   "outputs": [
    {
     "name": "stdout",
     "output_type": "stream",
     "text": [
      "Requirement already satisfied: jsoniq in /Users/ghislain/.pyenv/versions/3.11.9/lib/python3.11/site-packages (0.2.0a9)\n",
      "Requirement already satisfied: pyspark==4.0 in /Users/ghislain/.pyenv/versions/3.11.9/lib/python3.11/site-packages (from jsoniq) (4.0.0)\n",
      "Requirement already satisfied: pandas>=2.2 in /Users/ghislain/.pyenv/versions/3.11.9/lib/python3.11/site-packages (from jsoniq) (2.3.0)\n",
      "Requirement already satisfied: delta-spark==4.0 in /Users/ghislain/.pyenv/versions/3.11.9/lib/python3.11/site-packages (from jsoniq) (4.0.0)\n",
      "Requirement already satisfied: importlib-metadata>=1.0.0 in /Users/ghislain/.pyenv/versions/3.11.9/lib/python3.11/site-packages (from delta-spark==4.0->jsoniq) (8.7.0)\n",
      "Requirement already satisfied: py4j==0.10.9.9 in /Users/ghislain/.pyenv/versions/3.11.9/lib/python3.11/site-packages (from pyspark==4.0->jsoniq) (0.10.9.9)\n",
      "Requirement already satisfied: zipp>=3.20 in /Users/ghislain/.pyenv/versions/3.11.9/lib/python3.11/site-packages (from importlib-metadata>=1.0.0->delta-spark==4.0->jsoniq) (3.22.0)\n",
      "Requirement already satisfied: numpy>=1.23.2 in /Users/ghislain/.pyenv/versions/3.11.9/lib/python3.11/site-packages (from pandas>=2.2->jsoniq) (1.24.4)\n",
      "Requirement already satisfied: python-dateutil>=2.8.2 in /Users/ghislain/.pyenv/versions/3.11.9/lib/python3.11/site-packages (from pandas>=2.2->jsoniq) (2.9.0.post0)\n",
      "Requirement already satisfied: pytz>=2020.1 in /Users/ghislain/.pyenv/versions/3.11.9/lib/python3.11/site-packages (from pandas>=2.2->jsoniq) (2024.2)\n",
      "Requirement already satisfied: tzdata>=2022.7 in /Users/ghislain/.pyenv/versions/3.11.9/lib/python3.11/site-packages (from pandas>=2.2->jsoniq) (2024.2)\n",
      "Requirement already satisfied: six>=1.5 in /Users/ghislain/.pyenv/versions/3.11.9/lib/python3.11/site-packages (from python-dateutil>=2.8.2->pandas>=2.2->jsoniq) (1.16.0)\n",
      "\n",
      "\u001b[1m[\u001b[0m\u001b[34;49mnotice\u001b[0m\u001b[1;39;49m]\u001b[0m\u001b[39;49m A new release of pip is available: \u001b[0m\u001b[31;49m25.1.1\u001b[0m\u001b[39;49m -> \u001b[0m\u001b[32;49m25.2\u001b[0m\n",
      "\u001b[1m[\u001b[0m\u001b[34;49mnotice\u001b[0m\u001b[1;39;49m]\u001b[0m\u001b[39;49m To update, run: \u001b[0m\u001b[32;49mpip install --upgrade pip\u001b[0m\n"
     ]
    }
   ],
   "source": [
    "!pip install jsoniq"
   ]
  },
  {
   "cell_type": "code",
   "execution_count": 38,
   "metadata": {},
   "outputs": [
    {
     "name": "stdout",
     "output_type": "stream",
     "text": [
      "/Users/ghislain/.pyenv/versions/3.11.9/bin:/opt/homebrew/Cellar/pyenv/2.6.3/libexec:/opt/homebrew/Cellar/pyenv/2.6.3/plugins/python-build/bin:/Users/ghislain/bin/spark-4.0.0-bin-hadoop3/bin:/Users/ghislain/.pyenv/shims:/opt/homebrew/bin:/opt/homebrew/sbin:/usr/local/bin:/System/Cryptexes/App/usr/bin:/usr/bin:/bin:/usr/sbin:/sbin:/var/run/com.apple.security.cryptexd/codex.system/bootstrap/usr/local/bin:/var/run/com.apple.security.cryptexd/codex.system/bootstrap/usr/bin:/var/run/com.apple.security.cryptexd/codex.system/bootstrap/usr/appleinternal/bin:/usr/local/MacGPG2/bin:/Library/TeX/texbin\n"
     ]
    }
   ],
   "source": [
    "import os\n",
    "print(os.environ[\"PATH\"])"
   ]
  },
  {
   "cell_type": "markdown",
   "metadata": {},
   "source": [
    "We now initialize a RumbleDB session and test that it works."
   ]
  },
  {
   "cell_type": "code",
   "execution_count": 1,
   "metadata": {},
   "outputs": [
    {
     "ename": "SyntaxError",
     "evalue": "invalid syntax (2125513810.py, line 4)",
     "output_type": "error",
     "traceback": [
      "\u001b[0;36m  Cell \u001b[0;32mIn[1], line 4\u001b[0;36m\u001b[0m\n\u001b[0;31m    rumble.getRumbleConf().\u001b[0m\n\u001b[0m                           ^\u001b[0m\n\u001b[0;31mSyntaxError\u001b[0m\u001b[0;31m:\u001b[0m invalid syntax\n"
     ]
    }
   ],
   "source": [
    "from jsoniq import RumbleSession\n",
    "\n",
    "rumble = RumbleSession.builder.withDelta().getOrCreate();\n",
    "rumble.getRumbleConf().\n",
    "\n",
    "print(rumble.jsoniq('{ \"foo\": [ 6*7 ] }').json());"
   ]
  },
  {
   "cell_type": "markdown",
   "metadata": {},
   "source": [
    "For convenience, we also activate the JSONiq magic."
   ]
  },
  {
   "cell_type": "code",
   "execution_count": 2,
   "metadata": {},
   "outputs": [],
   "source": [
    "%load_ext jsoniqmagic\n"
   ]
  },
  {
   "cell_type": "markdown",
   "metadata": {},
   "source": [
    "We create a new collection"
   ]
  },
  {
   "cell_type": "code",
   "execution_count": 9,
   "metadata": {},
   "outputs": [
    {
     "data": {
      "text/html": [
       "<div>\n",
       "<style scoped>\n",
       "    .dataframe tbody tr th:only-of-type {\n",
       "        vertical-align: middle;\n",
       "    }\n",
       "\n",
       "    .dataframe tbody tr th {\n",
       "        vertical-align: top;\n",
       "    }\n",
       "\n",
       "    .dataframe thead th {\n",
       "        text-align: right;\n",
       "    }\n",
       "</style>\n",
       "<table border=\"1\" class=\"dataframe\">\n",
       "  <thead>\n",
       "    <tr style=\"text-align: right;\">\n",
       "      <th></th>\n",
       "      <th>bar</th>\n",
       "      <th>foo</th>\n",
       "      <th>foobar</th>\n",
       "    </tr>\n",
       "  </thead>\n",
       "  <tbody>\n",
       "    <tr>\n",
       "      <th>0</th>\n",
       "      <td>None</td>\n",
       "      <td>None</td>\n",
       "      <td>bar2</td>\n",
       "    </tr>\n",
       "    <tr>\n",
       "      <th>1</th>\n",
       "      <td>[1, 2]</td>\n",
       "      <td>bar</td>\n",
       "      <td>None</td>\n",
       "    </tr>\n",
       "    <tr>\n",
       "      <th>2</th>\n",
       "      <td>None</td>\n",
       "      <td>asdf</td>\n",
       "      <td>None</td>\n",
       "    </tr>\n",
       "  </tbody>\n",
       "</table>\n",
       "</div>"
      ],
      "text/plain": [
       "      bar   foo foobar\n",
       "0    None  None   bar2\n",
       "1  [1, 2]   bar   None\n",
       "2    None  asdf   None"
      ]
     },
     "execution_count": 9,
     "metadata": {},
     "output_type": "execute_result"
    }
   ],
   "source": [
    "%%jsoniq -pdf\n",
    "({\"foo\"||\"bar\":\"bar2\"},{\"foo\":\"bar\", \"bar\":[1,2]},{\"foo\":\"asdf\"})"
   ]
  },
  {
   "cell_type": "code",
   "execution_count": 13,
   "metadata": {},
   "outputs": [
    {
     "name": "stdout",
     "output_type": "stream",
     "text": [
      "({'results': [2, {'bar': [1, False, None]}]},)\n"
     ]
    }
   ],
   "source": [
    "print(rumble.jsoniq('{ \"results\" : $c.foo[[2]] }',\n",
    "    c=({\"foo\":[1,2,3]},{\"foo\":[4,{\"bar\":[1,False, None]},6]})).json())"
   ]
  },
  {
   "cell_type": "code",
   "execution_count": 14,
   "metadata": {},
   "outputs": [
    {
     "name": "stdout",
     "output_type": "stream",
     "text": [
      "({'even': [2, 4, 6]}, {'odd': [1, 3, 5]})\n",
      "({'gerade': [2, 4, 6]}, {'ungerade': [1, 3, 5]})\n"
     ]
    }
   ],
   "source": [
    "rumble.bind('$c', (1,2,3,4, 5, 6))\n",
    "print(rumble.jsoniq(\"\"\"\n",
    "for $v in $c\n",
    "let $parity := $v mod 2\n",
    "group by $parity\n",
    "return { switch($parity)\n",
    "         case 0 return \"even\"\n",
    "         case 1 return \"odd\"\n",
    "         default return \"?\" : $v\n",
    "}\n",
    "\"\"\").json())\n",
    "\n",
    "print(rumble.jsoniq(\"\"\"\n",
    "for $v in $c\n",
    "let $parity := $v mod 2\n",
    "group by $parity\n",
    "return { switch($parity)\n",
    "         case 0 return \"gerade\"\n",
    "         case 1 return \"ungerade\"\n",
    "         default return \"?\" : $v\n",
    "}\n",
    "\"\"\").json())"
   ]
  },
  {
   "cell_type": "markdown",
   "metadata": {},
   "source": [
    "We insert new data -- remember the snapshot semantics, all updates are computed against the original table, and then applied jointly."
   ]
  },
  {
   "cell_type": "code",
   "execution_count": 15,
   "metadata": {},
   "outputs": [],
   "source": [
    "rumble.unbind('$c')"
   ]
  },
  {
   "cell_type": "code",
   "execution_count": 20,
   "metadata": {},
   "outputs": [
    {
     "name": "stderr",
     "output_type": "stream",
     "text": [
      "***************\n",
      "Parsing program\n",
      "***************\n",
      "***************\n",
      "Pruning modules\n",
      "***************\n",
      "**********************\n",
      "Resolving dependencies\n",
      "**********************\n",
      "*************************************\n",
      "Populating sequential classifications\n",
      "*************************************\n",
      "***************\n",
      "Expression tree\n",
      "***************\n",
      "Unset execution modes: 8\n",
      "MainModule | unset\n",
      "  Prolog | unset\n",
      "    VariableDeclaration (a, external, <anonymous>({ \"kind\": \"object\", \"baseType\": \"js:object\", \"treeDepth\": 3, \"closed\": true, \"content\": [ { \"name\": \"Name\", \"type\": \"xs:string\" }, { \"name\": \"Age\", \"type\": \"xs:integer\" } ] })*)  | unset\n",
      "  Program | unset\n",
      "    StatementsAndOptionalExpr | unset | unset | not set\n",
      "      ObjectLookupExpression | unset | unset | not set\n",
      "        VariableReferenceExpression ($a)  | unset | unset | not set\n",
      "        StringLiteralExpression (Name)  | unset | unset | not set\n",
      "\n",
      "\n",
      "Static context with variables:\n",
      "Static context with user-defined functions:\n",
      "Static context with user-defined types:\n",
      "\n",
      "Execution modes: \n",
      "\n",
      "***************\n",
      "Expression tree\n",
      "***************\n",
      "Unset execution modes: 8\n",
      "MainModule | unset\n",
      "  Prolog | unset\n",
      "    VariableDeclaration (a, external, <anonymous>({ \"kind\": \"object\", \"baseType\": \"js:object\", \"treeDepth\": 3, \"closed\": true, \"content\": [ { \"name\": \"Name\", \"type\": \"xs:string\" }, { \"name\": \"Age\", \"type\": \"xs:integer\" } ] })*)  | unset\n",
      "  Program | unset\n",
      "    StatementsAndOptionalExpr | unset | unset | not set\n",
      "      ObjectLookupExpression | unset | unset | not set\n",
      "        VariableReferenceExpression ($a)  | unset | unset | not set\n",
      "        StringLiteralExpression (Name)  | unset | unset | not set\n",
      "\n",
      "\n",
      "Static context with variables:\n",
      "Static context with user-defined functions:\n",
      "Static context with user-defined types:\n",
      "\n",
      "Execution modes: \n",
      "\n",
      "***************************************\n",
      "Applying type independent optimizations\n",
      "***************************************\n",
      "***************************************\n",
      "Function dependencies visitor\n",
      "***************************************\n",
      "***************\n",
      "Expression tree\n",
      "***************\n",
      "Unset execution modes: 8\n",
      "MainModule | unset\n",
      "  Prolog | unset\n",
      "    VariableDeclaration (a, external, <anonymous>({ \"kind\": \"object\", \"baseType\": \"js:object\", \"treeDepth\": 3, \"closed\": true, \"content\": [ { \"name\": \"Name\", \"type\": \"xs:string\" }, { \"name\": \"Age\", \"type\": \"xs:integer\" } ] })*)  | unset\n",
      "  Program | unset\n",
      "    StatementsAndOptionalExpr | unset | unset | not set\n",
      "      ObjectLookupExpression | unset | unset | not set\n",
      "        VariableReferenceExpression ($a)  | unset | unset | not set\n",
      "        StringLiteralExpression (Name)  | unset | unset | not set\n",
      "\n",
      "\n",
      "Static context with variables:\n",
      "Static context with user-defined functions:\n",
      "Static context with user-defined types:\n",
      "\n",
      "Execution modes: \n",
      "\n",
      "***************************************\n",
      "Function inlining\n",
      "***************************************\n",
      "***************\n",
      "Expression tree\n",
      "***************\n",
      "Unset execution modes: 8\n",
      "MainModule | unset\n",
      "  Prolog | unset\n",
      "    VariableDeclaration (a, external, <anonymous>({ \"kind\": \"object\", \"baseType\": \"js:object\", \"treeDepth\": 3, \"closed\": true, \"content\": [ { \"name\": \"Name\", \"type\": \"xs:string\" }, { \"name\": \"Age\", \"type\": \"xs:integer\" } ] })*)  | unset\n",
      "  Program | unset\n",
      "    StatementsAndOptionalExpr | unset | unset | not set\n",
      "      ObjectLookupExpression | unset | unset | not set\n",
      "        VariableReferenceExpression ($a)  | unset | unset | not set\n",
      "        StringLiteralExpression (Name)  | unset | unset | not set\n",
      "\n",
      "\n",
      "Static context with variables:\n",
      "Static context with user-defined functions:\n",
      "Static context with user-defined types:\n",
      "\n",
      "Execution modes: \n",
      "\n",
      "***************************************\n",
      "Projection pushdown\n",
      "***************************************\n",
      "***************\n",
      "Expression tree\n",
      "***************\n",
      "Unset execution modes: 8\n",
      "MainModule | unset\n",
      "  Prolog | unset\n",
      "    VariableDeclaration (a, external, <anonymous>({ \"kind\": \"object\", \"baseType\": \"js:object\", \"treeDepth\": 3, \"closed\": true, \"content\": [ { \"name\": \"Name\", \"type\": \"xs:string\" }, { \"name\": \"Age\", \"type\": \"xs:integer\" } ] })*)  | unset\n",
      "  Program | unset\n",
      "    StatementsAndOptionalExpr | unset | unset | not set\n",
      "      ObjectLookupExpression | unset | unset | not set\n",
      "        VariableReferenceExpression ($a)  | unset | unset | not set\n",
      "        StringLiteralExpression (Name)  | unset | unset | not set\n",
      "\n",
      "\n",
      "Static context with variables:\n",
      "Static context with user-defined functions:\n",
      "Static context with user-defined types:\n",
      "\n",
      "Execution modes: \n",
      "\n",
      "*************************\n",
      "Populating static context\n",
      "*************************\n",
      "***************\n",
      "Expression tree\n",
      "***************\n",
      "Unset execution modes: 8\n",
      "MainModule | unset\n",
      "  Prolog | unset\n",
      "    VariableDeclaration (a, external, <anonymous>({ \"kind\": \"object\", \"baseType\": \"js:object\", \"treeDepth\": 3, \"closed\": true, \"content\": [ { \"name\": \"Name\", \"type\": \"xs:string\" }, { \"name\": \"Age\", \"type\": \"xs:integer\" } ] })*)  | unset\n",
      "  Program | unset\n",
      "    StatementsAndOptionalExpr | unset | unset | not set\n",
      "      ObjectLookupExpression | unset | unset | not set\n",
      "        VariableReferenceExpression ($a)  | unset | unset | not set\n",
      "        StringLiteralExpression (Name)  | unset | unset | not set\n",
      "\n",
      "\n",
      "Static context with variables:\n",
      "Static context with user-defined functions:\n",
      "Static context with user-defined types:\n",
      "\n",
      "Execution modes: \n",
      "\n",
      "***************\n",
      "Expression tree\n",
      "***************\n",
      "Unset execution modes: 8\n",
      "MainModule | unset\n",
      "  Prolog | unset\n",
      "    VariableDeclaration (a, external, <anonymous>({ \"kind\": \"object\", \"baseType\": \"js:object\", \"treeDepth\": 3, \"closed\": true, \"content\": [ { \"name\": \"Name\", \"type\": \"xs:string\" }, { \"name\": \"Age\", \"type\": \"xs:integer\" } ] })*)  | unset\n",
      "  Program | unset\n",
      "    StatementsAndOptionalExpr | unset | unset | not set\n",
      "      ObjectLookupExpression | unset | unset | not set\n",
      "        VariableReferenceExpression ($a)  | unset | unset | not set\n",
      "        StringLiteralExpression (Name)  | unset | unset | not set\n",
      "\n",
      "\n",
      "Static context with variables:\n",
      "a as <anonymous>({ \"kind\": \"object\", \"baseType\": \"js:object\", \"treeDepth\": 3, \"closed\": true, \"content\": [ { \"name\": \"Name\", \"type\": \"xs:string\" }, { \"name\": \"Age\", \"type\": \"xs:integer\" } ] })* (namespace null) | unset | not assignable\n",
      "Static context with user-defined functions:\n",
      "Static context with user-defined types:\n",
      "\n",
      "Execution modes: \n",
      "\n",
      "*************************************\n",
      "Populating expression classifications\n",
      "*************************************\n",
      "***************\n",
      "Expression tree\n",
      "***************\n",
      "Unset execution modes: 8\n",
      "MainModule | unset\n",
      "  Prolog | unset\n",
      "    VariableDeclaration (a, external, <anonymous>({ \"kind\": \"object\", \"baseType\": \"js:object\", \"treeDepth\": 3, \"closed\": true, \"content\": [ { \"name\": \"Name\", \"type\": \"xs:string\" }, { \"name\": \"Age\", \"type\": \"xs:integer\" } ] })*)  | unset\n",
      "  Program | unset\n",
      "    StatementsAndOptionalExpr | unset | unset | not set\n",
      "      ObjectLookupExpression | unset | unset | not set\n",
      "        VariableReferenceExpression ($a)  | unset | unset | not set\n",
      "        StringLiteralExpression (Name)  | unset | unset | not set\n",
      "\n",
      "\n",
      "Static context with variables:\n",
      "a as <anonymous>({ \"kind\": \"object\", \"baseType\": \"js:object\", \"treeDepth\": 3, \"closed\": true, \"content\": [ { \"name\": \"Name\", \"type\": \"xs:string\" }, { \"name\": \"Age\", \"type\": \"xs:integer\" } ] })* (namespace null) | unset | not assignable\n",
      "Static context with user-defined functions:\n",
      "Static context with user-defined types:\n",
      "\n",
      "Execution modes: \n",
      "\n",
      "***************\n",
      "Expression tree\n",
      "***************\n",
      "Unset execution modes: 8\n",
      "MainModule | unset\n",
      "  Prolog | unset\n",
      "    VariableDeclaration (a, external, <anonymous>({ \"kind\": \"object\", \"baseType\": \"js:object\", \"treeDepth\": 3, \"closed\": true, \"content\": [ { \"name\": \"Name\", \"type\": \"xs:string\" }, { \"name\": \"Age\", \"type\": \"xs:integer\" } ] })*)  | unset\n",
      "  Program | unset\n",
      "    StatementsAndOptionalExpr | unset | simple | not set\n",
      "      ObjectLookupExpression | unset | simple | not set\n",
      "        VariableReferenceExpression ($a)  | unset | simple | not set\n",
      "        StringLiteralExpression (Name)  | unset | simple | not set\n",
      "\n",
      "\n",
      "Static context with variables:\n",
      "a as <anonymous>({ \"kind\": \"object\", \"baseType\": \"js:object\", \"treeDepth\": 3, \"closed\": true, \"content\": [ { \"name\": \"Name\", \"type\": \"xs:string\" }, { \"name\": \"Age\", \"type\": \"xs:integer\" } ] })* (namespace null) | unset | not assignable\n",
      "Static context with user-defined functions:\n",
      "Static context with user-defined types:\n",
      "\n",
      "Execution modes: \n",
      "\n",
      "********************************\n",
      "Verify composability constraints\n",
      "********************************\n",
      "***************\n",
      "Expression tree\n",
      "***************\n",
      "Unset execution modes: 8\n",
      "MainModule | unset\n",
      "  Prolog | unset\n",
      "    VariableDeclaration (a, external, <anonymous>({ \"kind\": \"object\", \"baseType\": \"js:object\", \"treeDepth\": 3, \"closed\": true, \"content\": [ { \"name\": \"Name\", \"type\": \"xs:string\" }, { \"name\": \"Age\", \"type\": \"xs:integer\" } ] })*)  | unset\n",
      "  Program | unset\n",
      "    StatementsAndOptionalExpr | unset | simple | not set\n",
      "      ObjectLookupExpression | unset | simple | not set\n",
      "        VariableReferenceExpression ($a)  | unset | simple | not set\n",
      "        StringLiteralExpression (Name)  | unset | simple | not set\n",
      "\n",
      "\n",
      "Static context with variables:\n",
      "a as <anonymous>({ \"kind\": \"object\", \"baseType\": \"js:object\", \"treeDepth\": 3, \"closed\": true, \"content\": [ { \"name\": \"Name\", \"type\": \"xs:string\" }, { \"name\": \"Age\", \"type\": \"xs:integer\" } ] })* (namespace null) | unset | not assignable\n",
      "Static context with user-defined functions:\n",
      "Static context with user-defined types:\n",
      "\n",
      "Execution modes: \n",
      "\n",
      "***************\n",
      "Expression tree\n",
      "***************\n",
      "Unset execution modes: 8\n",
      "MainModule | unset\n",
      "  Prolog | unset\n",
      "    VariableDeclaration (a, external, <anonymous>({ \"kind\": \"object\", \"baseType\": \"js:object\", \"treeDepth\": 3, \"closed\": true, \"content\": [ { \"name\": \"Name\", \"type\": \"xs:string\" }, { \"name\": \"Age\", \"type\": \"xs:integer\" } ] })*)  | unset\n",
      "  Program | unset\n",
      "    StatementsAndOptionalExpr | unset | simple | not set\n",
      "      ObjectLookupExpression | unset | simple | not set\n",
      "        VariableReferenceExpression ($a)  | unset | simple | not set\n",
      "        StringLiteralExpression (Name)  | unset | simple | not set\n",
      "\n",
      "\n",
      "Static context with variables:\n",
      "a as <anonymous>({ \"kind\": \"object\", \"baseType\": \"js:object\", \"treeDepth\": 3, \"closed\": true, \"content\": [ { \"name\": \"Name\", \"type\": \"xs:string\" }, { \"name\": \"Age\", \"type\": \"xs:integer\" } ] })* (namespace null) | unset | not assignable\n",
      "Static context with user-defined functions:\n",
      "Static context with user-defined types:\n",
      "\n",
      "Execution modes: \n",
      "\n",
      "**************\n",
      "Infering types\n",
      "**************\n",
      "***************\n",
      "Expression tree\n",
      "***************\n",
      "Unset execution modes: 8\n",
      "MainModule | unset\n",
      "  Prolog | unset\n",
      "    VariableDeclaration (a, external, <anonymous>({ \"kind\": \"object\", \"baseType\": \"js:object\", \"treeDepth\": 3, \"closed\": true, \"content\": [ { \"name\": \"Name\", \"type\": \"xs:string\" }, { \"name\": \"Age\", \"type\": \"xs:integer\" } ] })*)  | unset\n",
      "  Program | unset\n",
      "    StatementsAndOptionalExpr | unset | simple | xs:string* (resolved)\n",
      "      ObjectLookupExpression | unset | simple | xs:string* (resolved)\n",
      "        VariableReferenceExpression ($a)  | unset | simple | <anonymous>({ \"kind\": \"object\", \"baseType\": \"js:object\", \"treeDepth\": 3, \"closed\": true, \"content\": [ { \"name\": \"Name\", \"type\": \"xs:string\" }, { \"name\": \"Age\", \"type\": \"xs:integer\" } ] })* (resolved)\n",
      "        StringLiteralExpression (Name)  | unset | simple | xs:string\n",
      "\n",
      "\n",
      "Static context with variables:\n",
      "a as <anonymous>({ \"kind\": \"object\", \"baseType\": \"js:object\", \"treeDepth\": 3, \"closed\": true, \"content\": [ { \"name\": \"Name\", \"type\": \"xs:string\" }, { \"name\": \"Age\", \"type\": \"xs:integer\" } ] })* (namespace null) | unset | not assignable\n",
      "Static context with user-defined functions:\n",
      "Static context with user-defined types:\n",
      "\n",
      "Execution modes: \n",
      "\n",
      "************************\n",
      "Applying type dependent optimizations\n",
      "************************\n",
      "***************************************\n",
      "Populating execution modes\n",
      "***************************************\n",
      "***************\n",
      "Expression tree\n",
      "***************\n",
      "Unset execution modes: 8\n",
      "MainModule | unset\n",
      "  Prolog | unset\n",
      "    VariableDeclaration (a, external, <anonymous>({ \"kind\": \"object\", \"baseType\": \"js:object\", \"treeDepth\": 3, \"closed\": true, \"content\": [ { \"name\": \"Name\", \"type\": \"xs:string\" }, { \"name\": \"Age\", \"type\": \"xs:integer\" } ] })*)  | unset\n",
      "  Program | unset\n",
      "    StatementsAndOptionalExpr | unset | unset | xs:string* (resolved)\n",
      "      ObjectLookupExpression | unset | unset | xs:string* (resolved)\n",
      "        VariableReferenceExpression ($a)  | unset | unset | <anonymous>({ \"kind\": \"object\", \"baseType\": \"js:object\", \"treeDepth\": 3, \"closed\": true, \"content\": [ { \"name\": \"Name\", \"type\": \"xs:string\" }, { \"name\": \"Age\", \"type\": \"xs:integer\" } ] })* (resolved)\n",
      "        StringLiteralExpression (Name)  | unset | unset | xs:string\n",
      "\n",
      "\n",
      "Static context with variables:\n",
      "a as <anonymous>({ \"kind\": \"object\", \"baseType\": \"js:object\", \"treeDepth\": 3, \"closed\": true, \"content\": [ { \"name\": \"Name\", \"type\": \"xs:string\" }, { \"name\": \"Age\", \"type\": \"xs:integer\" } ] })* (namespace null) | unset | not assignable\n",
      "Static context with user-defined functions:\n",
      "Static context with user-defined types:\n",
      "\n",
      "Execution modes: \n",
      "\n",
      "***************\n",
      "Expression tree\n",
      "***************\n",
      "Unset execution modes: 0\n",
      "MainModule | local\n",
      "  Prolog | local\n",
      "    VariableDeclaration (a, external, <anonymous>({ \"kind\": \"object\", \"baseType\": \"js:object\", \"treeDepth\": 3, \"closed\": true, \"content\": [ { \"name\": \"Name\", \"type\": \"xs:string\" }, { \"name\": \"Age\", \"type\": \"xs:integer\" } ] })*)  | local\n",
      "  Program | dataframe\n",
      "    StatementsAndOptionalExpr | dataframe | unset | xs:string* (resolved)\n",
      "      ObjectLookupExpression | dataframe | unset | xs:string* (resolved)\n",
      "        VariableReferenceExpression ($a)  | dataframe | unset | <anonymous>({ \"kind\": \"object\", \"baseType\": \"js:object\", \"treeDepth\": 3, \"closed\": true, \"content\": [ { \"name\": \"Name\", \"type\": \"xs:string\" }, { \"name\": \"Age\", \"type\": \"xs:integer\" } ] })* (resolved)\n",
      "        StringLiteralExpression (Name)  | local | unset | xs:string\n",
      "\n",
      "\n",
      "Static context with variables:\n",
      "a as <anonymous>({ \"kind\": \"object\", \"baseType\": \"js:object\", \"treeDepth\": 3, \"closed\": true, \"content\": [ { \"name\": \"Name\", \"type\": \"xs:string\" }, { \"name\": \"Age\", \"type\": \"xs:integer\" } ] })* (namespace null) | dataframe | not assignable\n",
      "Static context with user-defined functions:\n",
      "Static context with user-defined types:\n",
      "\n",
      "Execution modes: \n",
      "\n",
      "***************\n",
      "Expression tree\n",
      "***************\n",
      "Unset execution modes: 0\n",
      "MainModule | local\n",
      "  Prolog | local\n",
      "    VariableDeclaration (a, external, <anonymous>({ \"kind\": \"object\", \"baseType\": \"js:object\", \"treeDepth\": 3, \"closed\": true, \"content\": [ { \"name\": \"Name\", \"type\": \"xs:string\" }, { \"name\": \"Age\", \"type\": \"xs:integer\" } ] })*)  | local\n",
      "  Program | dataframe\n",
      "    StatementsAndOptionalExpr | dataframe | unset | xs:string* (resolved)\n",
      "      ObjectLookupExpression | dataframe | unset | xs:string* (resolved)\n",
      "        VariableReferenceExpression ($a)  | dataframe | unset | <anonymous>({ \"kind\": \"object\", \"baseType\": \"js:object\", \"treeDepth\": 3, \"closed\": true, \"content\": [ { \"name\": \"Name\", \"type\": \"xs:string\" }, { \"name\": \"Age\", \"type\": \"xs:integer\" } ] })* (resolved)\n",
      "        StringLiteralExpression (Name)  | local | unset | xs:string\n",
      "\n",
      "\n",
      "Static context with variables:\n",
      "a as <anonymous>({ \"kind\": \"object\", \"baseType\": \"js:object\", \"treeDepth\": 3, \"closed\": true, \"content\": [ { \"name\": \"Name\", \"type\": \"xs:string\" }, { \"name\": \"Age\", \"type\": \"xs:integer\" } ] })* (namespace null) | dataframe | not assignable\n",
      "Static context with user-defined functions:\n",
      "Static context with user-defined types:\n",
      "\n",
      "Execution modes: \n",
      "\n",
      "*************************************\n",
      "Populating expression classifications\n",
      "*************************************\n",
      "***************\n",
      "Expression tree\n",
      "***************\n",
      "Unset execution modes: 0\n",
      "MainModule | local\n",
      "  Prolog | local\n",
      "    VariableDeclaration (a, external, <anonymous>({ \"kind\": \"object\", \"baseType\": \"js:object\", \"treeDepth\": 3, \"closed\": true, \"content\": [ { \"name\": \"Name\", \"type\": \"xs:string\" }, { \"name\": \"Age\", \"type\": \"xs:integer\" } ] })*)  | local\n",
      "  Program | dataframe\n",
      "    StatementsAndOptionalExpr | dataframe | unset | xs:string* (resolved)\n",
      "      ObjectLookupExpression | dataframe | unset | xs:string* (resolved)\n",
      "        VariableReferenceExpression ($a)  | dataframe | unset | <anonymous>({ \"kind\": \"object\", \"baseType\": \"js:object\", \"treeDepth\": 3, \"closed\": true, \"content\": [ { \"name\": \"Name\", \"type\": \"xs:string\" }, { \"name\": \"Age\", \"type\": \"xs:integer\" } ] })* (resolved)\n",
      "        StringLiteralExpression (Name)  | local | unset | xs:string\n",
      "\n",
      "\n",
      "Static context with variables:\n",
      "a as <anonymous>({ \"kind\": \"object\", \"baseType\": \"js:object\", \"treeDepth\": 3, \"closed\": true, \"content\": [ { \"name\": \"Name\", \"type\": \"xs:string\" }, { \"name\": \"Age\", \"type\": \"xs:integer\" } ] })* (namespace null) | dataframe | not assignable\n",
      "Static context with user-defined functions:\n",
      "Static context with user-defined types:\n",
      "\n",
      "Execution modes: \n",
      "\n",
      "***************\n",
      "Expression tree\n",
      "***************\n",
      "Unset execution modes: 0\n",
      "MainModule | local\n",
      "  Prolog | local\n",
      "    VariableDeclaration (a, external, <anonymous>({ \"kind\": \"object\", \"baseType\": \"js:object\", \"treeDepth\": 3, \"closed\": true, \"content\": [ { \"name\": \"Name\", \"type\": \"xs:string\" }, { \"name\": \"Age\", \"type\": \"xs:integer\" } ] })*)  | local\n",
      "  Program | dataframe\n",
      "    StatementsAndOptionalExpr | dataframe | simple | xs:string* (resolved)\n",
      "      ObjectLookupExpression | dataframe | simple | xs:string* (resolved)\n",
      "        VariableReferenceExpression ($a)  | dataframe | simple | <anonymous>({ \"kind\": \"object\", \"baseType\": \"js:object\", \"treeDepth\": 3, \"closed\": true, \"content\": [ { \"name\": \"Name\", \"type\": \"xs:string\" }, { \"name\": \"Age\", \"type\": \"xs:integer\" } ] })* (resolved)\n",
      "        StringLiteralExpression (Name)  | local | simple | xs:string\n",
      "\n",
      "\n",
      "Static context with variables:\n",
      "a as <anonymous>({ \"kind\": \"object\", \"baseType\": \"js:object\", \"treeDepth\": 3, \"closed\": true, \"content\": [ { \"name\": \"Name\", \"type\": \"xs:string\" }, { \"name\": \"Age\", \"type\": \"xs:integer\" } ] })* (namespace null) | dataframe | not assignable\n",
      "Static context with user-defined functions:\n",
      "Static context with user-defined types:\n",
      "\n",
      "Execution modes: \n",
      "\n",
      "ProgramIterator | dataframe | xs:string* | simple | non-sequential | Variable dependencies: a(FULL) \n",
      "  StatementsWithExprIterator | dataframe | xs:string* | simple | non-sequential | Variable dependencies: a(FULL) \n",
      "    ObjectLookupIterator | dataframe | xs:string* | simple | non-sequential | Variable dependencies: a(FULL) \n",
      "      VariableReferenceIterator | dataframe | <anonymous>({ \"kind\": \"object\", \"baseType\": \"js:object\", \"treeDepth\": 3, \"closed\": true, \"content\": [ { \"name\": \"Name\", \"type\": \"xs:string\" }, { \"name\": \"Age\", \"type\": \"xs:integer\" } ] })* | simple | non-sequential | Variable dependencies: a(FULL) \n",
      "      StringRuntimeIterator | local | xs:string | simple | non-sequential | Variable dependencies: \n",
      "\n"
     ]
    },
    {
     "data": {
      "text/html": [
       "<div>\n",
       "<style scoped>\n",
       "    .dataframe tbody tr th:only-of-type {\n",
       "        vertical-align: middle;\n",
       "    }\n",
       "\n",
       "    .dataframe tbody tr th {\n",
       "        vertical-align: top;\n",
       "    }\n",
       "\n",
       "    .dataframe thead th {\n",
       "        text-align: right;\n",
       "    }\n",
       "</style>\n",
       "<table border=\"1\" class=\"dataframe\">\n",
       "  <thead>\n",
       "    <tr style=\"text-align: right;\">\n",
       "      <th></th>\n",
       "      <th>__value</th>\n",
       "    </tr>\n",
       "  </thead>\n",
       "  <tbody>\n",
       "    <tr>\n",
       "      <th>0</th>\n",
       "      <td>Alice</td>\n",
       "    </tr>\n",
       "    <tr>\n",
       "      <th>1</th>\n",
       "      <td>Bob</td>\n",
       "    </tr>\n",
       "    <tr>\n",
       "      <th>2</th>\n",
       "      <td>Charlie</td>\n",
       "    </tr>\n",
       "  </tbody>\n",
       "</table>\n",
       "</div>"
      ],
      "text/plain": [
       "   __value\n",
       "0    Alice\n",
       "1      Bob\n",
       "2  Charlie"
      ]
     },
     "execution_count": 20,
     "metadata": {},
     "output_type": "execute_result"
    }
   ],
   "source": [
    "import pandas as pd\n",
    "data = {'Name': ['Alice', 'Bob', 'Charlie'],\n",
    "        'Age': [30,25,35]};\n",
    "pdf = pd.DataFrame(data);\n",
    "\n",
    "seq = rumble.jsoniq('$a.Name', a=pdf)\n",
    "seq.pdf()"
   ]
  },
  {
   "cell_type": "code",
   "execution_count": 19,
   "metadata": {},
   "outputs": [],
   "source": [
    "\n",
    "conf = rumble.getRumbleConf()\n",
    "\n",
    "conf.setPrintIteratorTree(True)"
   ]
  },
  {
   "cell_type": "markdown",
   "metadata": {},
   "source": [
    "We delete a record"
   ]
  },
  {
   "cell_type": "code",
   "execution_count": 11,
   "metadata": {},
   "outputs": [
    {
     "name": "stdout",
     "output_type": "stream",
     "text": [
      "Updates applied successfully.\n",
      "Response time: 1.3398218154907227 ms\n"
     ]
    }
   ],
   "source": [
    "%%jsoniq -u -t\n",
    "delete table(\"foo\")[$$.foo eq 1500000] from collection"
   ]
  },
  {
   "cell_type": "code",
   "execution_count": 12,
   "metadata": {
    "scrolled": true
   },
   "outputs": [
    {
     "name": "stdout",
     "output_type": "stream",
     "text": [
      "+--------+\n",
      "|   value|\n",
      "+--------+\n",
      "|11000004|\n",
      "+--------+\n",
      "\n",
      "Response time: 0.22942113876342773 ms\n"
     ]
    }
   ],
   "source": [
    "%%jsoniq -df -t\n",
    "count(table(\"foo\"))"
   ]
  },
  {
   "cell_type": "markdown",
   "metadata": {},
   "source": [
    "We edit a record"
   ]
  },
  {
   "cell_type": "code",
   "execution_count": 13,
   "metadata": {},
   "outputs": [
    {
     "name": "stderr",
     "output_type": "stream",
     "text": [
      "                                                                                "
     ]
    },
    {
     "name": "stdout",
     "output_type": "stream",
     "text": [
      "Updates applied successfully.\n",
      "Response time: 1.5862219333648682 ms\n"
     ]
    }
   ],
   "source": [
    "%%jsoniq -u -t\n",
    "edit table(\"foo\")[$$.foo eq 1400000] into { \"foo\" : 22170000, \"bar\" : [ \"Alice\", \"Bob\", \"Daniel\" ] } in collection"
   ]
  },
  {
   "cell_type": "code",
   "execution_count": 14,
   "metadata": {},
   "outputs": [
    {
     "name": "stdout",
     "output_type": "stream",
     "text": [
      "{\n",
      "  \"foo\": 22170000,\n",
      "  \"bar\": [\n",
      "    \"Alice\",\n",
      "    \"Bob\",\n",
      "    \"Daniel\"\n",
      "  ]\n",
      "}\n"
     ]
    }
   ],
   "source": [
    "%%jsoniq\n",
    "table(\"foo\")[$$.foo eq 22170000]"
   ]
  },
  {
   "cell_type": "code",
   "execution_count": 15,
   "metadata": {},
   "outputs": [
    {
     "name": "stdout",
     "output_type": "stream",
     "text": [
      "+-------+--------------------+-----------+----------+-----------------+--------+---------------+\n",
      "|    foo|                 bar|    __rowID|__rowOrder|__mutabilityLevel|__pathIn|__tableLocation|\n",
      "+-------+--------------------+-----------+----------+-----------------+--------+---------------+\n",
      "|4000000|[Alice, Bob, Char...|17183869187| -99999.95|                0|        |            foo|\n",
      "|4000001|[Alice, Bob, Char...|17183869188|  -99999.9|                0|        |            foo|\n",
      "|4000002|[Alice, Bob, Char...|17183869189| -99999.85|                0|        |            foo|\n",
      "|4000003|[Alice, Bob, Char...|17183869190|  -99999.8|                0|        |            foo|\n",
      "|4000004|[Alice, Bob, Char...|17183869191| -99999.75|                0|        |            foo|\n",
      "|4000005|[Alice, Bob, Char...|17183869192|  -99999.7|                0|        |            foo|\n",
      "|4000006|[Alice, Bob, Char...|17183869193| -99999.65|                0|        |            foo|\n",
      "|4000007|[Alice, Bob, Char...|17183869194|  -99999.6|                0|        |            foo|\n",
      "|4000008|[Alice, Bob, Char...|17183869195| -99999.55|                0|        |            foo|\n",
      "|4000009|[Alice, Bob, Char...|17183869196|  -99999.5|                0|        |            foo|\n",
      "|4000010|[Alice, Bob, Char...|17183869197| -99999.45|                0|        |            foo|\n",
      "|4000011|[Alice, Bob, Char...|17183869198|  -99999.4|                0|        |            foo|\n",
      "|4000012|[Alice, Bob, Char...|17183869199| -99999.35|                0|        |            foo|\n",
      "|4000013|[Alice, Bob, Char...|17183869200|  -99999.3|                0|        |            foo|\n",
      "|4000014|[Alice, Bob, Char...|17183869201| -99999.25|                0|        |            foo|\n",
      "|4000015|[Alice, Bob, Char...|17183869202|  -99999.2|                0|        |            foo|\n",
      "|4000016|[Alice, Bob, Char...|17183869203| -99999.15|                0|        |            foo|\n",
      "|4000017|[Alice, Bob, Char...|17183869204|  -99999.1|                0|        |            foo|\n",
      "|4000018|[Alice, Bob, Char...|17183869205| -99999.05|                0|        |            foo|\n",
      "|4000019|[Alice, Bob, Char...|17183869206|  -99999.0|                0|        |            foo|\n",
      "+-------+--------------------+-----------+----------+-----------------+--------+---------------+\n",
      "only showing top 20 rows\n",
      "Response time: 0.6793951988220215 ms\n"
     ]
    }
   ],
   "source": [
    "%%jsoniq -df -t\n",
    "table(\"foo\")"
   ]
  },
  {
   "cell_type": "code",
   "execution_count": 16,
   "metadata": {},
   "outputs": [
    {
     "name": "stderr",
     "output_type": "stream",
     "text": [
      "                                                                                "
     ]
    },
    {
     "name": "stdout",
     "output_type": "stream",
     "text": [
      "Response time: 3.707296133041382 ms\n"
     ]
    }
   ],
   "source": [
    "%%jsoniq -t\n",
    "rename json table(\"foo\")[1].foo as \"bar2\";"
   ]
  },
  {
   "cell_type": "code",
   "execution_count": 17,
   "metadata": {},
   "outputs": [
    {
     "name": "stdout",
     "output_type": "stream",
     "text": [
      "+-------+--------------------+-----------+----------+-------+-----------------+--------+---------------+\n",
      "|    foo|                 bar|    __rowID|__rowOrder|   bar2|__mutabilityLevel|__pathIn|__tableLocation|\n",
      "+-------+--------------------+-----------+----------+-------+-----------------+--------+---------------+\n",
      "|   NULL|[Alice, Bob, Char...|17183869187| -99999.95|4000000|                0|        |            foo|\n",
      "|4000001|[Alice, Bob, Char...|17183869188|  -99999.9|   NULL|                0|        |            foo|\n",
      "|4000002|[Alice, Bob, Char...|17183869189| -99999.85|   NULL|                0|        |            foo|\n",
      "|4000003|[Alice, Bob, Char...|17183869190|  -99999.8|   NULL|                0|        |            foo|\n",
      "|4000004|[Alice, Bob, Char...|17183869191| -99999.75|   NULL|                0|        |            foo|\n",
      "|4000005|[Alice, Bob, Char...|17183869192|  -99999.7|   NULL|                0|        |            foo|\n",
      "|4000006|[Alice, Bob, Char...|17183869193| -99999.65|   NULL|                0|        |            foo|\n",
      "|4000007|[Alice, Bob, Char...|17183869194|  -99999.6|   NULL|                0|        |            foo|\n",
      "|4000008|[Alice, Bob, Char...|17183869195| -99999.55|   NULL|                0|        |            foo|\n",
      "|4000009|[Alice, Bob, Char...|17183869196|  -99999.5|   NULL|                0|        |            foo|\n",
      "|4000010|[Alice, Bob, Char...|17183869197| -99999.45|   NULL|                0|        |            foo|\n",
      "|4000011|[Alice, Bob, Char...|17183869198|  -99999.4|   NULL|                0|        |            foo|\n",
      "|4000012|[Alice, Bob, Char...|17183869199| -99999.35|   NULL|                0|        |            foo|\n",
      "|4000013|[Alice, Bob, Char...|17183869200|  -99999.3|   NULL|                0|        |            foo|\n",
      "|4000014|[Alice, Bob, Char...|17183869201| -99999.25|   NULL|                0|        |            foo|\n",
      "|4000015|[Alice, Bob, Char...|17183869202|  -99999.2|   NULL|                0|        |            foo|\n",
      "|4000016|[Alice, Bob, Char...|17183869203| -99999.15|   NULL|                0|        |            foo|\n",
      "|4000017|[Alice, Bob, Char...|17183869204|  -99999.1|   NULL|                0|        |            foo|\n",
      "|4000018|[Alice, Bob, Char...|17183869205| -99999.05|   NULL|                0|        |            foo|\n",
      "|4000019|[Alice, Bob, Char...|17183869206|  -99999.0|   NULL|                0|        |            foo|\n",
      "+-------+--------------------+-----------+----------+-------+-----------------+--------+---------------+\n",
      "only showing top 20 rows\n",
      "Response time: 0.6455399990081787 ms\n"
     ]
    }
   ],
   "source": [
    "%%jsoniq -df -t\n",
    "table(\"foo\")"
   ]
  },
  {
   "cell_type": "code",
   "execution_count": 18,
   "metadata": {},
   "outputs": [
    {
     "name": "stdout",
     "output_type": "stream",
     "text": [
      "Updates applied successfully.\n",
      "Response time: 0.035366058349609375 ms\n"
     ]
    }
   ],
   "source": [
    "%%jsoniq -u -t\n",
    "delete collection table(\"foo\")"
   ]
  },
  {
   "cell_type": "code",
   "execution_count": 28,
   "metadata": {},
   "outputs": [
    {
     "name": "stderr",
     "output_type": "stream",
     "text": [
      "                                                                                "
     ]
    },
    {
     "name": "stdout",
     "output_type": "stream",
     "text": [
      "Updates applied successfully.\n",
      "Response time: 0.905670166015625 ms\n"
     ]
    }
   ],
   "source": [
    "%%jsoniq -u -t\n",
    "create collection delta-file(\"foobar\") with for $i in 1000000 to 3000000 return { \"foo\" : $i, \"bar\" : [ \"Alice\", \"Bob\", \"Charlie\" ] }\n"
   ]
  },
  {
   "cell_type": "code",
   "execution_count": 29,
   "metadata": {},
   "outputs": [
    {
     "name": "stdout",
     "output_type": "stream",
     "text": [
      "+-------+--------------------+-------+----------+-----------------+--------+--------------------+\n",
      "|    foo|                 bar|__rowID|__rowOrder|__mutabilityLevel|__pathIn|     __tableLocation|\n",
      "+-------+--------------------+-------+----------+-----------------+--------+--------------------+\n",
      "|1000000|[Alice, Bob, Char...|      0|       0.0|                0|        |delta.`file:/User...|\n",
      "|1000001|[Alice, Bob, Char...|      1|       1.0|                0|        |delta.`file:/User...|\n",
      "|1000002|[Alice, Bob, Char...|      2|       2.0|                0|        |delta.`file:/User...|\n",
      "|1000003|[Alice, Bob, Char...|      3|       3.0|                0|        |delta.`file:/User...|\n",
      "|1000004|[Alice, Bob, Char...|      4|       4.0|                0|        |delta.`file:/User...|\n",
      "|1000005|[Alice, Bob, Char...|      5|       5.0|                0|        |delta.`file:/User...|\n",
      "|1000006|[Alice, Bob, Char...|      6|       6.0|                0|        |delta.`file:/User...|\n",
      "|1000007|[Alice, Bob, Char...|      7|       7.0|                0|        |delta.`file:/User...|\n",
      "|1000008|[Alice, Bob, Char...|      8|       8.0|                0|        |delta.`file:/User...|\n",
      "|1000009|[Alice, Bob, Char...|      9|       9.0|                0|        |delta.`file:/User...|\n",
      "|1000010|[Alice, Bob, Char...|     10|      10.0|                0|        |delta.`file:/User...|\n",
      "|1000011|[Alice, Bob, Char...|     11|      11.0|                0|        |delta.`file:/User...|\n",
      "|1000012|[Alice, Bob, Char...|     12|      12.0|                0|        |delta.`file:/User...|\n",
      "|1000013|[Alice, Bob, Char...|     13|      13.0|                0|        |delta.`file:/User...|\n",
      "|1000014|[Alice, Bob, Char...|     14|      14.0|                0|        |delta.`file:/User...|\n",
      "|1000015|[Alice, Bob, Char...|     15|      15.0|                0|        |delta.`file:/User...|\n",
      "|1000016|[Alice, Bob, Char...|     16|      16.0|                0|        |delta.`file:/User...|\n",
      "|1000017|[Alice, Bob, Char...|     17|      17.0|                0|        |delta.`file:/User...|\n",
      "|1000018|[Alice, Bob, Char...|     18|      18.0|                0|        |delta.`file:/User...|\n",
      "|1000019|[Alice, Bob, Char...|     19|      19.0|                0|        |delta.`file:/User...|\n",
      "+-------+--------------------+-------+----------+-----------------+--------+--------------------+\n",
      "only showing top 20 rows\n",
      "Response time: 0.3069188594818115 ms\n"
     ]
    }
   ],
   "source": [
    "%%jsoniq -pdf -t\n",
    "delta-file(\"foobar\")"
   ]
  },
  {
   "cell_type": "code",
   "execution_count": 30,
   "metadata": {},
   "outputs": [
    {
     "name": "stderr",
     "output_type": "stream",
     "text": [
      "                                                                                "
     ]
    },
    {
     "name": "stdout",
     "output_type": "stream",
     "text": [
      "Updates applied successfully.\n",
      "Response time: 12.24434494972229 ms\n"
     ]
    }
   ],
   "source": [
    "%%jsoniq -u -t\n",
    "insert for $i in 4000000 to 6000000 return { \"foo\" : $i, \"bar\" : [ \"Alice\", \"Bob\", \"Charlie\" ] }\n",
    "  first into collection delta-file(\"foobar\"),\n",
    "insert for $i in 7000000 to 10000000 return { \"foo\" : $i, \"bar\" : [ \"Alice\", \"Bob\", \"Charlie\" ] }\n",
    "  last into collection delta-file(\"foobar\"),\n",
    "insert for $i in 11000000 to 13000000 return { \"foo\" : $i, \"bar\" : [ \"Alice\", \"Bob\", \"Charlie\" ] }\n",
    "  before delta-file(\"foobar\")[position() eq 2] into collection,\n",
    "insert for $i in 14000000 to 16000000 return { \"foobar\" : $i, \"bar\" : [ \"Alice\", \"Bob\", \"Charlie\" ] }\n",
    "  after delta-file(\"foobar\")[position() eq 2] into collection\n"
   ]
  },
  {
   "cell_type": "code",
   "execution_count": 31,
   "metadata": {},
   "outputs": [
    {
     "name": "stdout",
     "output_type": "stream",
     "text": [
      "+-------+--------------------+-----------+----------+-----------------+--------+--------------------+\n",
      "|    foo|                 bar|    __rowID|__rowOrder|__mutabilityLevel|__pathIn|     __tableLocation|\n",
      "+-------+--------------------+-----------+----------+-----------------+--------+--------------------+\n",
      "|4000000|[Alice, Bob, Char...|17183869187| -99999.95|                0|        |delta.`file:/User...|\n",
      "|4000001|[Alice, Bob, Char...|17183869188|  -99999.9|                0|        |delta.`file:/User...|\n",
      "|4000002|[Alice, Bob, Char...|17183869189| -99999.85|                0|        |delta.`file:/User...|\n",
      "|4000003|[Alice, Bob, Char...|17183869190|  -99999.8|                0|        |delta.`file:/User...|\n",
      "|4000004|[Alice, Bob, Char...|17183869191| -99999.75|                0|        |delta.`file:/User...|\n",
      "|4000005|[Alice, Bob, Char...|17183869192|  -99999.7|                0|        |delta.`file:/User...|\n",
      "|4000006|[Alice, Bob, Char...|17183869193| -99999.65|                0|        |delta.`file:/User...|\n",
      "|4000007|[Alice, Bob, Char...|17183869194|  -99999.6|                0|        |delta.`file:/User...|\n",
      "|4000008|[Alice, Bob, Char...|17183869195| -99999.55|                0|        |delta.`file:/User...|\n",
      "|4000009|[Alice, Bob, Char...|17183869196|  -99999.5|                0|        |delta.`file:/User...|\n",
      "|4000010|[Alice, Bob, Char...|17183869197| -99999.45|                0|        |delta.`file:/User...|\n",
      "|4000011|[Alice, Bob, Char...|17183869198|  -99999.4|                0|        |delta.`file:/User...|\n",
      "|4000012|[Alice, Bob, Char...|17183869199| -99999.35|                0|        |delta.`file:/User...|\n",
      "|4000013|[Alice, Bob, Char...|17183869200|  -99999.3|                0|        |delta.`file:/User...|\n",
      "|4000014|[Alice, Bob, Char...|17183869201| -99999.25|                0|        |delta.`file:/User...|\n",
      "|4000015|[Alice, Bob, Char...|17183869202|  -99999.2|                0|        |delta.`file:/User...|\n",
      "|4000016|[Alice, Bob, Char...|17183869203| -99999.15|                0|        |delta.`file:/User...|\n",
      "|4000017|[Alice, Bob, Char...|17183869204|  -99999.1|                0|        |delta.`file:/User...|\n",
      "|4000018|[Alice, Bob, Char...|17183869205| -99999.05|                0|        |delta.`file:/User...|\n",
      "|4000019|[Alice, Bob, Char...|17183869206|  -99999.0|                0|        |delta.`file:/User...|\n",
      "+-------+--------------------+-----------+----------+-----------------+--------+--------------------+\n",
      "only showing top 20 rows\n",
      "Response time: 0.6701507568359375 ms\n"
     ]
    }
   ],
   "source": [
    "%%jsoniq -df -t\n",
    "delta-file(\"foobar\")"
   ]
  },
  {
   "cell_type": "code",
   "execution_count": 32,
   "metadata": {},
   "outputs": [
    {
     "name": "stderr",
     "output_type": "stream",
     "text": [
      "                                                                                "
     ]
    },
    {
     "name": "stdout",
     "output_type": "stream",
     "text": [
      "Updates applied successfully.\n",
      "Response time: 1.5392799377441406 ms\n"
     ]
    }
   ],
   "source": [
    "%%jsoniq -u -t\n",
    "delete delta-file(\"foobar\")[$$.foo eq 15000000] from collection"
   ]
  },
  {
   "cell_type": "code",
   "execution_count": 33,
   "metadata": {},
   "outputs": [
    {
     "name": "stdout",
     "output_type": "stream",
     "text": [
      "+-------+--------------------+-----------+----------+-----------------+--------+--------------------+\n",
      "|    foo|                 bar|    __rowID|__rowOrder|__mutabilityLevel|__pathIn|     __tableLocation|\n",
      "+-------+--------------------+-----------+----------+-----------------+--------+--------------------+\n",
      "|4000000|[Alice, Bob, Char...|17183869187| -99999.95|                0|        |delta.`file:/User...|\n",
      "|4000001|[Alice, Bob, Char...|17183869188|  -99999.9|                0|        |delta.`file:/User...|\n",
      "|4000002|[Alice, Bob, Char...|17183869189| -99999.85|                0|        |delta.`file:/User...|\n",
      "|4000003|[Alice, Bob, Char...|17183869190|  -99999.8|                0|        |delta.`file:/User...|\n",
      "|4000004|[Alice, Bob, Char...|17183869191| -99999.75|                0|        |delta.`file:/User...|\n",
      "|4000005|[Alice, Bob, Char...|17183869192|  -99999.7|                0|        |delta.`file:/User...|\n",
      "|4000006|[Alice, Bob, Char...|17183869193| -99999.65|                0|        |delta.`file:/User...|\n",
      "|4000007|[Alice, Bob, Char...|17183869194|  -99999.6|                0|        |delta.`file:/User...|\n",
      "|4000008|[Alice, Bob, Char...|17183869195| -99999.55|                0|        |delta.`file:/User...|\n",
      "|4000009|[Alice, Bob, Char...|17183869196|  -99999.5|                0|        |delta.`file:/User...|\n",
      "|4000010|[Alice, Bob, Char...|17183869197| -99999.45|                0|        |delta.`file:/User...|\n",
      "|4000011|[Alice, Bob, Char...|17183869198|  -99999.4|                0|        |delta.`file:/User...|\n",
      "|4000012|[Alice, Bob, Char...|17183869199| -99999.35|                0|        |delta.`file:/User...|\n",
      "|4000013|[Alice, Bob, Char...|17183869200|  -99999.3|                0|        |delta.`file:/User...|\n",
      "|4000014|[Alice, Bob, Char...|17183869201| -99999.25|                0|        |delta.`file:/User...|\n",
      "|4000015|[Alice, Bob, Char...|17183869202|  -99999.2|                0|        |delta.`file:/User...|\n",
      "|4000016|[Alice, Bob, Char...|17183869203| -99999.15|                0|        |delta.`file:/User...|\n",
      "|4000017|[Alice, Bob, Char...|17183869204|  -99999.1|                0|        |delta.`file:/User...|\n",
      "|4000018|[Alice, Bob, Char...|17183869205| -99999.05|                0|        |delta.`file:/User...|\n",
      "|4000019|[Alice, Bob, Char...|17183869206|  -99999.0|                0|        |delta.`file:/User...|\n",
      "+-------+--------------------+-----------+----------+-----------------+--------+--------------------+\n",
      "only showing top 20 rows\n",
      "Response time: 0.5831758975982666 ms\n"
     ]
    }
   ],
   "source": [
    "%%jsoniq -df -t\n",
    "delta-file(\"foobar\")"
   ]
  },
  {
   "cell_type": "code",
   "execution_count": 35,
   "metadata": {},
   "outputs": [
    {
     "name": "stdout",
     "output_type": "stream",
     "text": [
      "Updates applied successfully.\n",
      "Response time: 1.647326946258545 ms\n"
     ]
    }
   ],
   "source": [
    "%%jsoniq -u -t\n",
    "edit delta-file(\"foobar\")[$$.foo eq 1400000] into { \"foo\" : 17000000, \"bar\" : [ \"Alice\", \"Bob\", \"Daniel\" ] } in collection"
   ]
  },
  {
   "cell_type": "code",
   "execution_count": 36,
   "metadata": {},
   "outputs": [
    {
     "name": "stdout",
     "output_type": "stream",
     "text": [
      "+-------+--------------------+-----------+----------+-----------------+--------+--------------------+\n",
      "|    foo|                 bar|    __rowID|__rowOrder|__mutabilityLevel|__pathIn|     __tableLocation|\n",
      "+-------+--------------------+-----------+----------+-----------------+--------+--------------------+\n",
      "|4000000|[Alice, Bob, Char...|17183869187| -99999.95|                0|        |delta.`file:/User...|\n",
      "|4000001|[Alice, Bob, Char...|17183869188|  -99999.9|                0|        |delta.`file:/User...|\n",
      "|4000002|[Alice, Bob, Char...|17183869189| -99999.85|                0|        |delta.`file:/User...|\n",
      "|4000003|[Alice, Bob, Char...|17183869190|  -99999.8|                0|        |delta.`file:/User...|\n",
      "|4000004|[Alice, Bob, Char...|17183869191| -99999.75|                0|        |delta.`file:/User...|\n",
      "|4000005|[Alice, Bob, Char...|17183869192|  -99999.7|                0|        |delta.`file:/User...|\n",
      "|4000006|[Alice, Bob, Char...|17183869193| -99999.65|                0|        |delta.`file:/User...|\n",
      "|4000007|[Alice, Bob, Char...|17183869194|  -99999.6|                0|        |delta.`file:/User...|\n",
      "|4000008|[Alice, Bob, Char...|17183869195| -99999.55|                0|        |delta.`file:/User...|\n",
      "|4000009|[Alice, Bob, Char...|17183869196|  -99999.5|                0|        |delta.`file:/User...|\n",
      "|4000010|[Alice, Bob, Char...|17183869197| -99999.45|                0|        |delta.`file:/User...|\n",
      "|4000011|[Alice, Bob, Char...|17183869198|  -99999.4|                0|        |delta.`file:/User...|\n",
      "|4000012|[Alice, Bob, Char...|17183869199| -99999.35|                0|        |delta.`file:/User...|\n",
      "|4000013|[Alice, Bob, Char...|17183869200|  -99999.3|                0|        |delta.`file:/User...|\n",
      "|4000014|[Alice, Bob, Char...|17183869201| -99999.25|                0|        |delta.`file:/User...|\n",
      "|4000015|[Alice, Bob, Char...|17183869202|  -99999.2|                0|        |delta.`file:/User...|\n",
      "|4000016|[Alice, Bob, Char...|17183869203| -99999.15|                0|        |delta.`file:/User...|\n",
      "|4000017|[Alice, Bob, Char...|17183869204|  -99999.1|                0|        |delta.`file:/User...|\n",
      "|4000018|[Alice, Bob, Char...|17183869205| -99999.05|                0|        |delta.`file:/User...|\n",
      "|4000019|[Alice, Bob, Char...|17183869206|  -99999.0|                0|        |delta.`file:/User...|\n",
      "+-------+--------------------+-----------+----------+-----------------+--------+--------------------+\n",
      "only showing top 20 rows\n",
      "Response time: 0.5863802433013916 ms\n"
     ]
    }
   ],
   "source": [
    "%%jsoniq -df -t\n",
    "delta-file(\"foobar\")"
   ]
  },
  {
   "cell_type": "code",
   "execution_count": 37,
   "metadata": {},
   "outputs": [
    {
     "name": "stdout",
     "output_type": "stream",
     "text": [
      "Updates applied successfully.\n",
      "Response time: 0.03163290023803711 ms\n"
     ]
    }
   ],
   "source": [
    "%%jsoniq -u -t\n",
    "delete collection delta-file(\"foobar\")"
   ]
  },
  {
   "cell_type": "code",
   "execution_count": null,
   "metadata": {},
   "outputs": [],
   "source": []
  }
 ],
 "metadata": {
  "anaconda-cloud": {},
  "kernelspec": {
   "display_name": "Python 3 (ipykernel)",
   "language": "python",
   "name": "python3"
  },
  "language_info": {
   "codemirror_mode": {
    "name": "ipython",
    "version": 3
   },
   "file_extension": ".py",
   "mimetype": "text/x-python",
   "name": "python",
   "nbconvert_exporter": "python",
   "pygments_lexer": "ipython3",
   "version": "3.11.9"
  }
 },
 "nbformat": 4,
 "nbformat_minor": 4
}
